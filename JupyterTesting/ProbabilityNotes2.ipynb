{
 "metadata": {
  "language_info": {
   "codemirror_mode": {
    "name": "ipython",
    "version": 3
   },
   "file_extension": ".py",
   "mimetype": "text/x-python",
   "name": "python",
   "nbconvert_exporter": "python",
   "pygments_lexer": "ipython3",
   "version": "3.8.5-final"
  },
  "orig_nbformat": 2,
  "kernelspec": {
   "name": "python3",
   "display_name": "Python 3.8.5 32-bit",
   "metadata": {
    "interpreter": {
     "hash": "e3bbcb9a6fd2ab68e94ff1d15d6de39a41c0b5aedd7b4f686603a77d8a0eeca2"
    }
   }
  }
 },
 "nbformat": 4,
 "nbformat_minor": 2,
 "cells": [
  {
   "cell_type": "code",
   "execution_count": 120,
   "metadata": {},
   "outputs": [],
   "source": [
    "import itertools\n",
    "import matplotlib_venn \n",
    "import matplotlib.pyplot as plt\n",
    "\n",
    "class perm:\n",
    "    def __init__(self, elementos):\n",
    "        self.elementosDelProblema = []\n",
    "        for e in elementos:\n",
    "            self.elementosDelProblema.append(e)\n",
    "        self.permutacionesSinRepetirElementos = []\n",
    "        self.permutacionesRepitiendoElementos = []\n",
    "        self.listaCondPorLongitudRes = []\n",
    "        self.listaCondTodosDiferentes = []\n",
    "        self.listaCondTodosIguales = []\n",
    "        self.listaCondCantidadIguales = []\n",
    "        self.listaCondCantidadElemento = []\n",
    "        self.listaCondLugarElemento = []\n",
    "        self.listaCondEliminarJuntos = []\n",
    "        self.listaCondHastaEncontrar = []\n",
    "        self.permutacionesRepitiendoCantidades = []\n",
    "        self.listaCondConteoOrdenadoMayor = []\n",
    "\n",
    "    def permSR(self):\n",
    "        self.permutacionesSinRepetirElementos = []\n",
    "        self.permutacionesSinRepetirElementos = list(itertools.permutations(self.elementosDelProblema, None))\n",
    "        return self.permutacionesSinRepetirElementos\n",
    "\n",
    "    def permR(self, repeticiones=None):\n",
    "        self.permutacionesRepitiendoElementos = []\n",
    "        rep = 0\n",
    "        if repeticiones==None:\n",
    "            rep = len(self.elementosDelProblema)\n",
    "        else:\n",
    "            rep = repeticiones\n",
    "        self.permutacionesRepitiendoElementos = [e for e in itertools.product(self.elementosDelProblema, repeat=rep)]\n",
    "        return self.permutacionesRepitiendoElementos\n",
    "\n",
    "    def permRCantidades(self, cantidades):\n",
    "        lista = self.permR(sum(cantidades))\n",
    "        indexCantidad = -1\n",
    "        self.permutacionesRepitiendoElementos = []\n",
    "        for cantidad in cantidades:\n",
    "            indexCantidad += 1\n",
    "            lista = self.condCantidadElementoRep(cantidad, self.elementosDelProblema[indexCantidad] , lista)\n",
    "        self.permutacionesRepitiendoCantidades = lista\n",
    "        return self.permutacionesRepitiendoCantidades\n",
    "\n",
    "    def condLongitudRes(self, longitud, lista):\n",
    "        self.listaCondPorLongitudRes = []\n",
    "        for resultado in lista:\n",
    "            if len(resultado) == longitud:\n",
    "                self.listaCondPorLongitudRes.append(resultado)\n",
    "        return self.listaCondPorLongitudRes\n",
    "\n",
    "    def condTodosDiferentesRes(self, lista):\n",
    "        self.listaCondTodosDiferentes = []\n",
    "        for resultado in lista:\n",
    "            existeDiferencia = (len(set(resultado))==len(resultado))\n",
    "            if existeDiferencia == True:\n",
    "                self.listaCondTodosDiferentes.append(resultado)\n",
    "        return self.listaCondTodosDiferentes\n",
    "\n",
    "    def condTodosIgualesRes(self, lista):\n",
    "        self.listaCondTodosIguales = []\n",
    "        for resultado in lista:\n",
    "            existeIgualdad = (all(e==resultado[0] for e in resultado))\n",
    "            if existeIgualdad == True:\n",
    "                self.listaCondTodosIguales.append(resultado)\n",
    "        return self.listaCondTodosIguales\n",
    "\n",
    "    def condCantidadResIguales(self, cantidad, lista):\n",
    "        self.listaCondCantidadIguales = []\n",
    "        for resultado in lista:\n",
    "            for elemento in self.elementosDelProblema:\n",
    "                cantidadElemento = resultado.count(elemento)\n",
    "                if cantidadElemento == cantidad:\n",
    "                    self.listaCondCantidadIguales.append(resultado)\n",
    "        return self.listaCondCantidadIguales\n",
    "\n",
    "    def condCantidadElementoRep(self, cantidad, elemento, lista, minimo=False, maximo=False):\n",
    "        self.listaCondCantidadElemento = []\n",
    "        for resultado in lista:\n",
    "            cantidadElemento = resultado.count(elemento)\n",
    "            if minimo == False and maximo == False:\n",
    "                if cantidadElemento == cantidad:\n",
    "                    self.listaCondCantidadElemento.append(resultado)\n",
    "            else:\n",
    "                if minimo != False and cantidadElemento >= minimo:\n",
    "                    self.listaCondCantidadElemento.append(resultado)\n",
    "                elif maximo != False and cantidadElemento <= maximo:\n",
    "                    self.listaCondCantidadElemento.append(resultado)\n",
    "        return self.listaCondCantidadElemento\n",
    "\n",
    "    def condLugarElementoRep(self, lugares, elemento, lista):\n",
    "        self.listaCondLugarElemento = []\n",
    "        for index in lugares:\n",
    "            for resultado in lista:\n",
    "                if resultado[index] == elemento:\n",
    "                    self.listaCondLugarElemento.append(resultado)\n",
    "        return self.listaCondLugarElemento\n",
    "\n",
    "    def condEliminarJuntos(self, e1, e2, lista, lugares = None):\n",
    "        lugarScope = lugares\n",
    "        self.listaCondEliminarJuntosLugar = lista\n",
    "        listaIndexEliminar = []\n",
    "        if lugares == None:\n",
    "            for res in lista:\n",
    "                noEsUltimoElemento = i != (len(resultado)-1)\n",
    "                for i in range(len(resultado)):\n",
    "                    if noEsUltimoElemento:\n",
    "                        if ((res[e] == e1)and(res[e+1] == e2))or((res[e] == e2)and(res[e+1] == e1)):\n",
    "                            listaIndexEliminar.append(lista.index(res))\n",
    "        else:\n",
    "            l1 = lugarScope[0]\n",
    "            l2 = lugarScope[1]\n",
    "            for res in lista:\n",
    "                if ((res[l1] == e1)and(res[l2] == e2))or((res[l1] == e2)and(res[l2] == e1)):\n",
    "                    listaIndexEliminar.append(lista.index(res))\n",
    "        for index in sorted(listaIndexEliminar, reverse=True):\n",
    "            del self.listaCondEliminarJuntosLugar[index]\n",
    "        return self.listaCondEliminarJuntosLugar\n",
    "\n",
    "    def condHastaEncontrarElemento(self, elementos, lista):\n",
    "        self.listaCondHastaEncontrar = lista\n",
    "        listaElementosMantener = []\n",
    "        for resultado in self.listaCondHastaEncontrar:\n",
    "            nuevoResultado = []\n",
    "            resultadoTerminado = False\n",
    "            for elemento in resultado:\n",
    "                if resultadoTerminado == False:\n",
    "                    for eValido in elementos:\n",
    "                        if (elemento == eValido) and (elemento not in nuevoResultado):\n",
    "                            nuevoResultado.append(elemento)\n",
    "                            resultadoTerminado = True\n",
    "                        elif (resultadoTerminado == False) and (elemento not in nuevoResultado) and (elemento not in elementos):\n",
    "                            nuevoResultado.append(elemento)\n",
    "            nuevoTuple = tuple(nuevoResultado)\n",
    "            if nuevoTuple not in listaElementosMantener:\n",
    "                listaElementosMantener.append(nuevoTuple)\n",
    "        self.listaCondHastaEncontrar = listaElementosMantener\n",
    "        return self.listaCondHastaEncontrar\n",
    "\n",
    "    def condConteoMayor(self, mayor, menor, lista):\n",
    "        self.listaCondConteoOrdenadoMayor = []\n",
    "        conteoMayor = 0\n",
    "        conteoMenor = 0\n",
    "        for resultado in lista:\n",
    "            conteoFueMayor = True\n",
    "            for elemento in resultado:\n",
    "                if elemento == mayor:\n",
    "                    conteoMayor += 1\n",
    "                if elemento == menor:\n",
    "                    conteoMenor += 1\n",
    "                if conteoMayor <= conteoMenor:\n",
    "                    conteoFueMayor = False\n",
    "            if conteoFueMayor == True:\n",
    "                self.listaCondConteoOrdenadoMayor.append(resultado)\n",
    "            conteoMayor = 0\n",
    "            conteoMenor = 0\n",
    "        return self.listaCondConteoOrdenadoMayor\n",
    "\n"
   ]
  },
  {
   "cell_type": "code",
   "execution_count": 121,
   "metadata": {},
   "outputs": [
    {
     "output_type": "stream",
     "name": "stdout",
     "text": [
      "Resultados: 16\nResultados en A: 4\nResultados en B: 8\nUnion AB: 12\nInterseccion AB: 0\nComplemento A: 12\n"
     ]
    }
   ],
   "source": [
    "# 4 Elementos (A,B,C,D). De AB gana uno. De CD gana uno.\n",
    "# Los dos que ganan compiten entre si por el primer lugar.\n",
    "# S = Resultados en orden de ganadores de izquierda a derecha (x4)\n",
    "# Nota: AB no pueden estar en la final, CD no pueden estar en la final.\n",
    "# a) Obtener resultados\n",
    "# b) Obtener Evento A en donde A gana el torneo (lugar 1)\n",
    "# c) Obtener Evento B en donde B queda en primero o segundo lugar (lugar 1 o 2)\n",
    "# d) Union AB, inteseccion AB, complemento A\n",
    "\n",
    "P1 = perm([\"A\", \"B\", \"C\", \"D\"])\n",
    "permu = P1.permSR()\n",
    "permu1 = P1.condEliminarJuntos(\"A\", \"B\", permu, [0,1])\n",
    "permu2 = P1.condEliminarJuntos(\"C\", \"D\", permu1, [0,1])\n",
    "print(\"Resultados:\", len(permu2))\n",
    "EventoA = P1.condLugarElementoRep([0],\"A\",permu2)\n",
    "print(\"Resultados en A:\", len(EventoA))\n",
    "EventoB = P1.condLugarElementoRep([0,1],\"B\",permu2)\n",
    "print(\"Resultados en B:\", len(EventoB))\n",
    "print(\"Union AB:\", len(set(EventoA).union(set(EventoB))))\n",
    "print(\"Interseccion AB:\", len(set(EventoA).intersection(set(EventoB))))\n",
    "print(\"Complemento A:\", len(set(permu2).difference(set(EventoA))))"
   ]
  },
  {
   "cell_type": "code",
   "execution_count": 122,
   "metadata": {},
   "outputs": [
    {
     "output_type": "stream",
     "name": "stdout",
     "text": [
      "Resultados: 27\nResultados en A: 3\nResultados en B: 6\nResultados en C: 6\nResultados en D: 18\nComplemento D: 9\nUnion CD: 18\nInterseccion CD: 6\n"
     ]
    }
   ],
   "source": [
    "# 3 Elementos pueden ser (R,L,S). S = Resultados (x3) con repetidos.\n",
    "# a) Evento A en donde todos los elementos son iguales.\n",
    "# b) Evento B en donde todos los elementos son diferentes.\n",
    "# c) Evento C en donde 2 elementos de los 3 elementos son R\n",
    "# d) Evento D en donde 2 elementos de los 3 elementos son iguales\n",
    "# e) Complemento D, Union CD, Interseccion CD\n",
    "\n",
    "P2 = perm([\"R\", \"L\", \"S\"])\n",
    "permu = P2.permR()\n",
    "print(\"Resultados:\", len(permu))\n",
    "EventoA = P2.condTodosIgualesRes(permu)\n",
    "print(\"Resultados en A:\", len(EventoA))\n",
    "EventoB = P2.condTodosDiferentesRes(permu)\n",
    "print(\"Resultados en B:\", len(EventoB))\n",
    "EventoC = P2.condCantidadElementoRep(2, \"R\", permu)\n",
    "print(\"Resultados en C:\", len(EventoC))\n",
    "EventoD = P2.condCantidadResIguales(2, permu)\n",
    "print(\"Resultados en D:\", len(EventoD))\n",
    "print(\"Complemento D:\", len(set(permu).difference(set(EventoD))))\n",
    "print(\"Union CD:\", len(set(EventoC).union(set(EventoD))))\n",
    "print(\"Interseccion CD:\", len(set(EventoC).intersection(set(EventoD))))"
   ]
  },
  {
   "cell_type": "code",
   "execution_count": 123,
   "metadata": {},
   "outputs": [
    {
     "output_type": "stream",
     "name": "stdout",
     "text": [
      "Resultados: 8\nResultados en A: 3\nResultados en B: 4\nResultados en C: 3\nComplemento C: 5\nUnion AC: 4\nInterseccion AC: 2\nUnion BC: 4\nInterseccion BC: 3\n"
     ]
    }
   ],
   "source": [
    "# 3 Elementos pueden ser (S,F). S = Resultados (x3) con repetidos.\n",
    "# Resultado es S solo si el lugar 1 es S y alguno de los dos restantes son S.\n",
    "# a) Evento A en donde 2 elementos son S\n",
    "# b) Evento B en donde (minimo) 2 elementos son S\n",
    "# c) Evento C en donde el resultado es S\n",
    "# d) Complemento C, Union AC, Interseccion AC, Union BC, Interseccion BC\n",
    "\n",
    "P3 = perm([\"S\", \"F\"])\n",
    "permu = P3.permR(3)\n",
    "print(\"Resultados:\", len(permu))\n",
    "EventoA = P3.condCantidadElementoRep(2, \"S\", permu)\n",
    "print(\"Resultados en A:\", len(EventoA))\n",
    "EventoB = P3.condCantidadElementoRep(2, \"S\", permu, minimo=2)\n",
    "print(\"Resultados en B:\", len(EventoB))\n",
    "EventoC1 = P3.condLugarElementoRep([0], \"S\", permu)\n",
    "EventoC2 = P3.condLugarElementoRep([1,2], \"S\", permu)\n",
    "EventoC = set(EventoC1).intersection(set(EventoC2))\n",
    "print(\"Resultados en C:\", len(EventoC))\n",
    "print(\"Complemento C:\", len(set(permu).difference(set(EventoC))))\n",
    "print(\"Union AC:\", len(set(EventoA).union(set(EventoC))))\n",
    "print(\"Interseccion AC:\", len(set(EventoA).intersection(set(EventoC))))\n",
    "print(\"Union BC:\", len(set(EventoB).union(set(EventoC))))\n",
    "print(\"Interseccion BC:\", len(set(EventoB).intersection(set(EventoC))))"
   ]
  },
  {
   "cell_type": "code",
   "execution_count": 124,
   "metadata": {},
   "outputs": [
    {
     "output_type": "stream",
     "name": "stdout",
     "text": [
      "Resultados: 16\nResultados en A: 4\nResultados en B: 2\nResultados en C: 5\nUnion BC: 6\nInterseccion BC: 1\nUnion AB: 6\nInterseccion AB: 0\n"
     ]
    }
   ],
   "source": [
    "# 4 Elementos pueden ser (F,V). S = Resultados (x4) con repetidos.\n",
    "# a) Obtener resultados\n",
    "# b) Evento A en donde 3 de los elementos son F\n",
    "# c) Evento B en donde todos elementos son iguales\n",
    "# d) Evento C en donde (maximo) 1 elemento es V\n",
    "# e) Union BC, Interseccion BC, Union AC, Interseccion AC\n",
    "\n",
    "P4 = perm([\"F\", \"V\"])\n",
    "permu = P4.permR(4)\n",
    "print(\"Resultados:\", len(permu))\n",
    "EventoA = P4.condCantidadElementoRep(3,\"F\",permu)\n",
    "print(\"Resultados en A:\", len(EventoA))\n",
    "EventoB = P4.condTodosIgualesRes(permu)\n",
    "print(\"Resultados en B:\", len(EventoB))\n",
    "EventoC = P4.condCantidadElementoRep(1,\"V\",permu, maximo=1)\n",
    "print(\"Resultados en C:\", len(EventoC))\n",
    "print(\"Union BC:\", len(set(EventoB).union(set(EventoC))))\n",
    "print(\"Interseccion BC:\", len(set(EventoB).intersection(set(EventoC))))\n",
    "print(\"Union AB:\", len(set(EventoA).union(set(EventoB))))\n",
    "print(\"Interseccion AB:\", len(set(EventoA).intersection(set(EventoB))))"
   ]
  },
  {
   "cell_type": "code",
   "execution_count": 125,
   "metadata": {},
   "outputs": [
    {
     "output_type": "stream",
     "name": "stdout",
     "text": [
      "Resultados: 27\nResultados en A: 3\nResultados en B: 6\nResultados en C: 8\n"
     ]
    }
   ],
   "source": [
    "# 3 elementos ordenados (A,B,C) asignadas (1,2,3) lugares.\n",
    "# S = Resultados (x3) lugares asignados a cada elemento.\n",
    "# a) Obtener resultados\n",
    "# b) Evento A en donde todos son iguales\n",
    "# c) Evento B en donde todos son diferentes\n",
    "# d) Evento C en donde ninguno es 2\n",
    "\n",
    "P5 = perm([\"1\",\"2\",\"3\"])\n",
    "permu = P5.permR(3)\n",
    "print(\"Resultados:\", len(permu))\n",
    "EventoA = P5.condTodosIgualesRes(permu)\n",
    "print(\"Resultados en A:\", len(EventoA))\n",
    "EventoB = P5.condTodosDiferentesRes(permu)\n",
    "print(\"Resultados en B:\", len(EventoB))\n",
    "EventoC = P5.condCantidadElementoRep(0,\"2\",permu)\n",
    "print(\"Resultados en C:\", len(EventoC))"
   ]
  },
  {
   "cell_type": "code",
   "execution_count": 126,
   "metadata": {},
   "outputs": [
    {
     "output_type": "stream",
     "name": "stdout",
     "text": [
      "Resultados: 15\nResultados en A: 3\nResultados en B: 5\nResultados en C: 6\n"
     ]
    }
   ],
   "source": [
    "# 5 elementos (1,2,3,4,5). (1,2) tipo A. (3,4,5) tipo B.\n",
    "# Resultados (x1 a x5) sacando de uno a uno sin repetir. Se detiene resultado cuando se saca uno tipo B.\n",
    "# a) Obtener resultados\n",
    "# b) Evento A en donde resultado tienen un elemento.\n",
    "# c) Evento B en donde el ultimo es 5\n",
    "# d) Evento C en donde ninguno es 1\n",
    "\n",
    "P6 = perm([\"1\",\"2\",\"3\",\"4\",\"5\"])\n",
    "permu = P6.permSR()\n",
    "permu2 = P6.condHastaEncontrarElemento([\"3\",\"4\",\"5\"], permu)\n",
    "print(\"Resultados:\", len(permu2))\n",
    "EventoA = P6.condLongitudRes(1, permu2)\n",
    "print(\"Resultados en A:\", len(EventoA))\n",
    "EventoB = P6.condCantidadElementoRep(1,\"5\",permu2)\n",
    "print(\"Resultados en B:\", len(EventoB))\n",
    "EventoC = P6.condCantidadElementoRep(0,\"1\",permu2)\n",
    "print(\"Resultados en C:\", len(EventoC))"
   ]
  },
  {
   "cell_type": "code",
   "execution_count": 127,
   "metadata": {},
   "outputs": [
    {
     "output_type": "stream",
     "name": "stdout",
     "text": [
      "Resultados: 35\nResultados en A: 5\n"
     ]
    }
   ],
   "source": [
    "# Caja con 4 elementos A y 3 elementos B. Se van seleccionando uno por uno.\n",
    "# Resultados (x7). \n",
    "# a) Obtener resultados\n",
    "# b) Evento A en donde conteo de A siempre es mayor a B.\n",
    "\n",
    "P7 = perm([\"A\",\"B\"])\n",
    "permu = P7.permRCantidades([4,3])\n",
    "print(\"Resultados:\", len(permu))\n",
    "EventoA = P7.condConteoMayor(\"A\", \"B\", permu)\n",
    "print(\"Resultados en A:\", len(EventoA))"
   ]
  },
  {
   "cell_type": "code",
   "execution_count": 128,
   "metadata": {},
   "outputs": [
    {
     "output_type": "display_data",
     "data": {
      "text/plain": "<Figure size 720x360 with 5 Axes>",
      "image/svg+xml": "<?xml version=\"1.0\" encoding=\"utf-8\" standalone=\"no\"?>\r\n<!DOCTYPE svg PUBLIC \"-//W3C//DTD SVG 1.1//EN\"\r\n  \"http://www.w3.org/Graphics/SVG/1.1/DTD/svg11.dtd\">\r\n<!-- Created with matplotlib (https://matplotlib.org/) -->\r\n<svg height=\"117.328822pt\" version=\"1.1\" viewBox=\"0 0 572.4 117.328822\" width=\"572.4pt\" xmlns=\"http://www.w3.org/2000/svg\" xmlns:xlink=\"http://www.w3.org/1999/xlink\">\r\n <metadata>\r\n  <rdf:RDF xmlns:cc=\"http://creativecommons.org/ns#\" xmlns:dc=\"http://purl.org/dc/elements/1.1/\" xmlns:rdf=\"http://www.w3.org/1999/02/22-rdf-syntax-ns#\">\r\n   <cc:Work>\r\n    <dc:type rdf:resource=\"http://purl.org/dc/dcmitype/StillImage\"/>\r\n    <dc:date>2021-03-14T00:08:32.032983</dc:date>\r\n    <dc:format>image/svg+xml</dc:format>\r\n    <dc:creator>\r\n     <cc:Agent>\r\n      <dc:title>Matplotlib v3.3.4, https://matplotlib.org/</dc:title>\r\n     </cc:Agent>\r\n    </dc:creator>\r\n   </cc:Work>\r\n  </rdf:RDF>\r\n </metadata>\r\n <defs>\r\n  <style type=\"text/css\">*{stroke-linecap:butt;stroke-linejoin:round;}</style>\r\n </defs>\r\n <g id=\"figure_1\">\r\n  <g id=\"patch_1\">\r\n   <path d=\"M 0 117.328822 \r\nL 572.4 117.328822 \r\nL 572.4 -0 \r\nL 0 -0 \r\nz\r\n\" style=\"fill:none;\"/>\r\n  </g>\r\n  <g id=\"axes_1\">\r\n   <g id=\"patch_2\">\r\n    <path clip-path=\"url(#p524be1d84f)\" d=\"M 55.303448 18.820378 \r\nC 48.682499 15.896496 41.20864 15.521799 34.328451 17.768813 \r\nC 27.448262 20.015826 21.636249 24.72958 18.017339 30.997717 \r\nC 14.398428 37.265855 13.222204 44.656082 14.716327 51.738007 \r\nC 16.210451 58.819932 20.271877 65.105135 26.114509 69.377105 \r\nC 25.560357 64.253757 26.364753 59.073684 28.446518 54.359659 \r\nC 30.528282 49.645634 33.814946 45.561757 37.974819 42.520174 \r\nC 38.528971 37.396826 40.42238 32.508553 43.463963 28.34868 \r\nC 46.505546 24.188807 50.589423 20.902143 55.303448 18.820378 \r\n\" style=\"fill:#ff0000;opacity:0.4;\"/>\r\n   </g>\r\n   <g id=\"patch_3\">\r\n    <path clip-path=\"url(#p524be1d84f)\" d=\"M 55.303448 18.820378 \r\nC 60.017473 20.902143 64.10135 24.188807 67.142933 28.34868 \r\nC 70.184517 32.508553 72.077926 37.396826 72.632077 42.520174 \r\nC 76.791951 45.561757 80.078615 49.645634 82.160379 54.359659 \r\nC 84.242143 59.073684 85.046539 64.253757 84.492388 69.377105 \r\nC 90.335019 65.105135 94.396445 58.819932 95.890569 51.738007 \r\nC 97.384693 44.656082 96.208469 37.265855 92.589558 30.997717 \r\nC 88.970647 24.72958 83.158634 20.015826 76.278446 17.768813 \r\nC 69.398257 15.521799 61.924398 15.896496 55.303448 18.820378 \r\n\" style=\"fill:#008000;opacity:0.4;\"/>\r\n   </g>\r\n   <g id=\"patch_4\">\r\n    <path clip-path=\"url(#p524be1d84f)\" d=\"M 55.303448 18.820378 \r\nC 50.589423 20.902143 46.505546 24.188807 43.463963 28.34868 \r\nC 40.42238 32.508553 38.528971 37.396826 37.974819 42.520174 \r\nC 43.003415 38.843405 49.07405 36.860785 55.303448 36.860785 \r\nC 61.532846 36.860785 67.603482 38.843405 72.632077 42.520174 \r\nC 72.077926 37.396826 70.184517 32.508553 67.142933 28.34868 \r\nC 64.10135 24.188807 60.017473 20.902143 55.303448 18.820378 \r\n\" style=\"fill:#b25900;opacity:0.4;\"/>\r\n   </g>\r\n   <g id=\"patch_5\">\r\n    <path clip-path=\"url(#p524be1d84f)\" d=\"M 26.114509 69.377105 \r\nC 26.892827 76.572957 30.30526 83.232857 35.691325 88.067768 \r\nC 41.07739 92.902679 48.065627 95.579153 55.303448 95.579153 \r\nC 62.54127 95.579153 69.529507 92.902679 74.915572 88.067768 \r\nC 80.301637 83.232857 83.71407 76.572957 84.492388 69.377105 \r\nC 80.332514 72.418688 75.444242 74.312097 70.320894 74.866249 \r\nC 65.197546 75.4204 60.017473 74.616004 55.303448 72.53424 \r\nC 50.589423 74.616004 45.40935 75.4204 40.286003 74.866249 \r\nC 35.162655 74.312097 30.274382 72.418688 26.114509 69.377105 \r\n\" style=\"fill:#0000ff;opacity:0.4;\"/>\r\n   </g>\r\n   <g id=\"patch_6\">\r\n    <path clip-path=\"url(#p524be1d84f)\" d=\"M 26.114509 69.377105 \r\nC 30.274382 72.418688 35.162655 74.312097 40.286003 74.866249 \r\nC 45.40935 75.4204 50.589423 74.616004 55.303448 72.53424 \r\nC 49.604975 70.017733 44.852659 65.751718 41.737959 60.356901 \r\nC 38.62326 54.962084 37.304942 48.71345 37.974819 42.520174 \r\nC 33.814946 45.561757 30.528282 49.645634 28.446518 54.359659 \r\nC 26.364753 59.073684 25.560357 64.253757 26.114509 69.377105 \r\n\" style=\"fill:#b200b2;opacity:0.4;\"/>\r\n   </g>\r\n   <g id=\"patch_7\">\r\n    <path clip-path=\"url(#p524be1d84f)\" d=\"M 72.632077 42.520174 \r\nC 73.301955 48.71345 71.983636 54.962084 68.868937 60.356901 \r\nC 65.754238 65.751718 61.001921 70.017733 55.303448 72.53424 \r\nC 60.017473 74.616004 65.197546 75.4204 70.320894 74.866249 \r\nC 75.444242 74.312097 80.332514 72.418688 84.492388 69.377105 \r\nC 85.046539 64.253757 84.242143 59.073684 82.160379 54.359659 \r\nC 80.078615 49.645634 76.791951 45.561757 72.632077 42.520174 \r\n\" style=\"fill:#0059b2;opacity:0.4;\"/>\r\n   </g>\r\n   <g id=\"patch_8\">\r\n    <path clip-path=\"url(#p524be1d84f)\" d=\"M 37.974819 42.520174 \r\nC 37.304942 48.71345 38.62326 54.962084 41.737959 60.356901 \r\nC 44.852659 65.751718 49.604975 70.017733 55.303448 72.53424 \r\nC 61.001921 70.017733 65.754238 65.751718 68.868937 60.356901 \r\nC 71.983636 54.962084 73.301955 48.71345 72.632077 42.520174 \r\nC 67.603482 38.843405 61.532846 36.860785 55.303448 36.860785 \r\nC 49.07405 36.860785 43.003415 38.843405 37.974819 42.520174 \r\n\" style=\"fill:#663366;opacity:0.4;\"/>\r\n   </g>\r\n   <g id=\"patch_9\">\r\n    <path clip-path=\"url(#p524be1d84f)\" d=\"M 43.443138 75.036493 \r\nC 51.229284 75.036493 58.697579 71.943024 64.203216 66.437387 \r\nC 69.708853 60.93175 72.802322 53.463456 72.802322 45.677309 \r\nC 72.802322 37.891162 69.708853 30.422868 64.203216 24.917231 \r\nC 58.697579 19.411594 51.229284 16.318125 43.443138 16.318125 \r\nC 35.656991 16.318125 28.188697 19.411594 22.68306 24.917231 \r\nC 17.177423 30.422868 14.083954 37.891162 14.083954 45.677309 \r\nC 14.083954 53.463456 17.177423 60.93175 22.68306 66.437387 \r\nC 28.188697 71.943024 35.656991 75.036493 43.443138 75.036493 \r\nz\r\n\" style=\"fill:none;stroke:#000000;stroke-linejoin:miter;\"/>\r\n   </g>\r\n   <g id=\"patch_10\">\r\n    <path clip-path=\"url(#p524be1d84f)\" d=\"M 67.163759 75.036493 \r\nC 74.949905 75.036493 82.4182 71.943024 87.923837 66.437387 \r\nC 93.429474 60.93175 96.522943 53.463456 96.522943 45.677309 \r\nC 96.522943 37.891162 93.429474 30.422868 87.923837 24.917231 \r\nC 82.4182 19.411594 74.949905 16.318125 67.163759 16.318125 \r\nC 59.377612 16.318125 51.909318 19.411594 46.403681 24.917231 \r\nC 40.898043 30.422868 37.804575 37.891162 37.804575 45.677309 \r\nC 37.804575 53.463456 40.898043 60.93175 46.403681 66.437387 \r\nC 51.909318 71.943024 59.377612 75.036493 67.163759 75.036493 \r\nz\r\n\" style=\"fill:none;stroke:#000000;stroke-linejoin:miter;\"/>\r\n   </g>\r\n   <g id=\"patch_11\">\r\n    <path clip-path=\"url(#p524be1d84f)\" d=\"M 55.303448 95.579153 \r\nC 63.089595 95.579153 70.557889 92.485685 76.063526 86.980048 \r\nC 81.569164 81.47441 84.662632 74.006116 84.662632 66.219969 \r\nC 84.662632 58.433823 81.569164 50.965528 76.063526 45.459891 \r\nC 70.557889 39.954254 63.089595 36.860785 55.303448 36.860785 \r\nC 47.517302 36.860785 40.049007 39.954254 34.54337 45.459891 \r\nC 29.037733 50.965528 25.944264 58.433823 25.944264 66.219969 \r\nC 25.944264 74.006116 29.037733 81.47441 34.54337 86.980048 \r\nC 40.049007 92.485685 47.517302 95.579153 55.303448 95.579153 \r\nz\r\n\" style=\"fill:none;stroke:#000000;stroke-linejoin:miter;\"/>\r\n   </g>\r\n   <g id=\"text_1\">\r\n    <!-- A1 -->\r\n    <g transform=\"translate(12.919796 16.318125)scale(0.12 -0.12)\">\r\n     <defs>\r\n      <path d=\"M 34.1875 63.1875 \r\nL 20.796875 26.90625 \r\nL 47.609375 26.90625 \r\nz\r\nM 28.609375 72.90625 \r\nL 39.796875 72.90625 \r\nL 67.578125 0 \r\nL 57.328125 0 \r\nL 50.6875 18.703125 \r\nL 17.828125 18.703125 \r\nL 11.1875 0 \r\nL 0.78125 0 \r\nz\r\n\" id=\"DejaVuSans-65\"/>\r\n      <path d=\"M 12.40625 8.296875 \r\nL 28.515625 8.296875 \r\nL 28.515625 63.921875 \r\nL 10.984375 60.40625 \r\nL 10.984375 69.390625 \r\nL 28.421875 72.90625 \r\nL 38.28125 72.90625 \r\nL 38.28125 8.296875 \r\nL 54.390625 8.296875 \r\nL 54.390625 0 \r\nL 12.40625 0 \r\nz\r\n\" id=\"DejaVuSans-49\"/>\r\n     </defs>\r\n     <use xlink:href=\"#DejaVuSans-65\"/>\r\n     <use x=\"68.408203\" xlink:href=\"#DejaVuSans-49\"/>\r\n    </g>\r\n   </g>\r\n   <g id=\"text_2\">\r\n    <!-- A2 -->\r\n    <g transform=\"translate(81.843351 16.318125)scale(0.12 -0.12)\">\r\n     <defs>\r\n      <path d=\"M 19.1875 8.296875 \r\nL 53.609375 8.296875 \r\nL 53.609375 0 \r\nL 7.328125 0 \r\nL 7.328125 8.296875 \r\nQ 12.9375 14.109375 22.625 23.890625 \r\nQ 32.328125 33.6875 34.8125 36.53125 \r\nQ 39.546875 41.84375 41.421875 45.53125 \r\nQ 43.3125 49.21875 43.3125 52.78125 \r\nQ 43.3125 58.59375 39.234375 62.25 \r\nQ 35.15625 65.921875 28.609375 65.921875 \r\nQ 23.96875 65.921875 18.8125 64.3125 \r\nQ 13.671875 62.703125 7.8125 59.421875 \r\nL 7.8125 69.390625 \r\nQ 13.765625 71.78125 18.9375 73 \r\nQ 24.125 74.21875 28.421875 74.21875 \r\nQ 39.75 74.21875 46.484375 68.546875 \r\nQ 53.21875 62.890625 53.21875 53.421875 \r\nQ 53.21875 48.921875 51.53125 44.890625 \r\nQ 49.859375 40.875 45.40625 35.40625 \r\nQ 44.1875 33.984375 37.640625 27.21875 \r\nQ 31.109375 20.453125 19.1875 8.296875 \r\nz\r\n\" id=\"DejaVuSans-50\"/>\r\n     </defs>\r\n     <use xlink:href=\"#DejaVuSans-65\"/>\r\n     <use x=\"68.408203\" xlink:href=\"#DejaVuSans-50\"/>\r\n    </g>\r\n   </g>\r\n   <g id=\"text_3\">\r\n    <!-- A3 -->\r\n    <g transform=\"translate(47.381573 107.633197)scale(0.12 -0.12)\">\r\n     <defs>\r\n      <path d=\"M 40.578125 39.3125 \r\nQ 47.65625 37.796875 51.625 33 \r\nQ 55.609375 28.21875 55.609375 21.1875 \r\nQ 55.609375 10.40625 48.1875 4.484375 \r\nQ 40.765625 -1.421875 27.09375 -1.421875 \r\nQ 22.515625 -1.421875 17.65625 -0.515625 \r\nQ 12.796875 0.390625 7.625 2.203125 \r\nL 7.625 11.71875 \r\nQ 11.71875 9.328125 16.59375 8.109375 \r\nQ 21.484375 6.890625 26.8125 6.890625 \r\nQ 36.078125 6.890625 40.9375 10.546875 \r\nQ 45.796875 14.203125 45.796875 21.1875 \r\nQ 45.796875 27.640625 41.28125 31.265625 \r\nQ 36.765625 34.90625 28.71875 34.90625 \r\nL 20.21875 34.90625 \r\nL 20.21875 43.015625 \r\nL 29.109375 43.015625 \r\nQ 36.375 43.015625 40.234375 45.921875 \r\nQ 44.09375 48.828125 44.09375 54.296875 \r\nQ 44.09375 59.90625 40.109375 62.90625 \r\nQ 36.140625 65.921875 28.71875 65.921875 \r\nQ 24.65625 65.921875 20.015625 65.03125 \r\nQ 15.375 64.15625 9.8125 62.3125 \r\nL 9.8125 71.09375 \r\nQ 15.4375 72.65625 20.34375 73.4375 \r\nQ 25.25 74.21875 29.59375 74.21875 \r\nQ 40.828125 74.21875 47.359375 69.109375 \r\nQ 53.90625 64.015625 53.90625 55.328125 \r\nQ 53.90625 49.265625 50.4375 45.09375 \r\nQ 46.96875 40.921875 40.578125 39.3125 \r\nz\r\n\" id=\"DejaVuSans-51\"/>\r\n     </defs>\r\n     <use xlink:href=\"#DejaVuSans-65\"/>\r\n     <use x=\"68.408203\" xlink:href=\"#DejaVuSans-51\"/>\r\n    </g>\r\n   </g>\r\n  </g>\r\n  <g id=\"axes_2\">\r\n   <g id=\"patch_12\">\r\n    <path clip-path=\"url(#p3ed8324db7)\" d=\"M 170.751724 18.820378 \r\nC 164.130775 15.896496 156.656915 15.521799 149.776727 17.768813 \r\nC 142.896538 20.015826 137.084525 24.72958 133.465614 30.997717 \r\nC 129.846704 37.265855 128.67048 44.656082 130.164603 51.738007 \r\nC 131.658727 58.819932 135.720153 65.105135 141.562785 69.377105 \r\nC 141.008633 64.253757 141.813029 59.073684 143.894793 54.359659 \r\nC 145.976558 49.645634 149.263222 45.561757 153.423095 42.520174 \r\nC 153.977247 37.396826 155.870656 32.508553 158.912239 28.34868 \r\nC 161.953822 24.188807 166.037699 20.902143 170.751724 18.820378 \r\n\" style=\"fill:#ffffff;opacity:0.4;stroke:#ffffff;stroke-linejoin:miter;\"/>\r\n   </g>\r\n   <g id=\"patch_13\">\r\n    <path clip-path=\"url(#p3ed8324db7)\" d=\"M 170.751724 18.820378 \r\nC 175.465749 20.902143 179.549626 24.188807 182.591209 28.34868 \r\nC 185.632792 32.508553 187.526201 37.396826 188.080353 42.520174 \r\nC 192.240226 45.561757 195.526891 49.645634 197.608655 54.359659 \r\nC 199.690419 59.073684 200.494815 64.253757 199.940664 69.377105 \r\nC 205.783295 65.105135 209.844721 58.819932 211.338845 51.738007 \r\nC 212.832969 44.656082 211.656745 37.265855 208.037834 30.997717 \r\nC 204.418923 24.72958 198.60691 20.015826 191.726721 17.768813 \r\nC 184.846533 15.521799 177.372674 15.896496 170.751724 18.820378 \r\n\" style=\"fill:#ffffff;opacity:0.4;stroke:#ffffff;stroke-linejoin:miter;\"/>\r\n   </g>\r\n   <g id=\"patch_14\">\r\n    <path clip-path=\"url(#p3ed8324db7)\" d=\"M 170.751724 18.820378 \r\nC 166.037699 20.902143 161.953822 24.188807 158.912239 28.34868 \r\nC 155.870656 32.508553 153.977247 37.396826 153.423095 42.520174 \r\nC 158.451691 38.843405 164.522326 36.860785 170.751724 36.860785 \r\nC 176.981122 36.860785 183.051758 38.843405 188.080353 42.520174 \r\nC 187.526201 37.396826 185.632792 32.508553 182.591209 28.34868 \r\nC 179.549626 24.188807 175.465749 20.902143 170.751724 18.820378 \r\n\" style=\"fill:#ffffff;opacity:0.4;stroke:#ffffff;stroke-linejoin:miter;\"/>\r\n   </g>\r\n   <g id=\"patch_15\">\r\n    <path clip-path=\"url(#p3ed8324db7)\" d=\"M 141.562785 69.377105 \r\nC 142.341103 76.572957 145.753536 83.232857 151.139601 88.067768 \r\nC 156.525666 92.902679 163.513902 95.579153 170.751724 95.579153 \r\nC 177.989546 95.579153 184.977783 92.902679 190.363848 88.067768 \r\nC 195.749913 83.232857 199.162346 76.572957 199.940664 69.377105 \r\nC 195.78079 72.418688 190.892517 74.312097 185.76917 74.866249 \r\nC 180.645822 75.4204 175.465749 74.616004 170.751724 72.53424 \r\nC 166.037699 74.616004 160.857626 75.4204 155.734278 74.866249 \r\nC 150.610931 74.312097 145.722658 72.418688 141.562785 69.377105 \r\n\" style=\"fill:#ffffff;opacity:0.4;stroke:#ffffff;stroke-linejoin:miter;\"/>\r\n   </g>\r\n   <g id=\"patch_16\">\r\n    <path clip-path=\"url(#p3ed8324db7)\" d=\"M 141.562785 69.377105 \r\nC 145.722658 72.418688 150.610931 74.312097 155.734278 74.866249 \r\nC 160.857626 75.4204 166.037699 74.616004 170.751724 72.53424 \r\nC 165.053251 70.017733 160.300934 65.751718 157.186235 60.356901 \r\nC 154.071536 54.962084 152.753218 48.71345 153.423095 42.520174 \r\nC 149.263222 45.561757 145.976558 49.645634 143.894793 54.359659 \r\nC 141.813029 59.073684 141.008633 64.253757 141.562785 69.377105 \r\n\" style=\"fill:#ffffff;opacity:0.4;stroke:#ffffff;stroke-linejoin:miter;\"/>\r\n   </g>\r\n   <g id=\"patch_17\">\r\n    <path clip-path=\"url(#p3ed8324db7)\" d=\"M 188.080353 42.520174 \r\nC 188.750231 48.71345 187.431912 54.962084 184.317213 60.356901 \r\nC 181.202514 65.751718 176.450197 70.017733 170.751724 72.53424 \r\nC 175.465749 74.616004 180.645822 75.4204 185.76917 74.866249 \r\nC 190.892517 74.312097 195.78079 72.418688 199.940664 69.377105 \r\nC 200.494815 64.253757 199.690419 59.073684 197.608655 54.359659 \r\nC 195.526891 49.645634 192.240226 45.561757 188.080353 42.520174 \r\n\" style=\"fill:#ffffff;opacity:0.4;stroke:#ffffff;stroke-linejoin:miter;\"/>\r\n   </g>\r\n   <g id=\"patch_18\">\r\n    <path clip-path=\"url(#p3ed8324db7)\" d=\"M 153.423095 42.520174 \r\nC 152.753218 48.71345 154.071536 54.962084 157.186235 60.356901 \r\nC 160.300934 65.751718 165.053251 70.017733 170.751724 72.53424 \r\nC 176.450197 70.017733 181.202514 65.751718 184.317213 60.356901 \r\nC 187.431912 54.962084 188.750231 48.71345 188.080353 42.520174 \r\nC 183.051758 38.843405 176.981122 36.860785 170.751724 36.860785 \r\nC 164.522326 36.860785 158.451691 38.843405 153.423095 42.520174 \r\n\" style=\"fill:#663366;opacity:0.4;\"/>\r\n   </g>\r\n   <g id=\"patch_19\">\r\n    <path clip-path=\"url(#p3ed8324db7)\" d=\"M 158.891414 75.036493 \r\nC 166.67756 75.036493 174.145855 71.943024 179.651492 66.437387 \r\nC 185.157129 60.93175 188.250598 53.463456 188.250598 45.677309 \r\nC 188.250598 37.891162 185.157129 30.422868 179.651492 24.917231 \r\nC 174.145855 19.411594 166.67756 16.318125 158.891414 16.318125 \r\nC 151.105267 16.318125 143.636973 19.411594 138.131336 24.917231 \r\nC 132.625698 30.422868 129.53223 37.891162 129.53223 45.677309 \r\nC 129.53223 53.463456 132.625698 60.93175 138.131336 66.437387 \r\nC 143.636973 71.943024 151.105267 75.036493 158.891414 75.036493 \r\nz\r\n\" style=\"fill:none;stroke:#000000;stroke-linejoin:miter;\"/>\r\n   </g>\r\n   <g id=\"patch_20\">\r\n    <path clip-path=\"url(#p3ed8324db7)\" d=\"M 182.612035 75.036493 \r\nC 190.398181 75.036493 197.866476 71.943024 203.372113 66.437387 \r\nC 208.87775 60.93175 211.971219 53.463456 211.971219 45.677309 \r\nC 211.971219 37.891162 208.87775 30.422868 203.372113 24.917231 \r\nC 197.866476 19.411594 190.398181 16.318125 182.612035 16.318125 \r\nC 174.825888 16.318125 167.357593 19.411594 161.851956 24.917231 \r\nC 156.346319 30.422868 153.25285 37.891162 153.25285 45.677309 \r\nC 153.25285 53.463456 156.346319 60.93175 161.851956 66.437387 \r\nC 167.357593 71.943024 174.825888 75.036493 182.612035 75.036493 \r\nz\r\n\" style=\"fill:none;stroke:#000000;stroke-linejoin:miter;\"/>\r\n   </g>\r\n   <g id=\"patch_21\">\r\n    <path clip-path=\"url(#p3ed8324db7)\" d=\"M 170.751724 95.579153 \r\nC 178.537871 95.579153 186.006165 92.485685 191.511802 86.980048 \r\nC 197.017439 81.47441 200.110908 74.006116 200.110908 66.219969 \r\nC 200.110908 58.433823 197.017439 50.965528 191.511802 45.459891 \r\nC 186.006165 39.954254 178.537871 36.860785 170.751724 36.860785 \r\nC 162.965578 36.860785 155.497283 39.954254 149.991646 45.459891 \r\nC 144.486009 50.965528 141.39254 58.433823 141.39254 66.219969 \r\nC 141.39254 74.006116 144.486009 81.47441 149.991646 86.980048 \r\nC 155.497283 92.485685 162.965578 95.579153 170.751724 95.579153 \r\nz\r\n\" style=\"fill:none;stroke:#000000;stroke-linejoin:miter;\"/>\r\n   </g>\r\n   <g id=\"text_4\">\r\n    <!-- A1 -->\r\n    <g transform=\"translate(128.368072 16.318125)scale(0.12 -0.12)\">\r\n     <use xlink:href=\"#DejaVuSans-65\"/>\r\n     <use x=\"68.408203\" xlink:href=\"#DejaVuSans-49\"/>\r\n    </g>\r\n   </g>\r\n   <g id=\"text_5\">\r\n    <!-- A2 -->\r\n    <g transform=\"translate(197.291627 16.318125)scale(0.12 -0.12)\">\r\n     <use xlink:href=\"#DejaVuSans-65\"/>\r\n     <use x=\"68.408203\" xlink:href=\"#DejaVuSans-50\"/>\r\n    </g>\r\n   </g>\r\n   <g id=\"text_6\">\r\n    <!-- A3 -->\r\n    <g transform=\"translate(162.829849 107.633197)scale(0.12 -0.12)\">\r\n     <use xlink:href=\"#DejaVuSans-65\"/>\r\n     <use x=\"68.408203\" xlink:href=\"#DejaVuSans-51\"/>\r\n    </g>\r\n   </g>\r\n  </g>\r\n  <g id=\"axes_3\">\r\n   <g id=\"patch_22\">\r\n    <path clip-path=\"url(#pc840f42431)\" d=\"M 286.2 18.820378 \r\nC 279.57905 15.896496 272.105191 15.521799 265.225003 17.768813 \r\nC 258.344814 20.015826 252.532801 24.72958 248.91389 30.997717 \r\nC 245.294979 37.265855 244.118756 44.656082 245.612879 51.738007 \r\nC 247.107003 58.819932 251.168429 65.105135 257.011061 69.377105 \r\nC 256.456909 64.253757 257.261305 59.073684 259.343069 54.359659 \r\nC 261.424834 49.645634 264.711498 45.561757 268.871371 42.520174 \r\nC 269.425523 37.396826 271.318932 32.508553 274.360515 28.34868 \r\nC 277.402098 24.188807 281.485975 20.902143 286.2 18.820378 \r\n\" style=\"fill:#ff0000;opacity:0.4;\"/>\r\n   </g>\r\n   <g id=\"patch_23\">\r\n    <path clip-path=\"url(#pc840f42431)\" d=\"M 286.2 18.820378 \r\nC 290.914025 20.902143 294.997902 24.188807 298.039485 28.34868 \r\nC 301.081068 32.508553 302.974477 37.396826 303.528629 42.520174 \r\nC 307.688502 45.561757 310.975166 49.645634 313.056931 54.359659 \r\nC 315.138695 59.073684 315.943091 64.253757 315.388939 69.377105 \r\nC 321.231571 65.105135 325.292997 58.819932 326.787121 51.738007 \r\nC 328.281244 44.656082 327.105021 37.265855 323.48611 30.997717 \r\nC 319.867199 24.72958 314.055186 20.015826 307.174997 17.768813 \r\nC 300.294809 15.521799 292.82095 15.896496 286.2 18.820378 \r\n\" style=\"fill:#ffffff;opacity:0.4;stroke:#ffffff;stroke-linejoin:miter;\"/>\r\n   </g>\r\n   <g id=\"patch_24\">\r\n    <path clip-path=\"url(#pc840f42431)\" d=\"M 286.2 18.820378 \r\nC 281.485975 20.902143 277.402098 24.188807 274.360515 28.34868 \r\nC 271.318932 32.508553 269.425523 37.396826 268.871371 42.520174 \r\nC 273.899966 38.843405 279.970602 36.860785 286.2 36.860785 \r\nC 292.429398 36.860785 298.500034 38.843405 303.528629 42.520174 \r\nC 302.974477 37.396826 301.081068 32.508553 298.039485 28.34868 \r\nC 294.997902 24.188807 290.914025 20.902143 286.2 18.820378 \r\n\" style=\"fill:#ffffff;opacity:0.4;stroke:#ffffff;stroke-linejoin:miter;\"/>\r\n   </g>\r\n   <g id=\"patch_25\">\r\n    <path clip-path=\"url(#pc840f42431)\" d=\"M 257.011061 69.377105 \r\nC 257.789379 76.572957 261.201812 83.232857 266.587876 88.067768 \r\nC 271.973941 92.902679 278.962178 95.579153 286.2 95.579153 \r\nC 293.437822 95.579153 300.426059 92.902679 305.812124 88.067768 \r\nC 311.198188 83.232857 314.610621 76.572957 315.388939 69.377105 \r\nC 311.229066 72.418688 306.340793 74.312097 301.217446 74.866249 \r\nC 296.094098 75.4204 290.914025 74.616004 286.2 72.53424 \r\nC 281.485975 74.616004 276.305902 75.4204 271.182554 74.866249 \r\nC 266.059207 74.312097 261.170934 72.418688 257.011061 69.377105 \r\n\" style=\"fill:#ffffff;opacity:0.4;stroke:#ffffff;stroke-linejoin:miter;\"/>\r\n   </g>\r\n   <g id=\"patch_26\">\r\n    <path clip-path=\"url(#pc840f42431)\" d=\"M 257.011061 69.377105 \r\nC 261.170934 72.418688 266.059207 74.312097 271.182554 74.866249 \r\nC 276.305902 75.4204 281.485975 74.616004 286.2 72.53424 \r\nC 280.501527 70.017733 275.74921 65.751718 272.634511 60.356901 \r\nC 269.519812 54.962084 268.201494 48.71345 268.871371 42.520174 \r\nC 264.711498 45.561757 261.424834 49.645634 259.343069 54.359659 \r\nC 257.261305 59.073684 256.456909 64.253757 257.011061 69.377105 \r\n\" style=\"fill:#ffffff;opacity:0.4;stroke:#ffffff;stroke-linejoin:miter;\"/>\r\n   </g>\r\n   <g id=\"patch_27\">\r\n    <path clip-path=\"url(#pc840f42431)\" d=\"M 303.528629 42.520174 \r\nC 304.198506 48.71345 302.880188 54.962084 299.765489 60.356901 \r\nC 296.65079 65.751718 291.898473 70.017733 286.2 72.53424 \r\nC 290.914025 74.616004 296.094098 75.4204 301.217446 74.866249 \r\nC 306.340793 74.312097 311.229066 72.418688 315.388939 69.377105 \r\nC 315.943091 64.253757 315.138695 59.073684 313.056931 54.359659 \r\nC 310.975166 49.645634 307.688502 45.561757 303.528629 42.520174 \r\n\" style=\"fill:#ffffff;opacity:0.4;stroke:#ffffff;stroke-linejoin:miter;\"/>\r\n   </g>\r\n   <g id=\"patch_28\">\r\n    <path clip-path=\"url(#pc840f42431)\" d=\"M 268.871371 42.520174 \r\nC 268.201494 48.71345 269.519812 54.962084 272.634511 60.356901 \r\nC 275.74921 65.751718 280.501527 70.017733 286.2 72.53424 \r\nC 291.898473 70.017733 296.65079 65.751718 299.765489 60.356901 \r\nC 302.880188 54.962084 304.198506 48.71345 303.528629 42.520174 \r\nC 298.500034 38.843405 292.429398 36.860785 286.2 36.860785 \r\nC 279.970602 36.860785 273.899966 38.843405 268.871371 42.520174 \r\n\" style=\"fill:#ffffff;opacity:0.4;stroke:#ffffff;stroke-linejoin:miter;\"/>\r\n   </g>\r\n   <g id=\"patch_29\">\r\n    <path clip-path=\"url(#pc840f42431)\" d=\"M 274.33969 75.036493 \r\nC 282.125836 75.036493 289.594131 71.943024 295.099768 66.437387 \r\nC 300.605405 60.93175 303.698874 53.463456 303.698874 45.677309 \r\nC 303.698874 37.891162 300.605405 30.422868 295.099768 24.917231 \r\nC 289.594131 19.411594 282.125836 16.318125 274.33969 16.318125 \r\nC 266.553543 16.318125 259.085248 19.411594 253.579611 24.917231 \r\nC 248.073974 30.422868 244.980505 37.891162 244.980505 45.677309 \r\nC 244.980505 53.463456 248.073974 60.93175 253.579611 66.437387 \r\nC 259.085248 71.943024 266.553543 75.036493 274.33969 75.036493 \r\nz\r\n\" style=\"fill:none;stroke:#000000;stroke-linejoin:miter;\"/>\r\n   </g>\r\n   <g id=\"patch_30\">\r\n    <path clip-path=\"url(#pc840f42431)\" d=\"M 298.06031 75.036493 \r\nC 305.846457 75.036493 313.314752 71.943024 318.820389 66.437387 \r\nC 324.326026 60.93175 327.419495 53.463456 327.419495 45.677309 \r\nC 327.419495 37.891162 324.326026 30.422868 318.820389 24.917231 \r\nC 313.314752 19.411594 305.846457 16.318125 298.06031 16.318125 \r\nC 290.274164 16.318125 282.805869 19.411594 277.300232 24.917231 \r\nC 271.794595 30.422868 268.701126 37.891162 268.701126 45.677309 \r\nC 268.701126 53.463456 271.794595 60.93175 277.300232 66.437387 \r\nC 282.805869 71.943024 290.274164 75.036493 298.06031 75.036493 \r\nz\r\n\" style=\"fill:none;stroke:#000000;stroke-linejoin:miter;\"/>\r\n   </g>\r\n   <g id=\"patch_31\">\r\n    <path clip-path=\"url(#pc840f42431)\" d=\"M 286.2 95.579153 \r\nC 293.986147 95.579153 301.454441 92.485685 306.960078 86.980048 \r\nC 312.465715 81.47441 315.559184 74.006116 315.559184 66.219969 \r\nC 315.559184 58.433823 312.465715 50.965528 306.960078 45.459891 \r\nC 301.454441 39.954254 293.986147 36.860785 286.2 36.860785 \r\nC 278.413853 36.860785 270.945559 39.954254 265.439922 45.459891 \r\nC 259.934285 50.965528 256.840816 58.433823 256.840816 66.219969 \r\nC 256.840816 74.006116 259.934285 81.47441 265.439922 86.980048 \r\nC 270.945559 92.485685 278.413853 95.579153 286.2 95.579153 \r\nz\r\n\" style=\"fill:none;stroke:#000000;stroke-linejoin:miter;\"/>\r\n   </g>\r\n   <g id=\"text_7\">\r\n    <!-- A1 -->\r\n    <g transform=\"translate(243.816348 16.318125)scale(0.12 -0.12)\">\r\n     <use xlink:href=\"#DejaVuSans-65\"/>\r\n     <use x=\"68.408203\" xlink:href=\"#DejaVuSans-49\"/>\r\n    </g>\r\n   </g>\r\n   <g id=\"text_8\">\r\n    <!-- A2 -->\r\n    <g transform=\"translate(312.739902 16.318125)scale(0.12 -0.12)\">\r\n     <use xlink:href=\"#DejaVuSans-65\"/>\r\n     <use x=\"68.408203\" xlink:href=\"#DejaVuSans-50\"/>\r\n    </g>\r\n   </g>\r\n   <g id=\"text_9\">\r\n    <!-- A3 -->\r\n    <g transform=\"translate(278.278125 107.633197)scale(0.12 -0.12)\">\r\n     <use xlink:href=\"#DejaVuSans-65\"/>\r\n     <use x=\"68.408203\" xlink:href=\"#DejaVuSans-51\"/>\r\n    </g>\r\n   </g>\r\n  </g>\r\n  <g id=\"axes_4\">\r\n   <g id=\"patch_32\">\r\n    <path clip-path=\"url(#p2d5b932fd9)\" d=\"M 401.648276 18.820378 \r\nC 395.027326 15.896496 387.553467 15.521799 380.673279 17.768813 \r\nC 373.79309 20.015826 367.981077 24.72958 364.362166 30.997717 \r\nC 360.743255 37.265855 359.567031 44.656082 361.061155 51.738007 \r\nC 362.555279 58.819932 366.616705 65.105135 372.459336 69.377105 \r\nC 371.905185 64.253757 372.709581 59.073684 374.791345 54.359659 \r\nC 376.873109 49.645634 380.159774 45.561757 384.319647 42.520174 \r\nC 384.873799 37.396826 386.767208 32.508553 389.808791 28.34868 \r\nC 392.850374 24.188807 396.934251 20.902143 401.648276 18.820378 \r\n\" style=\"fill:#ff0000;opacity:0.4;\"/>\r\n   </g>\r\n   <g id=\"patch_33\">\r\n    <path clip-path=\"url(#p2d5b932fd9)\" d=\"M 401.648276 18.820378 \r\nC 406.362301 20.902143 410.446178 24.188807 413.487761 28.34868 \r\nC 416.529344 32.508553 418.422753 37.396826 418.976905 42.520174 \r\nC 423.136778 45.561757 426.423442 49.645634 428.505207 54.359659 \r\nC 430.586971 59.073684 431.391367 64.253757 430.837215 69.377105 \r\nC 436.679847 65.105135 440.741273 58.819932 442.235397 51.738007 \r\nC 443.72952 44.656082 442.553296 37.265855 438.934386 30.997717 \r\nC 435.315475 24.72958 429.503462 20.015826 422.623273 17.768813 \r\nC 415.743085 15.521799 408.269225 15.896496 401.648276 18.820378 \r\n\" style=\"fill:#008000;opacity:0.4;\"/>\r\n   </g>\r\n   <g id=\"patch_34\">\r\n    <path clip-path=\"url(#p2d5b932fd9)\" d=\"M 401.648276 18.820378 \r\nC 396.934251 20.902143 392.850374 24.188807 389.808791 28.34868 \r\nC 386.767208 32.508553 384.873799 37.396826 384.319647 42.520174 \r\nC 389.348242 38.843405 395.418878 36.860785 401.648276 36.860785 \r\nC 407.877674 36.860785 413.948309 38.843405 418.976905 42.520174 \r\nC 418.422753 37.396826 416.529344 32.508553 413.487761 28.34868 \r\nC 410.446178 24.188807 406.362301 20.902143 401.648276 18.820378 \r\n\" style=\"fill:#ffffff;opacity:0.4;stroke:#ffffff;stroke-linejoin:miter;\"/>\r\n   </g>\r\n   <g id=\"patch_35\">\r\n    <path clip-path=\"url(#p2d5b932fd9)\" d=\"M 372.459336 69.377105 \r\nC 373.237654 76.572957 376.650087 83.232857 382.036152 88.067768 \r\nC 387.422217 92.902679 394.410454 95.579153 401.648276 95.579153 \r\nC 408.886098 95.579153 415.874334 92.902679 421.260399 88.067768 \r\nC 426.646464 83.232857 430.058897 76.572957 430.837215 69.377105 \r\nC 426.677342 72.418688 421.789069 74.312097 416.665722 74.866249 \r\nC 411.542374 75.4204 406.362301 74.616004 401.648276 72.53424 \r\nC 396.934251 74.616004 391.754178 75.4204 386.63083 74.866249 \r\nC 381.507483 74.312097 376.61921 72.418688 372.459336 69.377105 \r\n\" style=\"fill:#0000ff;opacity:0.4;\"/>\r\n   </g>\r\n   <g id=\"patch_36\">\r\n    <path clip-path=\"url(#p2d5b932fd9)\" d=\"M 372.459336 69.377105 \r\nC 376.61921 72.418688 381.507483 74.312097 386.63083 74.866249 \r\nC 391.754178 75.4204 396.934251 74.616004 401.648276 72.53424 \r\nC 395.949803 70.017733 391.197486 65.751718 388.082787 60.356901 \r\nC 384.968088 54.962084 383.649769 48.71345 384.319647 42.520174 \r\nC 380.159774 45.561757 376.873109 49.645634 374.791345 54.359659 \r\nC 372.709581 59.073684 371.905185 64.253757 372.459336 69.377105 \r\n\" style=\"fill:#ffffff;opacity:0.4;stroke:#ffffff;stroke-linejoin:miter;\"/>\r\n   </g>\r\n   <g id=\"patch_37\">\r\n    <path clip-path=\"url(#p2d5b932fd9)\" d=\"M 418.976905 42.520174 \r\nC 419.646782 48.71345 418.328464 54.962084 415.213765 60.356901 \r\nC 412.099066 65.751718 407.346749 70.017733 401.648276 72.53424 \r\nC 406.362301 74.616004 411.542374 75.4204 416.665722 74.866249 \r\nC 421.789069 74.312097 426.677342 72.418688 430.837215 69.377105 \r\nC 431.391367 64.253757 430.586971 59.073684 428.505207 54.359659 \r\nC 426.423442 49.645634 423.136778 45.561757 418.976905 42.520174 \r\n\" style=\"fill:#ffffff;opacity:0.4;stroke:#ffffff;stroke-linejoin:miter;\"/>\r\n   </g>\r\n   <g id=\"patch_38\">\r\n    <path clip-path=\"url(#p2d5b932fd9)\" d=\"M 384.319647 42.520174 \r\nC 383.649769 48.71345 384.968088 54.962084 388.082787 60.356901 \r\nC 391.197486 65.751718 395.949803 70.017733 401.648276 72.53424 \r\nC 407.346749 70.017733 412.099066 65.751718 415.213765 60.356901 \r\nC 418.328464 54.962084 419.646782 48.71345 418.976905 42.520174 \r\nC 413.948309 38.843405 407.877674 36.860785 401.648276 36.860785 \r\nC 395.418878 36.860785 389.348242 38.843405 384.319647 42.520174 \r\n\" style=\"fill:#ffffff;opacity:0.4;stroke:#ffffff;stroke-linejoin:miter;\"/>\r\n   </g>\r\n   <g id=\"patch_39\">\r\n    <path clip-path=\"url(#p2d5b932fd9)\" d=\"M 389.787965 75.036493 \r\nC 397.574112 75.036493 405.042407 71.943024 410.548044 66.437387 \r\nC 416.053681 60.93175 419.14715 53.463456 419.14715 45.677309 \r\nC 419.14715 37.891162 416.053681 30.422868 410.548044 24.917231 \r\nC 405.042407 19.411594 397.574112 16.318125 389.787965 16.318125 \r\nC 382.001819 16.318125 374.533524 19.411594 369.027887 24.917231 \r\nC 363.52225 30.422868 360.428781 37.891162 360.428781 45.677309 \r\nC 360.428781 53.463456 363.52225 60.93175 369.027887 66.437387 \r\nC 374.533524 71.943024 382.001819 75.036493 389.787965 75.036493 \r\nz\r\n\" style=\"fill:none;stroke:#000000;stroke-linejoin:miter;\"/>\r\n   </g>\r\n   <g id=\"patch_40\">\r\n    <path clip-path=\"url(#p2d5b932fd9)\" d=\"M 413.508586 75.036493 \r\nC 421.294733 75.036493 428.763027 71.943024 434.268664 66.437387 \r\nC 439.774302 60.93175 442.86777 53.463456 442.86777 45.677309 \r\nC 442.86777 37.891162 439.774302 30.422868 434.268664 24.917231 \r\nC 428.763027 19.411594 421.294733 16.318125 413.508586 16.318125 \r\nC 405.72244 16.318125 398.254145 19.411594 392.748508 24.917231 \r\nC 387.242871 30.422868 384.149402 37.891162 384.149402 45.677309 \r\nC 384.149402 53.463456 387.242871 60.93175 392.748508 66.437387 \r\nC 398.254145 71.943024 405.72244 75.036493 413.508586 75.036493 \r\nz\r\n\" style=\"fill:none;stroke:#000000;stroke-linejoin:miter;\"/>\r\n   </g>\r\n   <g id=\"patch_41\">\r\n    <path clip-path=\"url(#p2d5b932fd9)\" d=\"M 401.648276 95.579153 \r\nC 409.434422 95.579153 416.902717 92.485685 422.408354 86.980048 \r\nC 427.913991 81.47441 431.00746 74.006116 431.00746 66.219969 \r\nC 431.00746 58.433823 427.913991 50.965528 422.408354 45.459891 \r\nC 416.902717 39.954254 409.434422 36.860785 401.648276 36.860785 \r\nC 393.862129 36.860785 386.393835 39.954254 380.888198 45.459891 \r\nC 375.382561 50.965528 372.289092 58.433823 372.289092 66.219969 \r\nC 372.289092 74.006116 375.382561 81.47441 380.888198 86.980048 \r\nC 386.393835 92.485685 393.862129 95.579153 401.648276 95.579153 \r\nz\r\n\" style=\"fill:none;stroke:#000000;stroke-linejoin:miter;\"/>\r\n   </g>\r\n   <g id=\"text_10\">\r\n    <!-- A1 -->\r\n    <g transform=\"translate(359.264623 16.318125)scale(0.12 -0.12)\">\r\n     <use xlink:href=\"#DejaVuSans-65\"/>\r\n     <use x=\"68.408203\" xlink:href=\"#DejaVuSans-49\"/>\r\n    </g>\r\n   </g>\r\n   <g id=\"text_11\">\r\n    <!-- A2 -->\r\n    <g transform=\"translate(428.188178 16.318125)scale(0.12 -0.12)\">\r\n     <use xlink:href=\"#DejaVuSans-65\"/>\r\n     <use x=\"68.408203\" xlink:href=\"#DejaVuSans-50\"/>\r\n    </g>\r\n   </g>\r\n   <g id=\"text_12\">\r\n    <!-- A3 -->\r\n    <g transform=\"translate(393.726401 107.633197)scale(0.12 -0.12)\">\r\n     <use xlink:href=\"#DejaVuSans-65\"/>\r\n     <use x=\"68.408203\" xlink:href=\"#DejaVuSans-51\"/>\r\n    </g>\r\n   </g>\r\n  </g>\r\n  <g id=\"axes_5\">\r\n   <g id=\"patch_42\">\r\n    <path clip-path=\"url(#p9dbcfe714d)\" d=\"M 517.096552 18.820378 \r\nC 510.475602 15.896496 503.001743 15.521799 496.121554 17.768813 \r\nC 489.241366 20.015826 483.429353 24.72958 479.810442 30.997717 \r\nC 476.191531 37.265855 475.015307 44.656082 476.509431 51.738007 \r\nC 478.003555 58.819932 482.064981 65.105135 487.907612 69.377105 \r\nC 487.353461 64.253757 488.157857 59.073684 490.239621 54.359659 \r\nC 492.321385 49.645634 495.608049 45.561757 499.767923 42.520174 \r\nC 500.322074 37.396826 502.215483 32.508553 505.257067 28.34868 \r\nC 508.29865 24.188807 512.382527 20.902143 517.096552 18.820378 \r\n\" style=\"fill:#ff0000;opacity:0.4;\"/>\r\n   </g>\r\n   <g id=\"patch_43\">\r\n    <path clip-path=\"url(#p9dbcfe714d)\" d=\"M 517.096552 18.820378 \r\nC 521.810577 20.902143 525.894454 24.188807 528.936037 28.34868 \r\nC 531.97762 32.508553 533.871029 37.396826 534.425181 42.520174 \r\nC 538.585054 45.561757 541.871718 49.645634 543.953482 54.359659 \r\nC 546.035247 59.073684 546.839643 64.253757 546.285491 69.377105 \r\nC 552.128123 65.105135 556.189549 58.819932 557.683673 51.738007 \r\nC 559.177796 44.656082 558.001572 37.265855 554.382661 30.997717 \r\nC 550.763751 24.72958 544.951738 20.015826 538.071549 17.768813 \r\nC 531.19136 15.521799 523.717501 15.896496 517.096552 18.820378 \r\n\" style=\"fill:#ffffff;opacity:0.4;stroke:#ffffff;stroke-linejoin:miter;\"/>\r\n   </g>\r\n   <g id=\"patch_44\">\r\n    <path clip-path=\"url(#p9dbcfe714d)\" d=\"M 517.096552 18.820378 \r\nC 512.382527 20.902143 508.29865 24.188807 505.257067 28.34868 \r\nC 502.215483 32.508553 500.322074 37.396826 499.767923 42.520174 \r\nC 504.796518 38.843405 510.867154 36.860785 517.096552 36.860785 \r\nC 523.32595 36.860785 529.396585 38.843405 534.425181 42.520174 \r\nC 533.871029 37.396826 531.97762 32.508553 528.936037 28.34868 \r\nC 525.894454 24.188807 521.810577 20.902143 517.096552 18.820378 \r\n\" style=\"fill:#b25900;opacity:0.4;\"/>\r\n   </g>\r\n   <g id=\"patch_45\">\r\n    <path clip-path=\"url(#p9dbcfe714d)\" d=\"M 487.907612 69.377105 \r\nC 488.68593 76.572957 492.098363 83.232857 497.484428 88.067768 \r\nC 502.870493 92.902679 509.85873 95.579153 517.096552 95.579153 \r\nC 524.334373 95.579153 531.32261 92.902679 536.708675 88.067768 \r\nC 542.09474 83.232857 545.507173 76.572957 546.285491 69.377105 \r\nC 542.125618 72.418688 537.237345 74.312097 532.113997 74.866249 \r\nC 526.99065 75.4204 521.810577 74.616004 517.096552 72.53424 \r\nC 512.382527 74.616004 507.202454 75.4204 502.079106 74.866249 \r\nC 496.955758 74.312097 492.067486 72.418688 487.907612 69.377105 \r\n\" style=\"fill:#ffffff;opacity:0.4;stroke:#ffffff;stroke-linejoin:miter;\"/>\r\n   </g>\r\n   <g id=\"patch_46\">\r\n    <path clip-path=\"url(#p9dbcfe714d)\" d=\"M 487.907612 69.377105 \r\nC 492.067486 72.418688 496.955758 74.312097 502.079106 74.866249 \r\nC 507.202454 75.4204 512.382527 74.616004 517.096552 72.53424 \r\nC 511.398079 70.017733 506.645762 65.751718 503.531063 60.356901 \r\nC 500.416364 54.962084 499.098045 48.71345 499.767923 42.520174 \r\nC 495.608049 45.561757 492.321385 49.645634 490.239621 54.359659 \r\nC 488.157857 59.073684 487.353461 64.253757 487.907612 69.377105 \r\n\" style=\"fill:#b200b2;opacity:0.4;\"/>\r\n   </g>\r\n   <g id=\"patch_47\">\r\n    <path clip-path=\"url(#p9dbcfe714d)\" d=\"M 534.425181 42.520174 \r\nC 535.095058 48.71345 533.77674 54.962084 530.662041 60.356901 \r\nC 527.547341 65.751718 522.795025 70.017733 517.096552 72.53424 \r\nC 521.810577 74.616004 526.99065 75.4204 532.113997 74.866249 \r\nC 537.237345 74.312097 542.125618 72.418688 546.285491 69.377105 \r\nC 546.839643 64.253757 546.035247 59.073684 543.953482 54.359659 \r\nC 541.871718 49.645634 538.585054 45.561757 534.425181 42.520174 \r\n\" style=\"fill:#0059b2;opacity:0.4;\"/>\r\n   </g>\r\n   <g id=\"patch_48\">\r\n    <path clip-path=\"url(#p9dbcfe714d)\" d=\"M 499.767923 42.520174 \r\nC 499.098045 48.71345 500.416364 54.962084 503.531063 60.356901 \r\nC 506.645762 65.751718 511.398079 70.017733 517.096552 72.53424 \r\nC 522.795025 70.017733 527.547341 65.751718 530.662041 60.356901 \r\nC 533.77674 54.962084 535.095058 48.71345 534.425181 42.520174 \r\nC 529.396585 38.843405 523.32595 36.860785 517.096552 36.860785 \r\nC 510.867154 36.860785 504.796518 38.843405 499.767923 42.520174 \r\n\" style=\"fill:#663366;opacity:0.4;\"/>\r\n   </g>\r\n   <g id=\"patch_49\">\r\n    <path clip-path=\"url(#p9dbcfe714d)\" d=\"M 505.236241 75.036493 \r\nC 513.022388 75.036493 520.490682 71.943024 525.996319 66.437387 \r\nC 531.501957 60.93175 534.595425 53.463456 534.595425 45.677309 \r\nC 534.595425 37.891162 531.501957 30.422868 525.996319 24.917231 \r\nC 520.490682 19.411594 513.022388 16.318125 505.236241 16.318125 \r\nC 497.450095 16.318125 489.9818 19.411594 484.476163 24.917231 \r\nC 478.970526 30.422868 475.877057 37.891162 475.877057 45.677309 \r\nC 475.877057 53.463456 478.970526 60.93175 484.476163 66.437387 \r\nC 489.9818 71.943024 497.450095 75.036493 505.236241 75.036493 \r\nz\r\n\" style=\"fill:none;stroke:#000000;stroke-linejoin:miter;\"/>\r\n   </g>\r\n   <g id=\"patch_50\">\r\n    <path clip-path=\"url(#p9dbcfe714d)\" d=\"M 528.956862 75.036493 \r\nC 536.743009 75.036493 544.211303 71.943024 549.71694 66.437387 \r\nC 555.222577 60.93175 558.316046 53.463456 558.316046 45.677309 \r\nC 558.316046 37.891162 555.222577 30.422868 549.71694 24.917231 \r\nC 544.211303 19.411594 536.743009 16.318125 528.956862 16.318125 \r\nC 521.170716 16.318125 513.702421 19.411594 508.196784 24.917231 \r\nC 502.691147 30.422868 499.597678 37.891162 499.597678 45.677309 \r\nC 499.597678 53.463456 502.691147 60.93175 508.196784 66.437387 \r\nC 513.702421 71.943024 521.170716 75.036493 528.956862 75.036493 \r\nz\r\n\" style=\"fill:none;stroke:#000000;stroke-linejoin:miter;\"/>\r\n   </g>\r\n   <g id=\"patch_51\">\r\n    <path clip-path=\"url(#p9dbcfe714d)\" d=\"M 517.096552 95.579153 \r\nC 524.882698 95.579153 532.350993 92.485685 537.85663 86.980048 \r\nC 543.362267 81.47441 546.455736 74.006116 546.455736 66.219969 \r\nC 546.455736 58.433823 543.362267 50.965528 537.85663 45.459891 \r\nC 532.350993 39.954254 524.882698 36.860785 517.096552 36.860785 \r\nC 509.310405 36.860785 501.842111 39.954254 496.336474 45.459891 \r\nC 490.830836 50.965528 487.737368 58.433823 487.737368 66.219969 \r\nC 487.737368 74.006116 490.830836 81.47441 496.336474 86.980048 \r\nC 501.842111 92.485685 509.310405 95.579153 517.096552 95.579153 \r\nz\r\n\" style=\"fill:none;stroke:#000000;stroke-linejoin:miter;\"/>\r\n   </g>\r\n   <g id=\"text_13\">\r\n    <!-- A1 -->\r\n    <g transform=\"translate(474.712899 16.318125)scale(0.12 -0.12)\">\r\n     <use xlink:href=\"#DejaVuSans-65\"/>\r\n     <use x=\"68.408203\" xlink:href=\"#DejaVuSans-49\"/>\r\n    </g>\r\n   </g>\r\n   <g id=\"text_14\">\r\n    <!-- A2 -->\r\n    <g transform=\"translate(543.636454 16.318125)scale(0.12 -0.12)\">\r\n     <use xlink:href=\"#DejaVuSans-65\"/>\r\n     <use x=\"68.408203\" xlink:href=\"#DejaVuSans-50\"/>\r\n    </g>\r\n   </g>\r\n   <g id=\"text_15\">\r\n    <!-- A3 -->\r\n    <g transform=\"translate(509.174677 107.633197)scale(0.12 -0.12)\">\r\n     <use xlink:href=\"#DejaVuSans-65\"/>\r\n     <use x=\"68.408203\" xlink:href=\"#DejaVuSans-51\"/>\r\n    </g>\r\n   </g>\r\n  </g>\r\n </g>\r\n <defs>\r\n  <clipPath id=\"p524be1d84f\">\r\n   <rect height=\"93.028936\" width=\"96.206897\" x=\"7.2\" y=\"9.434171\"/>\r\n  </clipPath>\r\n  <clipPath id=\"p3ed8324db7\">\r\n   <rect height=\"93.028936\" width=\"96.206897\" x=\"122.648276\" y=\"9.434171\"/>\r\n  </clipPath>\r\n  <clipPath id=\"pc840f42431\">\r\n   <rect height=\"93.028936\" width=\"96.206897\" x=\"238.096552\" y=\"9.434171\"/>\r\n  </clipPath>\r\n  <clipPath id=\"p2d5b932fd9\">\r\n   <rect height=\"93.028936\" width=\"96.206897\" x=\"353.544828\" y=\"9.434171\"/>\r\n  </clipPath>\r\n  <clipPath id=\"p9dbcfe714d\">\r\n   <rect height=\"93.028936\" width=\"96.206897\" x=\"468.993103\" y=\"9.434171\"/>\r\n  </clipPath>\r\n </defs>\r\n</svg>\r\n",
      "image/png": "[encoded data removed]"
     },
     "metadata": {}
    }
   ],
   "source": [
    "# Usar diagrama de Venn para representar eventos A1, A2, A3\n",
    "# a) (Minimo) 1 evento cualquiera ocurre. (A1 o A2 o A3) \n",
    "# b) Todos los eventos ocurren. (A1 y A2 y A3)\n",
    "# c) Solo el evento A1 ocurre (A1 - (A2 o A3))\n",
    "# d) Solo 1 evento cualquiera  ocurre (A1 - (A2 o A3)) o (A2 - (A1 o A3)) o (A3 - (A1 o A2))\n",
    "# e) El evento A1 ocurreo o A2 y A3 ocurren (A1 o (A2 y A3))\n",
    "\n",
    "from matplotlib_venn import venn3\n",
    "\n",
    "figure, axes = plt.subplots(1, 5, squeeze=False, figsize=(10,5))\n",
    "sub = (1, 1, 1, 1, 1, 1, 1)\n",
    "labels = ('A1', 'A2', 'A3')\n",
    "regions = ['100', '101', '110', '010', '001', '011', '111']\n",
    "\n",
    "v1 = venn3(subsets = sub, set_labels = labels , ax=axes[0][0])\n",
    "c = matplotlib_venn.venn3_circles(subsets=sub, linestyle=\"solid\", ax=axes[0][0], linewidth=1.0)\n",
    "for r in regions:\n",
    "    v1.get_label_by_id(r).set_text(None)\n",
    "\n",
    "v2 = venn3(subsets=sub, set_labels = labels, ax=axes[0][1])\n",
    "c = matplotlib_venn.venn3_circles(subsets=sub, linestyle=\"solid\", ax=axes[0][1], linewidth=1.0)\n",
    "for r in regions:\n",
    "    v2.get_label_by_id(r).set_text(None)\n",
    "    if r != '111':\n",
    "        v2.get_patch_by_id(r).set_color('white')\n",
    "\n",
    "v3 = venn3(subsets=sub, set_labels = labels, ax=axes[0][2])\n",
    "c = matplotlib_venn.venn3_circles(subsets=sub, linestyle=\"solid\", ax=axes[0][2], linewidth=1.0)\n",
    "for r in regions:\n",
    "    v3.get_label_by_id(r).set_text(None)\n",
    "    if r != '100':\n",
    "        v3.get_patch_by_id(r).set_color('white')\n",
    "\n",
    "v4 = venn3(subsets=sub, set_labels = labels, ax=axes[0][3])\n",
    "c = matplotlib_venn.venn3_circles(subsets=sub, linestyle=\"solid\", ax=axes[0][3], linewidth=1.0)\n",
    "for r in regions:\n",
    "    v4.get_label_by_id(r).set_text(None)\n",
    "    if r != '100' and r != '010' and r != '001':\n",
    "        v4.get_patch_by_id(r).set_color('white')\n",
    "\n",
    "v5 = venn3(subsets=sub, set_labels = labels, ax=axes[0][4])\n",
    "c = matplotlib_venn.venn3_circles(subsets=sub, linestyle=\"solid\", ax=axes[0][4], linewidth=1.0)\n",
    "for r in regions:\n",
    "    v5.get_label_by_id(r).set_text(None)\n",
    "    if r == '010' or r == '001':\n",
    "        v5.get_patch_by_id(r).set_color('white')\n",
    "\n",
    "plt.show()"
   ]
  },
  {
   "cell_type": "code",
   "execution_count": 129,
   "metadata": {},
   "outputs": [],
   "source": [
    "import itertools\n",
    "import matplotlib_venn \n",
    "import matplotlib.pyplot as plt\n",
    "\n",
    "class porc:\n",
    "    def __init__(self, elementos):\n",
    "        self.elementosDelProblema = []\n",
    "        for e in elementos:\n",
    "            self.elementosDelProblema.append(e)\n",
    "        self.porcentaje = 0\n",
    "        self.porcentajeComplemento = 0\n",
    "        self.porcentajeElementos = []\n",
    "\n",
    "    def asignarP(self, porcentajes):\n",
    "        self.porcentajeElementos = []\n",
    "        self.porcentajeElementos = list(zip(self.elementosDelProblema, porcentajes))\n",
    "        return self.porcentajeElementos\n",
    "    \n",
    "    def buscarP(self, elemento):\n",
    "        for e in self.porcentajeElementos:\n",
    "            if e[0] == elemento:\n",
    "                return e[1]\n",
    "\n",
    "    def obtenerUnionMEP(self, elementos, lista):\n",
    "        self.porcentaje = 0\n",
    "        porcentajesElementos = []\n",
    "        for pareja in lista:\n",
    "            for elemento in elementos:\n",
    "                if pareja[0] == elemento:\n",
    "                    porcentajesElementos.append(pareja[1])\n",
    "        self.porcentaje = sum(porcentajesElementos)\n",
    "        return self.porcentaje\n",
    "\n",
    "    def obtenerUnionMECP(self, elementos, lista):\n",
    "        self.porcentajeComplemento = 0\n",
    "        porc = self.obtenerUnionMEP(elementos, lista)\n",
    "        self.porcentajeComplemento = 1 - porc\n",
    "        return self.porcentajeComplemento\n",
    "\n",
    "    def obtenerUnionP(self, elementos, lista, interseccion = 0):\n",
    "        self.porcentaje = 0\n",
    "        porcentajesElementos = []\n",
    "        for pareja in lista:\n",
    "            for elemento in elementos:\n",
    "                if pareja[0] == elemento:\n",
    "                    porcentajesElementos.append(pareja[1])\n",
    "        self.porcentaje = sum(porcentajesElementos) - interseccion\n",
    "        return self.porcentaje\n",
    "\n",
    "    def obtenerInterP(self, elementos, lista, interseccion = 0, comp1 = True, comp2 = True):\n",
    "        self.porcentaje = 0\n",
    "        if comp1 == False and comp2 == False:\n",
    "            self.porcentaje = 1 - self.obtenerUnionP(elementos,porcentajes, interseccion)\n",
    "        elif comp1 == False and comp2 == True:\n",
    "            self.porcentaje = (self.buscarP(elementos[1])) - interseccion\n",
    "        elif comp1 == True and comp2 == False:\n",
    "            self.porcentaje = (self.buscarP(elementos[0])) - interseccion\n",
    "        else:\n",
    "            self.porcentaje = (self.buscarP(elementos[0]) + self.buscarP(elementos[1])) - interseccion\n",
    "        return self.porcentaje\n",
    "\n",
    "    def obtenerUnionCP(self, elementos, lista, interseccion = 0):\n",
    "        self.porcentajeComplemento = 0\n",
    "        porc = self.obtenerUnionP(elementos, lista, interseccion)\n",
    "        self.porcentajeComplemento = 1 - porc\n",
    "        return self.porcentajeComplemento\n",
    "\n"
   ]
  },
  {
   "cell_type": "code",
   "execution_count": 130,
   "metadata": {},
   "outputs": [
    {
     "output_type": "stream",
     "name": "stdout",
     "text": [
      "0.07 0.3 0.5700000000000001\n"
     ]
    }
   ],
   "source": [
    "# Personas eligen opciones = A,B,C,D,E,F,G (ME)\n",
    "# A = tipo1, B,C,D = tipo2, E,F = tipo 3, G = tipo 4\n",
    "# Poblacion al elegir una sola opcion se distribuye como:\n",
    "# P(A) = 0.2 | P(B) = 0.15 | P(C) = 0.1 | P(D) = 0.05 | P(E) = 0.18 | P(F) = 0.25 | P(G) = 0.07\n",
    "# a) Probabilidad de que un individuo eliga opcion G = (G)\n",
    "# b) Probabilidad de que un individuo eliga una opcion tipo 2 = (B o C o D)\n",
    "# c) Probabilidad de que individuo NO eliga una opcion tipo 3 = (E o F)'\n",
    "\n",
    "P11 = porc([\"A\", \"B\", \"C\", \"D\", \"E\", \"F\", \"G\"])\n",
    "porcentajes = P11.asignarP([0.2, 0.15, 0.1, 0.05, 0.18, 0.25, 0.07])\n",
    "G = P11.buscarP(\"G\")\n",
    "Union_BCD = P11.obtenerUnionMEP([\"B\",\"C\",\"D\"],porcentajes)\n",
    "Comp_Union_EF = P11.obtenerUnionMECP([\"E\", \"F\"],porcentajes)\n",
    "print(G, Union_BCD, Comp_Union_EF)"
   ]
  },
  {
   "cell_type": "code",
   "execution_count": 131,
   "metadata": {},
   "outputs": [
    {
     "output_type": "stream",
     "name": "stdout",
     "text": [
      "0.65 0.35 0.25\n"
     ]
    }
   ],
   "source": [
    "# Personas eligen opciones = A,B\n",
    "# P(A) = 0.5 | P(B) = 0.4 | P(A y B) = 0.25\n",
    "# a) Probabilidad de que eligan A o B = (A o B)\n",
    "# b) Probabilidad de que eligan ninguna, es decir que NO eligan A o B = (A o B)'\n",
    "# c) Probabilidad de que eligan A pero NO B = (A y (B)') = A - (AyB)\n",
    "\n",
    "P12 = porc([\"A\", \"B\"])\n",
    "porcentajes = P12.asignarP([0.5, 0.4])\n",
    "Union_AB = P12.obtenerUnionP([\"A\",\"B\"],porcentajes, 0.25)\n",
    "Comp_Union_AB = 1 - Union_AB\n",
    "Inter_ACompB = P12.obtenerInterP([\"A\",\"B\"],porcentajes, 0.25, True, False)\n",
    "print(Union_AB, Comp_Union_AB, Inter_ACompB)"
   ]
  },
  {
   "cell_type": "code",
   "execution_count": 132,
   "metadata": {},
   "outputs": [
    {
     "output_type": "stream",
     "name": "stdout",
     "text": [
      "0.36 0.78\n"
     ]
    }
   ],
   "source": [
    "# Opciones A1, A2, A3\n",
    "# P(A1) = 0.22 | P(A2) = 0.25 | P(A3) = 0.28\n",
    "# P(A1 y A2) = 0.11 | P(A1 y A3) = 0.05 | P(A2 y A3) = 0.07 | P(A1 y A2 y A3) = 0.01 \n",
    "# a) Probabilidad de que suceda A1 o A2 = (A1 o A2)\n",
    "# b) Probabilidad de que NO suceda A1 y NO suceda A2 = (A1' y A2')\n",
    "# c) Probabilidad de que suceda A1 o A2 o A3 = (A1 o A2 o A3) \n",
    "# d) Probabilidad de que NO suceda A1 y NO suceda A2 y A3 = (A1' y A2' y A3') \n",
    "# e) Probabilidad de que No suceda A1 y NO suceda A2 y suceda A3 = (A1' y A2' y A3)\n",
    "# f) Probabilidad de que NO suceda A1 y A2 o que suceda A3 = (A1' y A2') o (A3)\n",
    "\n",
    "P13 = porc([\"A1\", \"A2\", \"A3\"])\n",
    "porcentajes = P13.asignarP([0.22, 0.25, 0.28])\n",
    "Union_A1A2 = P13.obtenerUnionP([\"A1\",\"A2\"],porcentajes, 0.11)\n",
    "Inter_CompA1CompA2 = P12.obtenerInterP([\"A1\",\"A2\"],porcentajes, 0.11, False, False)\n",
    "\n",
    "print(Union_A1A2, Inter_CompA1CompA2)\n",
    "\n",
    "\n"
   ]
  },
  {
   "cell_type": "code",
   "execution_count": null,
   "metadata": {},
   "outputs": [],
   "source": []
  }
 ]
}