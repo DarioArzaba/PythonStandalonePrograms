{
 "cells": [
  {
   "cell_type": "markdown",
   "metadata": {},
   "source": [
    "# Python"
   ]
  },
  {
   "cell_type": "markdown",
   "metadata": {
    "heading_collapsed": true
   },
   "source": [
    "## Datos"
   ]
  },
  {
   "cell_type": "markdown",
   "metadata": {
    "hidden": true
   },
   "source": [
    "La principal forma de manipular informacion en Python es mediante **texto** (Strings) y **binarios** (Bytes and Bytearrays). El principal cambio entre Python 2 y Python 3 es que los strings no son byte arrays sino unicode strings.\n",
    "\n",
    "Para manipular la libreria unicode utilizamos el modulo `unicodedata`. Si el texto original esta en UTF-8 encoding podemos copiar simbolo directamente al editor de codigo. Si no podemos utilizar su codigo hex de 4 numeros `\\u0000` o su codigo hex de 8 numeros `\\U00000000`."
   ]
  },
  {
   "cell_type": "code",
   "execution_count": null,
   "metadata": {
    "hidden": true
   },
   "outputs": [],
   "source": [
    "def unicodeLookup(symbol):\n",
    "    import unicodedata\n",
    "    nombre = unicodedata.name(symbol)\n",
    "    valorUnicode = unicodedata.lookup(nombre)\n",
    "    print(\"Introdujo =\", symbol, \" | Nombre =\", nombre, \" | Valor =\", valorUnicode)\n",
    "unicodeLookup('A')\n",
    "unicodeLookup('$')\n",
    "unicodeLookup('\\u00a2')\n",
    "unicodeLookup('\\u2603')\n",
    "snowmanString = '\\N{SNOWMAN}'\n",
    "unicodeLookup('\\U0002F9F4')"
   ]
  },
  {
   "cell_type": "markdown",
   "metadata": {
    "hidden": true
   },
   "source": [
    "Siempre que se copien valores al codigo fuente nos debemos de asegurar que el encoding que se utilizo es compatible con unicode, de preferencia con el encoding UTF-8. Para transformar un String de caracteres unicode a bytes utilizamos un encoding.\n",
    "\n",
    "| Encodings | Excepciones | Uso |\n",
    "| --- | --- | --- |\n",
    "| utf-8 | strict | Unicode Error |\n",
    "| ascii | replace | Replace with ? |\n",
    "| latin-1 | ignore | Don't store byte |\n",
    "| cp-1252 | xmlcharrefreplace | Replace with Entity |\n",
    "| unicode-escape | backslashreplace | Replace with Unicode Escape |\n",
    "| windows-1251 | namereplace | Replace with Unicode Name Escape |"
   ]
  },
  {
   "cell_type": "code",
   "execution_count": null,
   "metadata": {
    "hidden": true
   },
   "outputs": [],
   "source": [
    "# One unicode character\n",
    "snowman = '\\u2603'\n",
    "print(len(snowman))\n",
    "\n",
    "#Three UTF-8 bytes to represent it\n",
    "bytesVariable = snowman.encode('utf-8')\n",
    "print(len(bytesVariable))\n",
    "\n",
    "# A bytes variable is defined as: b'(bytes in hex)'\n",
    "print(bytesVariable)\n",
    "\n",
    "# If not in ASCII encode to XML Entity\n",
    "entityVariable = snowman.encode('ascii', 'xmlcharrefreplace')\n",
    "print(entityVariable)"
   ]
  },
  {
   "cell_type": "markdown",
   "metadata": {
    "hidden": true
   },
   "source": [
    "Para dar **Formato** a los string interpolamos datos en el estilo de formateo antiguo o mediante llaves en el nuevo estilo."
   ]
  },
  {
   "cell_type": "code",
   "execution_count": null,
   "metadata": {
    "hidden": true
   },
   "outputs": [],
   "source": [
    "# Old Formating\n",
    "print(\"String : %s\" % 10)\n",
    "print(\"Decimal Int : %d\" % 10)\n",
    "print(\"Octal Int : %o\" % 8)\n",
    "print(\"Hex Int : %x\" % 16)\n",
    "print(\"Decimal Float : %f\" % 19.5)\n",
    "print(\"Exponential Float : %e\" % 19.5)\n",
    "print(\"Decimal or Exp Float : %g\" % 19.5)\n",
    "print(\"Literal Percent : %d%%\" % 19.5)\n",
    "print()\n",
    "\n",
    "# Width, align, char filling\n",
    "numero = 42\n",
    "decimal = 7.03\n",
    "texto = \"Hello World!\"\n",
    "print(\"'|%d|%f|%s|'\" % (numero, decimal, texto))\n",
    "print(\"'|%15d|%15f|%15s|'\" % (numero, decimal, texto))\n",
    "print(\"'|%-15d|%-15f|%-15s|'\" % (numero, decimal, texto))\n",
    "print(\"'|%-15.4d|%-15.4f|%-15.4s|'\" % (numero, decimal, texto))\n",
    "print(\"'|%*.*d|%*.*f|%*.*s|'\" % (15, 4, numero, 15, 4, decimal, 15, 4, texto))\n",
    "\n",
    "# New Formating\n",
    "print(\"'|{}|{}|{}|'\".format(numero, decimal, texto))\n",
    "print(\"'|{2}|{1}|{0}|'\".format(numero, decimal, texto))\n",
    "print(\"'|{decimal}|{texto}|{numero}|'\".format(numero=99, decimal=99.5, texto=\"Bye\"))\n",
    "dictNewForm = {\"numero\":33, \"decimal\":33.5, \"texto\":\"Hello World!\"}\n",
    "print(\"'|{0[numero]}|{0[decimal]}|{0[texto]}|{1}''\".format(dictNewForm, \"otroTexto\"))\n",
    "print(\"'|{0:d}|{1:f}|{2:s}|'\".format(numero, decimal, texto))\n",
    "print(\"'|{numero:d}|{decimal:f}|{texto:s}|'\".format(numero=88, decimal=88.5, texto=\"Hi again\"))\n",
    "print(\"'|{0:15d}|{1:15f}|{2:15s}|'\".format(numero, decimal, texto))\n",
    "print(\"'|{0:>15d}|{1:>15f}|{2:>15s}|'\".format(numero, decimal, texto))\n",
    "print(\"'|{0:<15d}|{1:<15f}|{2:<15s}|'\".format(numero, decimal, texto))\n",
    "print(\"'|{0:^15d}|{1:^15f}|{2:^15s}|'\".format(numero, decimal, texto))\n",
    "print(\"'|{0:>15d}|{1:>15.3f}|{2:>15.3s}|'\".format(numero, decimal, texto))\n",
    "print(\"'|{0:!^30s}|'\".format(texto))"
   ]
  },
  {
   "cell_type": "markdown",
   "metadata": {
    "hidden": true
   },
   "source": [
    "Python usa expresiones regulares (Regex) mediante el modulo `re` para buscar patrones en las secuencias de caracteres."
   ]
  },
  {
   "cell_type": "code",
   "execution_count": null,
   "metadata": {
    "hidden": true
   },
   "outputs": [],
   "source": [
    "import re\n",
    "pattern = re.compile(\"You\")\n",
    "source = \"Young Frankenstein\"\n",
    "\n",
    "# Comienza con You?\n",
    "resultMatching = pattern.match(source)\n",
    "if resultMatching:\n",
    "    print(resultMatching.group())\n",
    "    \n",
    "# Ocurrencia de Frank?\n",
    "patternTwo = re.compile(\"Frank\")\n",
    "resultMatchingTwo = patternTwo.search(source)\n",
    "if resultMatching:\n",
    "    print(resultMatchingTwo.group())\n",
    "\n",
    "# Ocurrencias de n \n",
    "patternLetter = re.compile(\"n\")\n",
    "resultMatchingAll = patternLetter.findall(source)\n",
    "if resultMatchingAll:\n",
    "    print(resultMatchingAll)\n",
    "\n",
    "# Ocurrencias de n seguida de una letra\n",
    "patternLetterTwo = re.compile(\"n.\")\n",
    "resultMatchingAllTwo = patternLetterTwo.findall(source)\n",
    "if resultMatchingAllTwo:\n",
    "    print(resultMatchingAllTwo)\n",
    "    \n",
    "# Ocurrencias de n opcionalmente seguida de una letra\n",
    "patternLetterThree = re.compile(\"n.?\")\n",
    "resultMatchingAllThree = patternLetterThree.findall(source)\n",
    "if resultMatchingAllThree:\n",
    "    print(resultMatchingAllThree)\n",
    "\n",
    "# Dividir source en cada ocurrencia\n",
    "resultSplit = patternLetter.split(source)\n",
    "print(resultSplit)\n",
    "\n",
    "# Remplazar cada ocurrencia\n",
    "resultReplace = patternLetter.sub('?', source)\n",
    "print(resultReplace)"
   ]
  },
  {
   "cell_type": "markdown",
   "metadata": {
    "hidden": true
   },
   "source": [
    "| Expresion | Significado | Expresion | Significado |\n",
    "| --- | --- | --- | --- |\n",
    "| String | Igualdad | ? | Cero o un caracter anterior |\n",
    "| . | Caracter sin retorno | * | Cero o todos los anteriores max |\n",
    "| ? | Caracter anterior opcional | \\*? | Cero o todos los anteriores min |\n",
    "| \\\\d | Digito | + | Uno o todos los anteriores max |\n",
    "| \\\\D | No Digito | +? | Uno o todos los anteriores min |\n",
    "| \\\\w | Alfanumerico | { n } | N Caracteres consecutivos |\n",
    "| \\\\W | No alfanumerico | { m, n } | De M a N caracteres consecutivos max |\n",
    "| \\\\s | Espacio | { m, n }? | De M a N caracteres consecutivos min |\n",
    "| \\\\S | No espacio | [abc] = a\\|b\\|c | Cualquiera de la lista |\n",
    "| \\\\b | Espacio entre palabras | [^abc] | Todos excepto de la lista |\n",
    "| \\\\B | No espacio entre palabras | (?=n) | Anterior solo si antecede a N |\n",
    "| \\| | Cualquiera de ambas | (?!n) | Anterior si no antecede a N |\n",
    "| ^ | Desde el inicio | (?<=n) | Siguiente si precede a N |\n",
    "| $ | Desde el final | (?<!n) | Siguiente si no precede a N |"
   ]
  },
  {
   "cell_type": "code",
   "execution_count": null,
   "metadata": {
    "hidden": true
   },
   "outputs": [],
   "source": [
    "import string\n",
    "import re\n",
    "\n",
    "printable = string.printable\n",
    "print(len(printable))\n",
    "print(repr(printable[:36]))\n",
    "print(repr(printable[36:62]))\n",
    "print(repr(printable[62:94]))\n",
    "print(repr(printable[94:100]))\n",
    "\n",
    "texto = \"\"\"I wish I may, I wish I might\n",
    "... Have a dish of fish tonight.\"\"\"\n",
    "print(re.findall(\"wish\", texto))\n",
    "print(re.findall(\"wish|fish\", texto))\n",
    "print(re.findall(\"^wish\", texto))\n",
    "print(re.findall(\"^I wish\", texto))\n",
    "print(re.findall(\"fish$\", texto))\n",
    "print(re.findall(\"fish tonight\\.$\", texto))\n",
    "print(re.findall(\"[wf]ish\", texto))\n",
    "print(re.findall(\"[wsh]+\", texto))\n",
    "print(re.findall(\"ght\\W\", texto))\n",
    "print(re.findall(\"I (?=wish)\", texto))\n",
    "print(re.findall(\"(?<=I) wish\", texto))\n",
    "\n",
    "# El siguiente regex no funcionaria si no fuera RAW\n",
    "# Dado que la B escapada significa Backspace en un string literal\n",
    "print(re.findall(r\"\\bfish\", texto))\n",
    "\n",
    "# Parentesis guarda resultados parciales.\n",
    "# Mientras se utilicen las funciones match o search...\n",
    "# ... group() regresa las ocurrencias mientras que ...\n",
    "# ... groups() regresa un tuple con los resultados parciales.\n",
    "match = re.search(r\"(. dish\\b).*(\\bfish)\", texto)\n",
    "print(match.group())\n",
    "print(match.groups())\n",
    "\n",
    "# Podemos nombrar cada resultado parcial\n",
    "match = re.search(r\"(?P<DISH>. dish\\b).*(?P<FISH>\\bfish)\", texto)\n",
    "print(match.group())\n",
    "print(match.groups())\n",
    "print(match.group(\"DISH\"))\n",
    "print(match.group(\"FISH\"))"
   ]
  },
  {
   "cell_type": "markdown",
   "metadata": {
    "hidden": true
   },
   "source": [
    "Para trabajar con **Binario** tiene dos tipos de datos de secuencias de bytes en donde un byte se considera un elemento numerico fundamental de 8 bits. `bytes` es una secuencia de bytes inmutable, como un tuple. `bytearray` es una secuencia de bytes mutable, como una lista."
   ]
  },
  {
   "cell_type": "code",
   "execution_count": null,
   "metadata": {
    "hidden": true
   },
   "outputs": [],
   "source": [
    "import struct\n",
    "\n",
    "blist = [1, 2, 3, 255]\n",
    "the_bytes = bytes(blist)\n",
    "print(the_bytes)\n",
    "the_bytes_array = bytearray(blist)\n",
    "print(the_bytes_array)\n",
    "the_bytes_array[1] = 133\n",
    "print(the_bytes_array)\n",
    "print()\n",
    "\n",
    "# all_the_bytes = bytes(range(0,256))\n",
    "# all_the_bytes_array = bytearray(range(0,256))\n",
    "# Non Printable Bytes\n",
    "# print(all_the_bytes[:32], all_the_bytes[127:])\n",
    "# Printable Bytes\n",
    "# print(all_the_bytes[32:127])\n",
    "\n",
    "valid_png_header = b\"\\x89PNG\\r\\n\\x1a\\n\"\n",
    "data = b\"\\x89PNG\\r\\n\\x1a\\n\\x00\\x00\\x00\\rIHDR\" + \\\n",
    "        b\"\\x00\\x00\\x00\\x9a\\x00\\x00\\x00\\x8d\\x08\\x02\\x00\\x00\\x00\\xc0\"\n",
    "if data[:8] == valid_png_header:\n",
    "    #Width 16-20 and Height 20-24\n",
    "    width, height = struct.unpack(\">LL\", data[16:24])\n",
    "    print(\"Valid PNG, width\", width, \"height\", height)\n",
    "else:\n",
    "    print(\"Not a valid PNG\")\n",
    "print()\n",
    "\n",
    "# Format string >LL instructs unpack how to interpret the byte sequence\n",
    "# The > means that integers are stored in Big Endian Format\n",
    "# The < means that integers are stored in Little Endian Format\n",
    "# The L specifies a 4 byte unsigned long integer\n",
    "# To get from data to bytes use the pack() function\n",
    "print(struct.pack(\">L\", 154))\n",
    "print(struct.pack(\">L\", 141))\n",
    "\n",
    "# Big Endian Have the most significant number to the left."
   ]
  },
  {
   "cell_type": "markdown",
   "metadata": {
    "hidden": true
   },
   "source": [
    "Los especificadores de formato son\n",
    "\n",
    "| Especificador | Significado | Especificador | Significado |\n",
    "| --- | --- | --- | --- |\n",
    "| x | Saltar un byte  | l | Signed Long Int |\n",
    "| b | Signed byte | L | Unsigned Long Int |\n",
    "| B | Unsigned Byte | Q | Unsigned Long Long Int |\n",
    "| h | Signed short Int | f | Float single precision |\n",
    "| H | Unsigned short Int | d | Float double precision |\n",
    "| i | Signed Int | p | Count and Chars |\n",
    "| I | Unsigned Int | s | Only Chars |\n",
    " \n",
    "Todos los especificadores pueden ir precedidos de un numero que indica la cantidad (Count) de bytes a tranformar. Por ejemplo 5B significa que se deben transformar 5 bytes (BBBBB). Ademas de slices podemos tener mayor control sobre los bytes que se deben saltar utilizando count y el especificador (x). Otras librerias para manipular bytes son:\n",
    "\n",
    "- [bitstring](https://pypi.org/project/bitstring/)\n",
    "- [contruct](https://construct.readthedocs.io/en/latest/intro.html)\n",
    "- [hachoir](https://hachoir.readthedocs.io/en/latest/)\n",
    "- [binio](http://spika.net/py/binio/)\n",
    "\n",
    "La libreria estandar `binascii` tambien tiene funciones que permiten convertir entre binario y strings en distintos formatos (Hex, Base 64, Uuencoded etc.). Esto permite desplegar los datos binarios en otros formatos que no sean una mezcla de ASCII y secuencias de escape \\xnn."
   ]
  },
  {
   "cell_type": "code",
   "execution_count": null,
   "metadata": {
    "hidden": true
   },
   "outputs": [],
   "source": [
    "import binascii\n",
    "\n",
    "# Other binary formating\n",
    "valid_png_header = b\"\\x89PNG\\r\\n\\x1a\\n\"\n",
    "print(binascii.hexlify(valid_png_header))\n",
    "print(binascii.unhexlify(b\"89504e470d0a1a0a\"))\n",
    "\n",
    "# Bit Operators (Similares al set operations)\n",
    "# a = 5 , b = 1\n",
    "# Bin(int) gets the binary string representation.\n",
    "a = 0b0101\n",
    "b = 0b0001\n",
    "c = a & b\n",
    "d = a | b\n",
    "e = a ^ b\n",
    "f = ~a\n",
    "g = a << 1\n",
    "h = a >> 1\n",
    "print(bin(c), bin(d), bin(e), bin(f), bin(g), bin(h)) \n",
    "print(format(c, '#06b'), format(d, '#06b'), format(e, '#06b'), format(f, '#06b'), format(g, '#06b'), format(h, '#06b'))\n",
    "print(c, d, e, f, g, h)"
   ]
  },
  {
   "cell_type": "markdown",
   "metadata": {
    "heading_collapsed": true
   },
   "source": [
    "## Archivos"
   ]
  },
  {
   "cell_type": "markdown",
   "metadata": {
    "heading_collapsed": true,
    "hidden": true
   },
   "source": [
    "### Archivos Planos"
   ]
  },
  {
   "cell_type": "markdown",
   "metadata": {
    "hidden": true
   },
   "source": [
    "Todo programa necesita formas de guardar datos de forma **persistente**. Se pueden utilizar archivos planos, archivos estructurados o bases de datos.\n",
    "\n",
    "Cuando utilizamos **archivos planos** los podemos ver como una simple secuencia de bytes que guardamos dentro de una variable en el ROM, dicha variable es el nombre del archivo. Se dice que *leemos* datos del archivo y los pasamos a la memoria o que *escribimos* datos de la memoria al pasarlos al archivo.\n",
    "\n",
    "Para leer o escribir un archivo necesitamos acceder a el, asumiendo que tenemos los permisos correctos Python puede acceder a un archivo y pasar sus datos a un objeto mediante la funcion `open(filename, mode)`. Mode es un codigo de dos digitos que indica el tipo de archivo y las operaciones que se pretenden hacer con el. \n",
    "\n",
    "- Leer = r\n",
    "- Escribir (Si no existe se crea el archivo) = w\n",
    "- Escribir (Solo si el archivo no existe) = x\n",
    "- Escribir al final = a\n",
    "- Archivo de texto = t o nada\n",
    "- Archivo binario = b\n",
    "\n",
    "Al final de escribir o leer un archivo Python debe cerrar el objeto (stream) para que se puedan guardar los cambios en el ROM."
   ]
  },
  {
   "cell_type": "code",
   "execution_count": null,
   "metadata": {
    "hidden": true
   },
   "outputs": [],
   "source": [
    "# Write regresa el numero de bytes escritos\n",
    "# Tambien podemos utilizar Print como append mediante su argumento file\n",
    "import os\n",
    "\n",
    "poem = \"\"\"There was a young lady named Bright,\n",
    "Whose speed was far faster than light;\n",
    "She started one day\n",
    "In a relative way,\n",
    "And returned on the previous night.\n",
    "\"\"\"\n",
    "filename = \"C:/Users/dario/Desktop/Python/Jupyter/Python/TextFiles/poema.txt\"\n",
    "\n",
    "os.makedirs(os.path.dirname(filename), exist_ok=True)\n",
    "\n",
    "fout = open(filename, \"wt\")\n",
    "\n",
    "fout.write(poem)\n",
    "fout.write(\"\\n\")\n",
    "\n",
    "print(poem, file=fout, sep=\"\", end=\"\")\n",
    "fout.write(\"\\n\")\n",
    "\n",
    "# Si el source es demaciado grande podemos escribirlo en partes\n",
    "# En este caso escribe de 100 en 100 caracteres\n",
    "size = len(poem)\n",
    "offset = 0\n",
    "chunk = 100\n",
    "while True:\n",
    "    if offset > size:\n",
    "        break\n",
    "    fout.write(poem[offset:offset+chunk])\n",
    "    offset += chunk\n",
    "fout.write(\"\\n\")\n",
    "fout.close()\n",
    "\n",
    "\n",
    "# Usando x proteje al archivo de ser sobreescrito si ya existe\n",
    "filenameTwo = \"C:/Users/dario/Desktop/Python/Jupyter/Python/TextFiles/poemaDos.txt\"\n",
    "\n",
    "os.makedirs(os.path.dirname(filenameTwo), exist_ok=True)\n",
    "\n",
    "foutTwo = open(filenameTwo, \"wt\")\n",
    "foutTwo.write(poem)\n",
    "foutTwo.close()\n",
    "try:\n",
    "    foutTwo = open(filenameTwo, \"xt\")\n",
    "    foutTwo.write(poem)\n",
    "except FileExistsError:\n",
    "    print(\"File Already Exists!\")\n",
    "foutTwo.close()"
   ]
  },
  {
   "cell_type": "markdown",
   "metadata": {
    "hidden": true
   },
   "source": [
    "Para leer los datos de un archivo podemos utilizar las funciones `read()`, `readline()` o `readlines()`."
   ]
  },
  {
   "cell_type": "code",
   "execution_count": null,
   "metadata": {
    "hidden": true
   },
   "outputs": [],
   "source": [
    "# Guardar todo el texto e imprimirlo\n",
    "filenameThree = \"C:/Users/dario/Desktop/Python/Jupyter/Python/TextFiles/poema.txt\"\n",
    "os.makedirs(os.path.dirname(filenameThree), exist_ok=True)\n",
    "fin = open(filenameThree, \"rt\")\n",
    "textoDeArchivo = fin.read()\n",
    "fin.close()\n",
    "print(textoDeArchivo)"
   ]
  },
  {
   "cell_type": "code",
   "execution_count": null,
   "metadata": {
    "hidden": true
   },
   "outputs": [],
   "source": [
    "# Guardar en partes de 100 caracteres e imprimirlo\n",
    "filenameThree = \"C:/Users/dario/Desktop/Python/Jupyter/Python/TextFiles/poema.txt\"\n",
    "os.makedirs(os.path.dirname(filenameThree), exist_ok=True)\n",
    "textoDeArchivo = \"\"\n",
    "fin = open(filenameThree, \"rt\")\n",
    "chunk = 100\n",
    "while True:\n",
    "    fragment = fin.read(chunk)\n",
    "    if not fragment:\n",
    "        break\n",
    "    textoDeArchivo += fragment\n",
    "fin.close()\n",
    "print(textoDeArchivo)"
   ]
  },
  {
   "cell_type": "code",
   "execution_count": null,
   "metadata": {
    "hidden": true
   },
   "outputs": [],
   "source": [
    "# Guardar cada linea e imprimirlo\n",
    "filenameThree = \"C:/Users/dario/Desktop/Python/Jupyter/Python/TextFiles/poema.txt\"\n",
    "os.makedirs(os.path.dirname(filenameThree), exist_ok=True)\n",
    "textoDeArchivo = \"\"\n",
    "fin = open(filenameThree, \"rt\")\n",
    "while True:\n",
    "    line = fin.readline()\n",
    "    if not line:\n",
    "        break\n",
    "    textoDeArchivo += line\n",
    "fin.close()\n",
    "print(textoDeArchivo)"
   ]
  },
  {
   "cell_type": "code",
   "execution_count": null,
   "metadata": {
    "hidden": true
   },
   "outputs": [],
   "source": [
    "# Guardar cada linea con un iterador e imprimirlo\n",
    "filenameThree = \"C:/Users/dario/Desktop/Python/Jupyter/Python/TextFiles/poema.txt\"\n",
    "os.makedirs(os.path.dirname(filenameThree), exist_ok=True)\n",
    "textoDeArchivo = \"\"\n",
    "fin = open(filenameThree, \"rt\")\n",
    "for line in fin:\n",
    "    textoDeArchivo += line\n",
    "fin.close()\n",
    "print(textoDeArchivo)"
   ]
  },
  {
   "cell_type": "markdown",
   "metadata": {
    "hidden": true
   },
   "source": [
    "Tambien podemos guardar directamente bytes en el archivo en vez de un string."
   ]
  },
  {
   "cell_type": "code",
   "execution_count": null,
   "metadata": {
    "hidden": true
   },
   "outputs": [],
   "source": [
    "import os\n",
    "bdata = bytes(range(0,10))\n",
    "filename = \"C:/Users/dario/Desktop/Python/Jupyter/Python/TextFiles/archivoBinario.bin\"\n",
    "os.makedirs(os.path.dirname(filename), exist_ok=True)\n",
    "fout = open(filename, \"wb\")\n",
    "fout.write(bdata)\n",
    "fout.close()\n",
    "\n",
    "# Si quieres un context manager que cierre automaticamente el archivo\n",
    "# Puedes utilizar el keyword with\n",
    "with open(filename, \"ab\") as fout:\n",
    "    fout.write(bdata)\n",
    "    \n",
    "fin = open(filename, \"rb\")\n",
    "bdataRead = fin.read()\n",
    "fin.close()\n",
    "print(bdataRead)\n",
    "\n",
    "# tell() te dicen en que posicion del archivo estas\n",
    "# seek() te transporta a una posicion del archivo\n",
    "fin = open(filename, \"rb\")\n",
    "currentOffset = fin.tell()\n",
    "print(currentOffset)\n",
    "\n",
    "currentOffset = fin.seek(9)\n",
    "bdataReadTwo = fin.read(1)\n",
    "print(bdataReadTwo)\n",
    "\n",
    "# Origin 0 (default) relativo al inicio\n",
    "# Oirign 1 relativo a la posicion actual\n",
    "# Origin 2 relativo al final\n",
    "currentOffset = fin.seek(8, 0)\n",
    "currentOffset = fin.seek(1, 1)\n",
    "bdataReadTwo = fin.read(1)\n",
    "print(bdataReadTwo)\n",
    "\n",
    "currentOffset = fin.seek(0)\n",
    "currentOffset = fin.seek(-1, 2)\n",
    "bdataReadTwo = fin.read(1)\n",
    "print(bdataReadTwo)"
   ]
  },
  {
   "cell_type": "markdown",
   "metadata": {
    "heading_collapsed": true,
    "hidden": true
   },
   "source": [
    "### Archivos Estructurados"
   ]
  },
  {
   "cell_type": "markdown",
   "metadata": {
    "hidden": true
   },
   "source": [
    "Un **archivo estructurado** permite organizar mejor la informacion dado que un archivo plano organiza toda su informacion en una unica linea.\n",
    "\n",
    "- Separadores o delimitadores = CSV\n",
    "- Tags = HTML o XML\n",
    "- Puntuacion = JSON\n",
    "- Indentacion = YAML\n",
    "- Personalizados = Config Files"
   ]
  },
  {
   "cell_type": "code",
   "execution_count": null,
   "metadata": {
    "hidden": true
   },
   "outputs": [],
   "source": [
    "import csv, os\n",
    "# CSV files have lines (Rows) and fields (Columns)\n",
    "personas = [\n",
    "    [\"Doctor\", \"No\"],\n",
    "    [\"Rosa\", \"Klebb\"],\n",
    "    [\"Mister\", \"Big\"],\n",
    "    [\"Auric\", \"Goldfinger\"],\n",
    "    [\"Ernst\", \"Blofeld\"]\n",
    "    ]\n",
    "personasRead = []\n",
    "personasReadList = []\n",
    "filename = \"C:/Users/dario/Desktop/Python/Jupyter/Python/TextFiles/separadores.csv\"\n",
    "os.makedirs(os.path.dirname(filename), exist_ok=True)\n",
    "with open(filename, \"wt\") as fout:\n",
    "    csvout = csv.writer(fout)\n",
    "    csvout.writerows(personas)\n",
    "    \n",
    "with open(filename, \"rt\") as fin:\n",
    "    personasRead=[]\n",
    "    csvin = csv.reader(fin)\n",
    "    personasRead = [linea for linea in csvin]\n",
    "    personasRead = [trueItem for trueItem in personasRead if trueItem]\n",
    "print(personasRead)\n",
    "print()\n",
    "\n",
    "with open(filename, \"rt\") as fin:\n",
    "    personasRead=[]\n",
    "    csvin = csv.DictReader(fin, fieldnames=[\"Primer Columna\", \"Ultima Columna\"])\n",
    "    personasRead = [linea for linea in csvin]\n",
    "    personasReadList = []\n",
    "    for orderDict in personasRead:\n",
    "        personasReadList.append(dict(orderDict))\n",
    "print(personasReadList)\n",
    "print()\n",
    "\n",
    "with open(filename, \"wt\") as fout:\n",
    "    csvout = csv.DictWriter(fout, [\"Primer Columna\", \"Ultima Columna\"])\n",
    "    csvout.writeheader()\n",
    "    csvout.writerows(personasReadList)\n",
    "    \n",
    "with open(filename, \"rt\") as fin:\n",
    "    personasRead=[]\n",
    "    csvin = csv.reader(fin)\n",
    "    personasRead = [linea for linea in csvin]\n",
    "    personasRead = [trueItem for trueItem in personasRead if trueItem]\n",
    "print(personasRead)\n",
    "print()"
   ]
  },
  {
   "cell_type": "markdown",
   "metadata": {
    "hidden": true
   },
   "source": [
    "Otro formato popular para estructurar datos es con Markup. XML suele utilizarse en aplicaciones que necesitan intercambiar mensajes o feeds. Otros subformatos de XML son RSS y Atom. Tambien existen XML especializados para el sector de finanzas.\n",
    "\n",
    "Algunos modulos para trabajar con XML son etree, dom y sax."
   ]
  },
  {
   "cell_type": "code",
   "execution_count": null,
   "metadata": {
    "hidden": true
   },
   "outputs": [],
   "source": [
    "import os\n",
    "# import xml.etree.ElementTree as xmlET\n",
    "\n",
    "from defusedxml.ElementTree import parse\n",
    "xmlData = \"\"\"<?xml version = \"1.0\"?>\n",
    "<menu>\n",
    "    <breakfast hours = \"7-11\">\n",
    "        <item price = \"$6.00\">Breakfast Burritos</item>\n",
    "        <item price = \"$4.00\">Pancakes</item>\n",
    "    </breakfast>\n",
    "    <lunch hours = \"11-3\">\n",
    "        <item price = \"$5.00\">Hamburger</item>\n",
    "    </lunch>\n",
    "    <dinner hours = \"3-10\">\n",
    "        <item price = \"$8.00\">Spaghetti</item>\n",
    "    </dinner>\n",
    "</menu>\n",
    "\"\"\"\n",
    "\n",
    "filename = \"C:/Users/dario/Desktop/Python/Jupyter/Python/TextFiles/markupMenu.xml\"\n",
    "os.makedirs(os.path.dirname(filename), exist_ok=True)\n",
    "with open(filename, \"wt\") as fout:\n",
    "    fout.write(xmlData)\n",
    "# tree = xmlET.ElementTree(file=filename)\n",
    "tree = parse(filename)\n",
    "root = tree.getroot()\n",
    "print(root.tag)\n",
    "for child in root:\n",
    "    print(\"Tag:\", child.tag, \" | Atributos:\", child.attrib)\n",
    "    for grandchild in child:\n",
    "        print(\"\\tTag:\", grandchild.tag, \" | Atributos:\", grandchild.attrib,\n",
    "               \" | Valor:\", grandchild.text)"
   ]
  },
  {
   "cell_type": "markdown",
   "metadata": {
    "hidden": true
   },
   "source": [
    "Python cuenta con el modulo `json` para trabajar con archivos estructurados de este tipo."
   ]
  },
  {
   "cell_type": "code",
   "execution_count": null,
   "metadata": {
    "hidden": true
   },
   "outputs": [],
   "source": [
    "import json, os\n",
    "\n",
    "menu = \\\n",
    "\"\"\"{\n",
    "    \"breakfast\": {\n",
    "        \"hours\": \"7-11\",\n",
    "        \"items\": {\n",
    "            \"breakfast burritos\": \"$6.00\",\n",
    "            \"pancakes\": \"$4.00\"\n",
    "        }\n",
    "    },\n",
    "    \"lunch\": {\n",
    "        \"hours\": \"11-3\",\n",
    "        \"items\": {\n",
    "            \"hamburger\": \"$5.00\",\n",
    "        }\n",
    "    },\n",
    "    \"dinner\": {\n",
    "        \"hours\": \"3-10\",\n",
    "        \"items\": {\n",
    "            \"spaghetti\": \"$8.00\"\n",
    "        }\n",
    "    }\n",
    "}\"\"\"\n",
    "\n",
    "filename = \"C:/Users/dario/Desktop/Python/Jupyter/Python/TextFiles/jsonMenu.json\"\n",
    "os.makedirs(os.path.dirname(filename), exist_ok=True)\n",
    "with open(filename, \"wt\") as fout:\n",
    "    fout.write(menu)\n",
    "    \n",
    "menu_json = json.dumps(filename)\n",
    "print(type(menu_json))\n",
    "\n",
    "menu_Read = json.loads(menu_json)\n",
    "print(type(menu_Read))\n",
    "\n",
    "import datetime as dt\n",
    "now = dt.datetime.utcnow()\n",
    "now_str = str(now)\n",
    "now_json = json.dumps(now_str)\n",
    "print(now_json)\n",
    "\n",
    "from time import mktime\n",
    "now_epoch = int(mktime(now.timetuple()))\n",
    "epoch_json = json.dumps(now_epoch)\n",
    "print(epoch_json)"
   ]
  },
  {
   "cell_type": "markdown",
   "metadata": {
    "hidden": true
   },
   "source": [
    "YAML surge como una alternativa a JSON que admite una gran cantidad de tipos de datos como tiempos y otros descriptores. Para delimitar su estructura utiliza indentación."
   ]
  },
  {
   "cell_type": "code",
   "execution_count": null,
   "metadata": {
    "hidden": true
   },
   "outputs": [],
   "source": [
    "import yaml\n",
    "yamlData = \\\n",
    "\"\"\"\n",
    "name:\n",
    "    first: James\n",
    "    last: McIntyre\n",
    "dates:\n",
    "    birth: 1828-05-25\n",
    "    death: 1906-03-31\n",
    "details:\n",
    "    bearded: true\n",
    "    themes: [cheese, Canada]\n",
    "books:\n",
    "    url: http://www.gutenberg.org/files/36068/36068-h/36068-h.htm\n",
    "poems:\n",
    "    - title: \"Motto\"\n",
    "      text: |\n",
    "        Politeness, perseverance and pluck,\n",
    "        To their possessor will bring good luck.\n",
    "    - title: \"Canadian Charms\"\n",
    "      text: |\n",
    "        Here industry is not in vain,\n",
    "        For we have bounteous crops of grain...\n",
    "\"\"\"\n",
    "\n",
    "filename = \"C:/Users/dario/Desktop/Python/Jupyter/Python/TextFiles/poetJames.yaml\"\n",
    "os.makedirs(os.path.dirname(filename), exist_ok=True)\n",
    "with open(filename, \"wt\") as fout:\n",
    "    fout.write(yamlData)\n",
    "with open(filename, \"rt\") as fin:\n",
    "    text = fin.read()\n",
    "pythonData = yaml.safe_load(text)\n",
    "print(pythonData[\"details\"])\n",
    "print(pythonData[\"poems\"][1][\"title\"])"
   ]
  },
  {
   "cell_type": "markdown",
   "metadata": {
    "hidden": true
   },
   "source": [
    "Los archivos de configuracion guardan el estado de las opciones de un programa. Los *dinamicos* son indicados mediante argumentos, mientras que los estaticos se guardan en un archivo.\n",
    "\n",
    "Podemos utilizar cualquier variante de archivo estructurado pero corremos el riesgo de modificar el programa que parsea el archivo. Una buena alternativa es utilizar `configparser` que genera archivos `INI`."
   ]
  },
  {
   "cell_type": "code",
   "execution_count": null,
   "metadata": {
    "hidden": true
   },
   "outputs": [],
   "source": [
    "configData = \\\n",
    "\"\"\"\n",
    "[english]\n",
    "greeting = Hello\n",
    "[french]\n",
    "greeting = Bonjour\n",
    "[files]\n",
    "home = /usr/local\n",
    "# Simple Interpolation:\n",
    "bin = %(home)s/bin\n",
    "\"\"\"\n",
    "filename = \"C:/Users/dario/Desktop/Python/Jupyter/Python/TextFiles/settings.cfg\"\n",
    "os.makedirs(os.path.dirname(filename), exist_ok=True)\n",
    "with open(filename, \"wt\") as fout:\n",
    "    fout.write(configData)\n",
    "\n",
    "import configparser\n",
    "cfg = configparser.ConfigParser()\n",
    "cfg.read(filename)\n",
    "print(list(cfg))\n",
    "print(cfg[\"english\"])\n",
    "print(cfg[\"english\"][\"greeting\"])\n",
    "print(cfg[\"files\"][\"bin\"])"
   ]
  },
  {
   "cell_type": "markdown",
   "metadata": {
    "hidden": true
   },
   "source": [
    "Existen otros formatos para el intercambio de datos más compactos y rapidos que XML o JSON, por ejemplo MsgPack, Protocol Buffer, Avro o Thrift.\n",
    "\n",
    "Guardar estructuras de datos en un archivo se denomina **Serialización**. Python cuenta con el modulo `pickle` para intentar guardar o restaurar una estructura de datos en cualquier archivo estructurado con un formato especial."
   ]
  },
  {
   "cell_type": "code",
   "execution_count": null,
   "metadata": {
    "hidden": true
   },
   "outputs": [],
   "source": [
    "import pickle, datetime\n",
    "now = datetime.datetime.utcnow()\n",
    "pickled = pickle.dumps(now)\n",
    "nowTwo = pickle.loads(pickled)\n",
    "print(now)\n",
    "print(nowTwo)\n",
    "\n",
    "# Tambien funciona para serializar clases\n",
    "\n",
    "class ejemploClase():\n",
    "    def  __str__(self):\n",
    "        return \"Este es un ejemplo.\"\n",
    "objEjemplo = ejemploClase()\n",
    "print(repr(objEjemplo))\n",
    "print(objEjemplo)\n",
    "pickledData = pickle.dumps(objEjemplo)\n",
    "print(pickledData)\n",
    "objEjemploFromPickledData = pickle.loads(pickledData)\n",
    "print(objEjemploFromPickledData)\n",
    "\n",
    "# Igual que con YAML se debe tener cuidado de no reconstruir\n",
    "# Archivos que no se confien."
   ]
  },
  {
   "cell_type": "markdown",
   "metadata": {
    "hidden": true
   },
   "source": [
    "Hay otros archivos estructurados especiales que se asemejan a bases de datos pero no pertenecen propiamente a esta categoria. Por ejemplo los **Spreadsheets** pueden ser transformados a CSV. El modulo `xlrd` permite trabajar con archivos binarios xls.\n",
    "\n",
    "El formato binario **HDF5** es utilizado para jerarquias multidimencionales en las ciencias, permite acceder a bases de datos con mucha informacion. A pesar de su eficiencia no es ampliamente para negocios.\n",
    "\n",
    "HDF5 es ideal para aplicaciones **WORM** (Write Once and Read Many), en donde las protecciones para escrituras conflictivas no es necesario. Para trabajar con HDF5 y otros formatos similares existen las librerias `h5py` y `PyTables`."
   ]
  },
  {
   "cell_type": "markdown",
   "metadata": {
    "heading_collapsed": true,
    "hidden": true
   },
   "source": [
    "### Bases de Datos"
   ]
  },
  {
   "cell_type": "markdown",
   "metadata": {
    "hidden": true
   },
   "source": [
    "Las **Bases de Datos Relacionales** tienen muchas ventajas y son utilizadas ampliamente:\n",
    "\n",
    "- Acceso por multiples usuarios simultaneamente.\n",
    "- Proteccion por corrupcion por otros usuarios.\n",
    "- Metodos eficientes para guardar y extraer datos.\n",
    "- Datos definidos por Schemas y limitados por Contraints.\n",
    "- Joins para definir relaciones a traves de tipos de datos.\n",
    "- Un lenguaje Query declarativo: SQL.\n",
    "\n",
    "Una **tabla** es una serie de filas y columnas. Para crearla solo hay que nombrarla y especificar el orden, nombres y tipos de datos de sus columnas. Una columna puede ser opcional, permitiendo datos nulos.\n",
    "\n",
    "Una columna o serie de columnas son la **llave primaria** de la tabla, sus valores deben de ser unicos previniendo que se duplique la introduccion de una nueva fila de datos.\n",
    "\n",
    "El lenguaje declarativo de las bases de datos es **SQL**. A diferencia de otros lenguajes en SQL no determinas como hacer algo, unicamente lo que pretendes obtener. Las sentencias de SQL son peticiones que un cliente envia a un servidor de base de datos, el servidor decide que generar al recibir la petición.\n",
    "\n",
    "Existen multiples definiciones de SQL en donde cada sistema de base de datos añade sus propias reglas, resultando en multiples **dialectos de SQL**. Las declaraciones más comunes se dividen en **DDL** (Data Definition Language) y **DML** (Data Manipulation Language).\n",
    "\n",
    "| DDL | - |\n",
    "| --- | --- |\n",
    "| Create Database | CREATE DATABASE dbname |\n",
    "| Select Current Database | USE dbname |\n",
    "| Delete a Database | DROP DATABASE dbname |\n",
    "| Create Table | CREATE TABLE tbname (colNames colDataTypes) |\n",
    "| Delete Table | DROP TABLE tbname |\n",
    "| Remove all Rows | TRUNCATE TABLE tbname |\n",
    "\n",
    "| DML | - |\n",
    "| --- | --- |\n",
    "| Add Row | INSERT INTO tbname VALUES ( ... ) |\n",
    "| Select All Rows and Columns | SELECT * FROM tbname |\n",
    "| Select All Rows, some Col | SELECT cols FROM tbname |\n",
    "| Select Some Rows Some Col | SELECT cols FROM tbname WHERE condition |\n",
    "| Change some rows in a column | UPDATE tbname SET col = value WHERE condition |\n",
    "| Delete some rows | DELETE FROM tbname WHERE condition |\n",
    "\n",
    "Python cuenta con una interfaz estandar para trabajar con bases de datos denominada **Python DB-API** que es similar al JDBC de Java o el DBI de Perl. La interfaz define un *Conector* y un *Cursor* para poder ejecutar comandos y recibir resultados.\n",
    "\n",
    "- Connect: Conecta a la base de datos. El servidor puede requerir nombre de usuario, contraseña, direcion entre otros.\n",
    "- Cursor: Crea un objeto Cursor en la base de datos que administra la llegada de peticiones.\n",
    "- Execute y Executemany: Permite ejecutar uno o mas comandos SQL en la base de datos.\n",
    "- Fetchone, Fetchmany y Fetchall: Obtiene los resultados de Execute.\n",
    "\n",
    "**SQLite** es un sistema de base de datos ligero, rapido y libre. Python puede trabajar con este sistema mediante la libreria `sqlite3`. SQlite genera archivos de base de datos que pueden ser utilizados de forma local, sin embargo su funcionalidad es limitada a comparación de **MySQL** o **PostgreSQL**."
   ]
  },
  {
   "cell_type": "code",
   "execution_count": null,
   "metadata": {
    "hidden": true
   },
   "outputs": [],
   "source": [
    "import sqlite3\n",
    "\n",
    "filename = \"C:/Users/dario/Desktop/Python/Jupyter/Python/TextFiles/zooEnterprise.db\"\n",
    "os.makedirs(os.path.dirname(filename), exist_ok=True)\n",
    "connectObj = sqlite3.connect(filename)\n",
    "cursorObj = connectObj.cursor()\n",
    "try:\n",
    "    cursorObj.execute(\"\"\"\n",
    "    CREATE TABLE zoo\n",
    "    (critter VARCHAR(20) PRIMARY KEY,\n",
    "    count INT,\n",
    "    damages FLOAT)\n",
    "    \"\"\")\n",
    "    \n",
    "except sqlite3.OperationalError as err:\n",
    "        print(\"Ya existe la tabla!\")\n",
    "\n",
    "cursorObj.execute(\"INSERT INTO zoo VALUES ('duck', 5, 0.0)\")\n",
    "cursorObj.execute(\"INSERT INTO zoo VALUES ('bear', 2, 1000.0)\")\n",
    "    \n",
    "    # Using a safer placeholder\n",
    "tempIns = \"INSERT INTO zoo (critter, count, damages) VALUES (?, ?, ?)\"\n",
    "cursorObj.execute(tempIns, (\"weasel\", 1, 2000.0))\n",
    "\n",
    "cursorObj.execute(\"SELECT * FROM zoo\")\n",
    "allRows = cursorObj.fetchall()\n",
    "print(allRows)\n",
    "cursorObj.execute(\"SELECT * FROM zoo ORDER BY count\")\n",
    "allRows = cursorObj.fetchall()\n",
    "print(allRows)\n",
    "cursorObj.execute(\"SELECT * FROM zoo ORDER BY count DESC\")\n",
    "allRows = cursorObj.fetchall()\n",
    "print(allRows)\n",
    "cursorObj.execute(\"SELECT * FROM zoo WHERE damages = (SELECT MAX(damages) FROM zoo)\")\n",
    "allRows = cursorObj.fetchall()\n",
    "print(allRows)\n",
    "\n",
    "cursorObj.close()\n",
    "connectObj.close()"
   ]
  },
  {
   "cell_type": "markdown",
   "metadata": {
    "hidden": true
   },
   "source": [
    "**MySQL** es un sistema de base de datos popular. A diferencia de SQLite es un servidor que cualquier cliente puede accesar desde una red. MySQL tiene distintos drivers para distintas plataformas, el más popular es MysqlDB. SQL en MySQL puede ser ejecutado desde el DB-API, pero una libreria que es utilizada ampliamente y permite un mayor control es **SQLAlchemy**.\n",
    "\n",
    "En un nivel más basico SQLAlchemy permite conectarte a Pools de bases de datos, ejecutar SQL y regresar resultados de forma similar a DB-API. Tambien permite utilizar **SQL Expression Language** un dialecto creado especificamente para Python. Finalmente puede administrar un **ORM** (Object Relational Model) que utiliza SQLEL para relacionar los objetos de Python con la base de datos.\n",
    "\n",
    "Para conectar con una base de datos utilizando SQLAlchemy definimos:\n",
    "\n",
    "    dialect + driver :// user : password @ host : port / dbname\n",
    "\n",
    "| Dialecto | Driver | Libreria |\n",
    "| --- | --- | --- |\n",
    "| sqlite | pysqlite (or nothing) | sqlite3 | \n",
    "| mysql | mysqlconnector | mysql.connector |\n",
    "| mysql | pymysql | pymysql |\n",
    "| mysql | oursql | oursql |\n",
    "| postgresql | psycopg2 | psycopg2 |\n",
    "| postgresql | pypostgresql | py-postgresql |\n",
    " \n",
    "\n",
    "\n",
    "\n",
    "\n",
    "\n",
    "\n",
    "\n",
    "\n",
    "\n",
    "\n",
    "\n"
   ]
  },
  {
   "cell_type": "code",
   "execution_count": null,
   "metadata": {
    "hidden": true
   },
   "outputs": [],
   "source": [
    "import sqlalchemy as sa\n",
    "# dialect + driver :// user : password @ host : port / dbname\n",
    "# SQlite  no necesita user, password, host o port.\n",
    "# Podemos omitir el driver pysqlite.\n",
    "\n",
    "conn = sa.create_engine('sqlite:////Users/dario/Desktop/Python/Jupyter/Python/TextFiles/zooEnterpriseTwo.db')\n",
    "#sqlalchemy_utils.functions.database_exists(url)\n",
    "try:\n",
    "    conn.execute('''CREATE TABLE zoo\n",
    "    (critter VARCHAR(20) PRIMARY KEY,\n",
    "    count INT,\n",
    "    damages FLOAT)''')\n",
    "except Exception as err:\n",
    "    print(\"Ya existe la tabla!\")\n",
    "    print(err)\n",
    "ins = \"INSERT INTO zoo (critter, count, damages) VALUES (?,?,?)\"\n",
    "conn.execute(ins, \"duck\", 10, 0.0)\n",
    "conn.execute(ins, \"bear\", 2, 1000.0)\n",
    "conn.execute(ins, \"weasel\", 1, 2000.0)\n",
    "rows = conn.execute(\"SELECT * FROM zoo\")\n",
    "print(rows)\n",
    "for row in rows:\n",
    "    print(row)"
   ]
  },
  {
   "cell_type": "markdown",
   "metadata": {
    "hidden": true
   },
   "source": [
    "Para utilizar **SQL Expression Language** escribimos las operaciones SQL en forma de funciones. Se recomienda utilizar este lenguaje ya que automaticamente traduce los distintos dialectos de SQL."
   ]
  },
  {
   "cell_type": "code",
   "execution_count": null,
   "metadata": {
    "hidden": true
   },
   "outputs": [],
   "source": [
    "import sqlalchemy as sa\n",
    "# El objeto que tiene los metodos de la base de datos es ZOOThree\n",
    "\n",
    "conn = sa.create_engine('sqlite:////Users/dario/Desktop/Python/Jupyter/Python/TextFiles/zooEnterpriseThree.db')\n",
    "meta = sa.MetaData()\n",
    "try:\n",
    "    zooThree = sa.Table(\"zoo\", meta,\n",
    "                   sa.Column(\"critter\", sa.String, primary_key=True),\n",
    "                   sa.Column(\"count\", sa.Integer),\n",
    "                   sa.Column(\"damages\", sa.Float)\n",
    "                  )\n",
    "    meta.create_all(conn)\n",
    "    conn.execute(zooThree.insert((\"bear\", 2, 1000.0)))\n",
    "    conn.execute(zooThree.insert((\"weasel\", 1, 2000.0)))\n",
    "    conn.execute(zooThree.insert((\"duck\", 10, 0.0)))\n",
    "except Exception as err:\n",
    "    print(\"Ya existe la tabla!\")\n",
    "    print(err)\n",
    "result = conn.execute(zooThree.select())\n",
    "rows = result.fetchall()\n",
    "print(rows)"
   ]
  },
  {
   "cell_type": "markdown",
   "metadata": {
    "hidden": true
   },
   "source": [
    "Finalmente si queremos abstraer la base de datos podemos utilizar un **ORM** para relacionar el objeto de python directamente a la base de datos. Finalmente existe la opcion de utilizar un **DataSet** estructura incluida en el modulo SQLAlchemy."
   ]
  },
  {
   "cell_type": "code",
   "execution_count": null,
   "metadata": {
    "hidden": true
   },
   "outputs": [],
   "source": [
    "import sqlalchemy as sa\n",
    "from sqlalchemy.ext.declarative import declarative_base\n",
    "from sqlalchemy.orm import sessionmaker\n",
    "conn = sa.create_engine('sqlite:////Users/dario/Desktop/Python/Jupyter/Python/TextFiles/zooEnterpriseFour.db')\n",
    "Base = declarative_base()\n",
    "class ZooDB(Base):\n",
    "    __tablename__ = \"zoo\"\n",
    "    critter = sa.Column(\"critter\", sa.String, primary_key=True)\n",
    "    count =  sa.Column(\"count\", sa.Integer)\n",
    "    damages = sa.Column(\"damages\", sa.Float)\n",
    "    def __init__(self, critter, count, damages):\n",
    "        self.critter = critter\n",
    "        self.count = count\n",
    "        self.damages = damages\n",
    "    def __repr__(self):\n",
    "        return \"<ZooDB({}, {}, {})>\".format(self.critter, self.count, self.damages)\n",
    "Base.metadata.create_all(conn)\n",
    "first = ZooDB(\"duck\", 10, 0.0)\n",
    "second = ZooDB(\"bear\", 2, 1000.0)\n",
    "third = ZooDB(\"weasel\", 1, 2000.0)\n",
    "SessionClass = sessionmaker(bind = conn)\n",
    "session = SessionClass()\n",
    "try:\n",
    "    session.add(first)\n",
    "    session.add_all([second, third])\n",
    "    session.commit()\n",
    "except Exception as err:\n",
    "    print(\"Ya existe la tabla!\")\n",
    "    print(err)\n",
    "session.rollback()\n",
    "rows = session.query(ZooDB).all()\n",
    "print(rows)\n",
    "for row in rows:\n",
    "    print(\"Critter:\", row.critter,\"| Count:\",row.count,\"| Damages:\", row.damages)\n",
    "session.close()"
   ]
  },
  {
   "cell_type": "markdown",
   "metadata": {
    "heading_collapsed": true,
    "hidden": true
   },
   "source": [
    "### NoSQL"
   ]
  },
  {
   "cell_type": "markdown",
   "metadata": {
    "hidden": true
   },
   "source": [
    "Existen otras formas de guardar informacion que se consideran bases de datos pero que no utilizan peticiones SQL. Estas estructuras se denominan **NoSQL Data Stores**.\n",
    "\n",
    "Un formato NoSQL es `dbm`. Es una estructura de datos similar a un diccionario de Python. Una desventaja es que guarda los datos en bytes y no es posible iterar sus elementos."
   ]
  },
  {
   "cell_type": "code",
   "execution_count": null,
   "metadata": {
    "hidden": true
   },
   "outputs": [],
   "source": [
    "import dbm, os\n",
    "filename = \"C:/Users/dario/Desktop/Python/Jupyter/Python/TextFiles/dbmUnix\"\n",
    "os.makedirs(os.path.dirname(filename), exist_ok=True)\n",
    "\n",
    "with dbm.open(filename, \"c\") as db:\n",
    "    db[\"mustard\"] = \"yellow\"\n",
    "    db[\"ketchup\"] = \"red\"\n",
    "    db[\"pesto\"] = \"green\"\n",
    "    getPestoColor = db[\"pesto\"]\n",
    "    print(getPestoColor)\n",
    "    \n",
    "with dbm.open(filename, \"r\") as db:\n",
    "    getMustardColor = db[\"mustard\"]\n",
    "    print(getMustardColor)"
   ]
  },
  {
   "cell_type": "markdown",
   "metadata": {
    "hidden": true
   },
   "source": [
    "Un servidor rapido por utilizar la memoria cache es `memcached`. Generalmente se utiliza al frente de una base de datos para guardar la informacion que se esta utilizando en el momento."
   ]
  },
  {
   "cell_type": "code",
   "execution_count": null,
   "metadata": {
    "hidden": true
   },
   "outputs": [],
   "source": [
    "import memcache\n",
    "db = memcache.Client([\"127.0.0.1:11211\"])\n",
    "correctSet = db.set(\"marco\", \"polo\")\n",
    "print(correctSet)\n",
    "getValueSet = db.get(\"marco\")\n",
    "print(getValueSet)\n",
    "correctSet = db.set(\"ducks\", 0)\n",
    "print(correctSet)\n",
    "getValueSet = db.get(\"ducks\")\n",
    "print(getValueSet)\n",
    "incrementValue = db.incr(\"ducks\", 33)\n",
    "getValueIncremented = db.get(\"ducks\")\n",
    "print(getValueIncremented)"
   ]
  },
  {
   "cell_type": "markdown",
   "metadata": {
    "hidden": true
   },
   "source": [
    "Un [servidor de estructuras de datos](https://github.com/MicrosoftArchive/redis/releases) o **Redis** es similar a memcached, aunque incluye la opcion de guardar en disco y permite guardar estructuras de datos más complejas. Para inicar el servidor ejecute `redis-server`, para detener agrege el comando `stop`."
   ]
  },
  {
   "cell_type": "code",
   "execution_count": null,
   "metadata": {
    "hidden": true
   },
   "outputs": [],
   "source": [
    "# Iniciando el servidor Redis con el nombre de localhost.\n",
    "\n",
    "import redis\n",
    "conn = redis.Redis(\"localhost\", 6379)\n",
    "conn.set(\"secret\", \"ni!\")\n",
    "conn.set(\"carats\", 24)\n",
    "conn.set(\"fever\", 101.5)\n",
    "print(\"Value of secret key:\", conn.get(\"secret\"))\n",
    "conn.setnx(\"secret\", \"error\")\n",
    "print(\"Old Value:\", conn.getset(\"secret\", \"ni new!\"))\n",
    "print(\"New Value:\", conn.get(\"secret\"))\n",
    "print(\"Substring:\", conn.getrange(\"secret\", 3, 5))\n",
    "conn.setrange(\"secret\", 3, \"old again!\")\n",
    "print(\"Replace:\", conn.get(\"secret\"))\n",
    "print()\n",
    "\n",
    "conn.mset({\"pie\":\"cherry\", \"cordial\": \"sherry\"})\n",
    "print(\"Multiple Get:\", conn.mget([\"fever\", \"carats\"]))\n",
    "conn.delete(\"fever\")\n",
    "conn.incr(\"carats\", 10)\n",
    "conn.decr(\"carats\", 9)\n",
    "print(\"Increment Int:\", conn.get(\"carats\"))\n",
    "conn.incrbyfloat(\"fever\", 0.44)\n",
    "print(\"Increment Float:\", conn.get(\"fever\"))\n",
    "print()\n",
    "\n",
    "conn.lpush(\"zoo\", \"bear\")\n",
    "conn.lpush(\"zoo\", \"alligator\", \"duck\")\n",
    "conn.linsert(\"zoo\", \"before\", \"bear\", \"beaver\")\n",
    "conn.linsert(\"zoo\", \"after\", \"bear\", \"cassowary\")\n",
    "conn.lset(\"zoo\", 2, \"marmoset\")\n",
    "conn.rpush(\"zoo\", \"yak\")\n",
    "print(\"Value at index 3:\", conn.lindex(\"zoo\", 3))\n",
    "print(\"List range:\", conn.lrange(\"zoo\", 0, 2))\n",
    "conn.ltrim(\"zoo\", 1, 4)\n",
    "print(\"New List range:\", conn.lrange(\"zoo\", 0, -1))\n",
    "print()\n",
    "\n",
    "conn.hmset(\"song\", {\"do\":\"a deer\", \"re\":\"about a deer\"})\n",
    "conn.hset(\"song\", \"mi\", \"a note to fallow re\")\n",
    "print(\"Mi Value:\", conn.hget(\"song\", \"mi\"))\n",
    "print(\"Re and Do Value:\", conn.hmget(\"song\", \"re\", \"do\"))\n",
    "print(\"Keys:\", conn.hkeys(\"song\"))\n",
    "print(\"Values:\", conn.hvals(\"song\"))\n",
    "print(\"Lenght:\", conn.hlen(\"song\"))\n",
    "print(\"Get All:\", conn.hgetall(\"song\"))\n",
    "conn.hsetnx(\"song\", \"fa\", \"a note that rhymes with la\")\n",
    "print(\"Add Value :\", conn.hget(\"song\", \"fa\"))\n",
    "print()\n",
    "\n",
    "conn.sadd(\"setZoo\", \"duck\", \"goat\", \"turkey\")\n",
    "print(\"Set Lenght:\", conn.scard(\"setZoo\"))\n",
    "print(\"Set Members:\", conn.smembers(\"setZoo\"))\n",
    "conn.srem(\"setZoo\", \"turkey\")\n",
    "print(\"Remove Turkey:\", conn.smembers(\"setZoo\"))\n",
    "conn.sadd(\"better_zoo\", \"tiger\", \"wolf\", \"duck\")\n",
    "print(\"Intersect :\", conn.sinter(\"setZoo\", \"better_zoo\"))\n",
    "conn.sinterstore(\"fowl_zoo\", \"setZoo\", \"better_zoo\")\n",
    "print(\"Inter store:\", conn.smembers(\"fowl_zoo\"))\n",
    "print(\"Union:\", conn.sunion(\"setZoo\", \"better_zoo\"))\n",
    "conn.sunionstore(\"fabulous_zoo\", \"setZoo\", \"better_zoo\")\n",
    "print(\"Union store:\", conn.smembers(\"fabulous_zoo\"))\n",
    "conn.sdiffstore(\"zoo_sale\", \"setZoo\", \"better_zoo\")\n",
    "print(\"Difference store:\", conn.smembers(\"zoo_sale\"))\n",
    "print()\n",
    "\n",
    "import time\n",
    "now = time.time()\n",
    "conn.zadd(\"logins\", {\"smeagol\":now} )\n",
    "conn.zadd(\"logins\", {\"sauron\":now+(5*60)})\n",
    "conn.zadd(\"logins\", {\"bilbo\":now+(2*60*60)})\n",
    "conn.zadd(\"logins\", {\"treebeard\":now+(24*60*60)})\n",
    "print(\"Rank of bilbo:\", conn.zrank(\"logins\", \"bilbo\"))\n",
    "print(\"Score of bilbo:\", conn.zscore(\"logins\", \"bilbo\"))\n",
    "print(\"Sort everybody:\", conn.zrange(\"logins\", 0, -1))\n",
    "print(\"Sort with score:\", conn.zrange(\"logins\", 0, -1, withscores=True))\n",
    "print()\n",
    "\n",
    "days = [\"2013-02-25\", \"2013-02-26\", \"2013-02-27\"]\n",
    "big_spender = 1089\n",
    "tire_kicker = 40459\n",
    "late_joiner = 550212\n",
    "conn.setbit(days[0], big_spender, 1)\n",
    "conn.setbit(days[0], tire_kicker, 1)\n",
    "conn.setbit(days[1], big_spender, 1)\n",
    "conn.setbit(days[2], big_spender, 1)\n",
    "conn.setbit(days[2], late_joiner, 1)\n",
    "count = 1\n",
    "for day in days:\n",
    "    print(\"Visitors at day\", count, \":\", conn.bitcount(day))\n",
    "    count += 1\n",
    "print(\"Visits of (tire_kicker) at second day:\", conn.getbit(days[1], tire_kicker))\n",
    "print(\"Bit Operation:\", conn.bitop(\"and\", \"everyday\", *days))\n",
    "print(\"No. of users that visited everyday:\", conn.bitcount(\"everyday\"))\n",
    "print(\"User that visited everyday:\", conn.getbit(\"everyday\", big_spender))\n",
    "print(\"Bit Operation:\", conn.bitop(\"or\", \"alldays\", *days))\n",
    "print(\"Total unique user visits:\", conn.bitcount(\"alldays\"))\n",
    "print()\n",
    "\n",
    "key = \"now you see it\"\n",
    "conn.set(key, \"but not for long\")\n",
    "conn.expire(key, 5) # In seconds\n",
    "print(\"Time until key expires:\", conn.ttl(key))\n",
    "print(\"Key value:\", conn.get(key))\n",
    "time.sleep(6)\n",
    "print(\"After it expires:\", conn.get(key))"
   ]
  },
  {
   "cell_type": "markdown",
   "metadata": {
    "hidden": true
   },
   "source": [
    "Otras bases de datos NoSQL compatibles con Python son las siguientes:\n",
    "\n",
    "| Nombre | Libreria |\n",
    "| --- | --- |\n",
    "| Cassandra | pycassa |\n",
    "| CouchDB | couchdb-python |\n",
    "| HBase | happybase |\n",
    "| Kyoto Cabinet | kyotocabinet |\n",
    "| MongoDB | mongodb |\n",
    "| Riak | riak-python-client |\n",
    "\n",
    "Una categoria especial de bases de datos se denomina **Full Text Data Bases**. Se caracterizan por no tener valores llave y estar diseñadas para ser indexadas por completo, utiles para buscar entre una gran cantidad de texto. Generalmente necesitan de grandes servidores.\n",
    "\n",
    "| Nombre | Libreria |\n",
    "| --- | --- |\n",
    "| Lucene | pylucene |\n",
    "| Solr | SolPython |\n",
    "| ElasticSearch | pyes |\n",
    "| Sphinx | sphinxapi |\n",
    "| Xapian | xappy |\n",
    "| Whoosh | whoosh-api |"
   ]
  },
  {
   "cell_type": "markdown",
   "metadata": {
    "heading_collapsed": true
   },
   "source": [
    "## Web API's"
   ]
  },
  {
   "cell_type": "markdown",
   "metadata": {
    "hidden": true
   },
   "source": [
    "Ademas de la web (HTTP) existen otros protocolos para el intercambio de informacion entre clientes y servidores, pero la mayoria se basa en  [TCP/IP](https://en.wikipedia.org/wiki/Internet_protocol_suite) para mover los bytes de una computadora a otra.\n",
    "\n",
    "- El cliente realiza una peticion a un servidor.\n",
    "- La peticion abre una coneccion TCP/IP.\n",
    "- Envia la URL y otra informacion por HTTP\n",
    "- El servidor recibe la URL y la informacion.\n",
    "- El servidor usa la URL y esa informacion para su respuesta.\n",
    "- El cliente recibe la respuesta del servidor.\n",
    "\n",
    "El protocolo HTTP define el formato de la peticion y la respuesta. El cliente más utilizado es el **navegador** que incluye automaticamente la informacion adicional que la URL necesita. El servidor puede responder con informacion para visualizar (HTML, CSS, JS) pero no necesariamente.\n",
    "\n",
    "- **Caching**: El contenido que no cambia debera ser guardado por el clente para evitar descargarlo nuevamente.\n",
    "- **Sessions**: Hay datos que deben ser recordados durante toda la coneccion con el servidor.\n",
    "- **Autentificacion**: Usuario y contraseña debera ser recordado durante toda la coneccion despues de iniciar sesión y tal vez despues.\n",
    "\n",
    "Los **cookies** pueden solucionar algunos de estos problemas.\n",
    "\n",
    "Para acceder a un servidor desde una terminal podemos utilizar el antiguo cliente CLI `telnet`.\n",
    "\n",
    "``` \n",
    "# Para conectar con un servidor de google que se encuentre escuchando en el puerto 80\n",
    "telnet www.google.com 80\n",
    "\n",
    "# El comando HTTP GET genera el Contenido de la respuesta HTTP\n",
    "# El comando HTTP HEAD solo regresa los Headers de la respuesta\n",
    "# Algunos headers son obligatorios y otros opcionales. Presionar enter dos veces para enviar comando.\n",
    "# Sintaxis : HEAD URL PROTOCOL (/ = Home Dir)\n",
    "HEAD / HTTP/1.1\n",
    "\n",
    "# Para salir del cliente utilizamos q\n",
    "q\n",
    "``` \n",
    "\n",
    "Python 3 organizo sus modulos web en dos paquetes:\n",
    "\n",
    "- html: Todos los detalles HTTP\n",
    "    - client: Actua como cliente\n",
    "    - server: Actua como servidor\n",
    "    - cookies y cookiejar: Administra cookies\n",
    "- urllib: Permite manejar URLs\n",
    "    - request: Generar peticiones\n",
    "    - response: Generar respuestas\n",
    "    - parse: Traduce URLs"
   ]
  },
  {
   "cell_type": "code",
   "execution_count": null,
   "metadata": {
    "hidden": true
   },
   "outputs": [],
   "source": [
    "import urllib.request as ur\n",
    "import json\n",
    "\n",
    "# Rest API\n",
    "url = \"http://quotes.rest/qod.json\"\n",
    "\n",
    "# HTTPResponse Object\n",
    "conn = ur.urlopen(url)\n",
    "\n",
    "# Byte Data from the resource\n",
    "data = conn.read()\n",
    "print(\"Codigo de Estatus:\", conn.status)\n",
    "\n",
    "# Get Data String\n",
    "data_json = json.loads(data.decode(\"utf-8\"))\n",
    "\n",
    "quotesList = data_json.get(\"contents\").get(\"quotes\")\n",
    "firstQuote = quotesList[0]\n",
    "firstQuoteContent = firstQuote.get(\"quote\")\n",
    "print(firstQuoteContent)"
   ]
  },
  {
   "cell_type": "markdown",
   "metadata": {
    "hidden": true
   },
   "source": [
    "Existen multiples codigos de estatus HTTP agrupados por su primer digito:\n",
    "\n",
    "- 100s: Estatus de informacion, el servidor recibio la peticion pero existe informacion extra para el cliente.\n",
    "- 200s: Estatus de exito, el servidor recibio la peticion y genero la respuesta correctamente.\n",
    "- 300s: Estatus de redireccion, el recurso se encuentra en otra direccion se genera un nuevo URL para el cliente.\n",
    "- 400s: Error del cliente, por ejemplo al pedir un recurso inexistente (404).\n",
    "- 500s: Error del servidor, por ejemplo cuando el servidor web y el servidor backend estan desconectados (503).\n",
    "\n",
    "El servidor puede enviar la respuesta en cualquier formato dentro del protocolo HTTP. El formato lo especifica en el Header `Content-Type`, que especifica un `MIME Type`."
   ]
  },
  {
   "cell_type": "code",
   "execution_count": null,
   "metadata": {
    "hidden": true
   },
   "outputs": [],
   "source": [
    "import urllib.request as ur\n",
    "\n",
    "# Site\n",
    "url = \"http://www.google.com\"\n",
    "\n",
    "# HTTPResponse Object\n",
    "conn = ur.urlopen(url)\n",
    "\n",
    "# Headers list\n",
    "headers = conn.getheaders()\n",
    "\n",
    "# Print Headers\n",
    "for header, value in headers:\n",
    "    if(header == \"Set-Cookie\" or header == \"P3P\"):\n",
    "        print(\"|{0:^20}|{1:^40.35s}|\".format(header, value))\n",
    "    else:\n",
    "        print(\"|{0:^20}|{1:^40s}|\".format(header, value))"
   ]
  },
  {
   "cell_type": "markdown",
   "metadata": {
    "hidden": true
   },
   "source": [
    "Obtener el titulo de los videos populares ([API Documentation](https://developers.google.com/youtube/v3/docs/videos/list#examples)) en Youtube utilizando su API y urllib request."
   ]
  },
  {
   "cell_type": "code",
   "execution_count": null,
   "metadata": {
    "hidden": true
   },
   "outputs": [],
   "source": [
    "import json\n",
    "from urllib.request import urlopen\n",
    "url = \"https://www.googleapis.com/youtube/v3/\\\n",
    "videos?part=snippet&chart=mostPopular&regionCode=US&maxResults=25&\\\n",
    "key=YOURPERSONALGOOGLEAPIKEY\"\n",
    "response = urlopen(url)\n",
    "contents = response.read()\n",
    "text = contents.decode('utf8')\n",
    "data = json.loads(text)\n",
    "\n",
    "for currentVideo in data['items'][0:6]:\n",
    "    title = currentVideo['snippet']['title']\n",
    "    print(title)"
   ]
  },
  {
   "cell_type": "markdown",
   "metadata": {
    "hidden": true
   },
   "source": [
    "Obtener la misma lista utilizando el modulo `requests`."
   ]
  },
  {
   "cell_type": "code",
   "execution_count": null,
   "metadata": {
    "hidden": true
   },
   "outputs": [],
   "source": [
    "import requests\n",
    "url = \"https://www.googleapis.com/youtube/v3/videos?part=snippet&chart=mostPopular&regionCode=US&maxResults=25&key=YOURPERSONALGOOGLEAPIKEY\"\n",
    "response = requests.get(url)\n",
    "data = response.json()\n",
    "for currentVideo in data['items'][0:6]:\n",
    "    title = currentVideo['snippet']['title']\n",
    "    print(title)"
   ]
  },
  {
   "cell_type": "markdown",
   "metadata": {
    "hidden": true
   },
   "source": [
    "En el lado de los **Servidores** Python tambien es un excellente lenguaje para programar el backend. Muchos frameworks permiten crear rapidamente servidores.\n",
    "\n",
    "    python -m http.server\n",
    "    Serving HTTP on 0.0.0.0 port 8000...\n",
    "\n",
    "Note que 0.0.0.0 significa cualquier direccion TCP, los clientes pueden acceder al servidor sin importar su direccion. Al iniciar un cliente como un navegador y entrar en `localhost:8000 o 127.0.0.1` obtendremos un listado con los archivos del servidor.\n",
    "\n",
    "Hoy en dia no solo basta con mostrar y descargar archivos. Los servidores deben ejecutar programas de forma dinamica y remota para mostrar los resultados al cliente. En un inicio se utilizo el **Common Gateway Interface** (CGI).\n",
    "\n",
    "El problema de CGI es que inicia el programa en el servidor cada vez que el cliente realiza una peticion. Para evitar este problema se crearon modulos dinamicos que se ejecutaban primero en el servidor (**mod_php, mod_perl, mod_python**). Una alternativa era ejecutar el lenguaje en un programa maestro que se comunicara con el servidor web (**FastCGI o SCGI**).\n",
    "\n",
    "Python desarrollo su propia alternativa con la definicion del **Web Server Gateway Interface** (WSGI), el cual es el API universal entre Web Apps de Python y Servidores. La mayoria de los frameworks de Python implementan esta interfaz.\n",
    "\n",
    "\n"
   ]
  },
  {
   "cell_type": "markdown",
   "metadata": {
    "hidden": true
   },
   "source": [
    "Dos frameworks populares para el desarrollo web estatico sin bases de datos son Bottle y Flask."
   ]
  },
  {
   "cell_type": "code",
   "execution_count": null,
   "metadata": {
    "hidden": true
   },
   "outputs": [],
   "source": [
    "from bottle import route, run, static_file, template\n",
    "import os\n",
    "\n",
    "htmldata = \"\"\"\n",
    "<p>This is a test.</p><p>This is a test.</p>\n",
    "\"\"\"\n",
    "\n",
    "@route('/')\n",
    "def hello():\n",
    "    return template(htmldata)\n",
    "run(host=\"localhost\", port=9999, debug=True)"
   ]
  },
  {
   "cell_type": "markdown",
   "metadata": {
    "hidden": true
   },
   "source": [
    "Otro framework basado en bottle pero con mayor configuracion es **Flask**. Incluye las librerias `werkzeug` y `jinga2`."
   ]
  },
  {
   "cell_type": "code",
   "execution_count": null,
   "metadata": {
    "hidden": true
   },
   "outputs": [],
   "source": [
    "from flask import Flask\n",
    "htmldata = \"\"\"\n",
    "<p>This is a test.</p><p>This is a test.</p>\n",
    "\"\"\"\n",
    "app = Flask(__name__, static_folder = \".\", static_url_path=\"\")\n",
    "@app.route(\"/\")\n",
    "def home():\n",
    "    return app.send_static_file(htmldata)\n",
    "app.run(port=9999, debug=True)"
   ]
  },
  {
   "cell_type": "markdown",
   "metadata": {
    "hidden": true
   },
   "source": [
    "Ademas de Bottle y Flask podemos utilizar otros servidores como apache con **mod_wsgi** o nginx con **uWSGI**. En TEXTFILES ejecuta Apache wsgi para un ejemplo con Bottle como interfaz.\n",
    "\n",
    "Otros servidores populares son:\n",
    "\n",
    "- Cherrypy\n",
    "- Pylons\n",
    "- Tornado\n",
    "- Gevent\n",
    "- Gunicorn\n",
    "\n",
    "Otros frameworks populares son:\n",
    "\n",
    "- Django\n",
    "- Web2Py\n",
    "- Pyramid\n",
    "- Turbogears\n",
    "- Wheezy.web\n",
    "\n",
    "Python tiene sus propias maneras de interactuar con el navegador sin requerir de servidores utilizando su modulo **webbrowser**. Por ejemplo:\n",
    "\n",
    "    import antigravity\n",
    "    \n",
    "El codigo anterior hace uso de esta libreria."
   ]
  },
  {
   "cell_type": "code",
   "execution_count": null,
   "metadata": {
    "hidden": true
   },
   "outputs": [],
   "source": [
    "import webbrowser\n",
    "url = \"http://www.python.org\"\n",
    "openInTab = webbrowser.open(url)"
   ]
  },
  {
   "cell_type": "markdown",
   "metadata": {
    "hidden": true
   },
   "source": [
    "Los **servicios Web** y **Web APIs** son una forma estandar de los servidores de generar informacion y resultados que no sean HTML. Estas respuestas no estan diseñadas para ser consumidas manualmente  por humanos sino por otros programas que ejecuta automaticamente el cliente.\n",
    "\n",
    "Al inicio de estos servicios un estandar popular para servir datos mediante HTTP fue **REST** (Representational State Transfer) que utiliza los verbos (comandos) HTTP cuidadosamente para otorgar la informacion. El formato de la respuesta suele darse en  JSON o XML.\n",
    "\n",
    "Para consumir APIs o HTML automaticamente podemos utiliar un web fetcher denominados **crawler** o spider. Una vez que se recolecta la informacion podemos parsearla en busca de lo que necesitamos con un **scraper**. \n",
    "\n",
    "La libreria `scrapy` es un crawler y scraper complejo. Mientras que `BeautifulSoup` es solo un scraper."
   ]
  },
  {
   "cell_type": "code",
   "execution_count": null,
   "metadata": {
    "hidden": true
   },
   "outputs": [],
   "source": [
    "def get_links(url):\n",
    "    import requests\n",
    "    from bs4 import BeautifulSoup as soup\n",
    "    result = requests.get(url)\n",
    "    page = result.text\n",
    "    doc = soup(page, \"lxml\")\n",
    "    links = [element.get(\"href\") for element in doc.find_all(\"a\")]\n",
    "    return links\n",
    "    \n",
    "url = \"http://google.com\"\n",
    "print(\"Links in\", url)\n",
    "for num, link in enumerate(get_links(url), start = 1):\n",
    "    print(num, link)\n",
    "print()"
   ]
  }
 ],
 "metadata": {
  "kernelspec": {
   "display_name": "Python 3",
   "language": "python",
   "name": "python3"
  },
  "language_info": {
   "codemirror_mode": {
    "name": "ipython",
    "version": 3
   },
   "file_extension": ".py",
   "mimetype": "text/x-python",
   "name": "python",
   "nbconvert_exporter": "python",
   "pygments_lexer": "ipython3",
   "version": "3.7.1"
  },
  "varInspector": {
   "cols": {
    "lenName": 16,
    "lenType": 16,
    "lenVar": 40
   },
   "kernels_config": {
    "python": {
     "delete_cmd_postfix": "",
     "delete_cmd_prefix": "del ",
     "library": "var_list.py",
     "varRefreshCmd": "print(var_dic_list())"
    },
    "r": {
     "delete_cmd_postfix": ") ",
     "delete_cmd_prefix": "rm(",
     "library": "var_list.r",
     "varRefreshCmd": "cat(var_dic_list()) "
    }
   },
   "types_to_exclude": [
    "module",
    "function",
    "builtin_function_or_method",
    "instance",
    "_Feature"
   ],
   "window_display": false
  }
 },
 "nbformat": 4,
 "nbformat_minor": 2
}
