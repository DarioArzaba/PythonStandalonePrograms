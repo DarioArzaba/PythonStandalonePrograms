{
 "cells": [
  {
   "cell_type": "markdown",
   "metadata": {
    "Collapsed": "false"
   },
   "source": [
    "# Matematicas con Python"
   ]
  },
  {
   "cell_type": "markdown",
   "metadata": {
    "Collapsed": "false",
    "toc-hr-collapsed": true
   },
   "source": [
    "## Numeros"
   ]
  },
  {
   "cell_type": "markdown",
   "metadata": {
    "Collapsed": "false"
   },
   "source": [
    "### Operaciones Aritmeticas"
   ]
  },
  {
   "cell_type": "code",
   "execution_count": 1,
   "metadata": {
    "Collapsed": "false"
   },
   "outputs": [
    {
     "name": "stdout",
     "output_type": "stream",
     "text": [
      "3.87,  0.7,  5.2,  4.5,  4,  1,  256,  3.9999999999999996\n"
     ]
    }
   ],
   "source": [
    "# Realizar operaciones aritmeticas\n",
    "\n",
    "add = 2+1.87\n",
    "subtract = 2-1.3\n",
    "multiply = 2*2.6\n",
    "divide = 9/2\n",
    "divideInteger = 9//2\n",
    "modulo = 9 % 2\n",
    "power = 2**8\n",
    "roots = 64 ** (1/3)\n",
    "print(add, subtract, multiply, divide, divideInteger, modulo, power, roots, sep=\",  \")"
   ]
  },
  {
   "cell_type": "markdown",
   "metadata": {
    "Collapsed": "false"
   },
   "source": [
    "### Variables y Tipos de Numeros"
   ]
  },
  {
   "cell_type": "code",
   "execution_count": 2,
   "metadata": {
    "Collapsed": "false"
   },
   "outputs": [
    {
     "name": "stdout",
     "output_type": "stream",
     "text": [
      "3\n"
     ]
    }
   ],
   "source": [
    "# Asignar identificadores a numeros\n",
    "\n",
    "x = 1\n",
    "y = 2\n",
    "z = x + y\n",
    "print(z)"
   ]
  },
  {
   "cell_type": "code",
   "execution_count": 3,
   "metadata": {
    "Collapsed": "false"
   },
   "outputs": [
    {
     "name": "stdout",
     "output_type": "stream",
     "text": [
      "<class 'float'> <class 'int'> <class 'float'>\n",
      "<class 'int'> <class 'float'>\n"
     ]
    }
   ],
   "source": [
    "# Distintos tipos de numeros y transformaciones\n",
    "\n",
    "a = 1.0\n",
    "b = 2\n",
    "c = a * b\n",
    "print(type(a), type(b), type(c))\n",
    "\n",
    "a = int(a)\n",
    "b = float(b)\n",
    "print(type(a), type(b))"
   ]
  },
  {
   "cell_type": "markdown",
   "metadata": {
    "Collapsed": "false"
   },
   "source": [
    "### Fracciones y Numeros Complejos"
   ]
  },
  {
   "cell_type": "code",
   "execution_count": 4,
   "metadata": {
    "Collapsed": "false"
   },
   "outputs": [
    {
     "name": "stdout",
     "output_type": "stream",
     "text": [
      "-8/5\n",
      "-3/5\n"
     ]
    }
   ],
   "source": [
    "# https://docs.python.org/3.7/library/fractions.html\n",
    "# Usar el modulo fractions para representar fracciones\n",
    "\n",
    "from fractions import Fraction\n",
    "\n",
    "f = Fraction(16,-10)\n",
    "print(f)\n",
    "r = f+1\n",
    "print(r)"
   ]
  },
  {
   "cell_type": "code",
   "execution_count": 5,
   "metadata": {
    "Collapsed": "false"
   },
   "outputs": [
    {
     "name": "stdout",
     "output_type": "stream",
     "text": [
      "<class 'complex'>\n",
      "(5+6j) 5.0 6.0 (5-6j)\n"
     ]
    }
   ],
   "source": [
    "# Crear numeros complejos\n",
    "\n",
    "a = 2+3j\n",
    "print(type(a))\n",
    "b = 3+3j\n",
    "c = a + b\n",
    "print(c, c.real, c.imag, c.conjugate())"
   ]
  },
  {
   "cell_type": "code",
   "execution_count": 6,
   "metadata": {
    "Collapsed": "false"
   },
   "outputs": [
    {
     "name": "stdout",
     "output_type": "stream",
     "text": [
      "3.605551275463989\n",
      "3.6055512754639896\n"
     ]
    }
   ],
   "source": [
    "# Obtener la magnitud de un numero complejo\n",
    "print ( ( (a.real**2) + (a.imag**2)  ) ** (1/2) )\n",
    "print ( abs(a) )"
   ]
  },
  {
   "cell_type": "markdown",
   "metadata": {
    "Collapsed": "false"
   },
   "source": [
    "Para más funciones con numeros complejos podemos utilizar la libreria cmath."
   ]
  },
  {
   "cell_type": "markdown",
   "metadata": {
    "Collapsed": "false"
   },
   "source": [
    "### Input del usuario"
   ]
  },
  {
   "cell_type": "code",
   "execution_count": 9,
   "metadata": {
    "Collapsed": "false"
   },
   "outputs": [
    {
     "name": "stdin",
     "output_type": "stream",
     "text": [
      " 10\n"
     ]
    }
   ],
   "source": [
    "# La forma más facil es mediante el metodo input()\n",
    "\n",
    "a = int(input())"
   ]
  },
  {
   "cell_type": "code",
   "execution_count": 11,
   "metadata": {
    "Collapsed": "false"
   },
   "outputs": [
    {
     "name": "stdin",
     "output_type": "stream",
     "text": [
      "Enter a Fraction:  3/4\n"
     ]
    },
    {
     "name": "stdout",
     "output_type": "stream",
     "text": [
      "3/4\n"
     ]
    }
   ],
   "source": [
    "# Para validarlo podemos atrapar excepciones\n",
    "\n",
    "from fractions import Fraction\n",
    "try:\n",
    "    a = Fraction(input('Enter a Fraction: '))\n",
    "    print(a)\n",
    "except (ValueError, ZeroDivisionError):\n",
    "    print('You entered an invalid fraction')"
   ]
  },
  {
   "cell_type": "code",
   "execution_count": 12,
   "metadata": {
    "Collapsed": "false"
   },
   "outputs": [
    {
     "name": "stdin",
     "output_type": "stream",
     "text": [
      "Enter a Complex:  2+3j\n"
     ]
    },
    {
     "name": "stdout",
     "output_type": "stream",
     "text": [
      "(2+3j)\n"
     ]
    }
   ],
   "source": [
    "# Tambien se pueden introducir numeros complejos\n",
    "\n",
    "try:\n",
    "    a = complex(input('Enter a Complex: '))\n",
    "    print(a)\n",
    "except (ValueError):\n",
    "    print('You entered an invalid complex')"
   ]
  },
  {
   "cell_type": "markdown",
   "metadata": {
    "Collapsed": "false"
   },
   "source": [
    "### Factores de un Entero"
   ]
  },
  {
   "cell_type": "markdown",
   "metadata": {
    "Collapsed": "false"
   },
   "source": [
    "Cuando un entero no cero (x) divide a otro entero (y) y el sobrante es 0 se dice que (x) es un factor de (y). Por ello sabemos que el número (2) es un factor de todos los numeros pares.  "
   ]
  },
  {
   "cell_type": "code",
   "execution_count": 13,
   "metadata": {
    "Collapsed": "false"
   },
   "outputs": [
    {
     "name": "stdout",
     "output_type": "stream",
     "text": [
      "True\n"
     ]
    }
   ],
   "source": [
    "def is_factor(x, y):\n",
    "    if (y % x == 0):\n",
    "        return True\n",
    "    else:\n",
    "        return False\n",
    "print(is_factor(4, 1024))"
   ]
  },
  {
   "cell_type": "code",
   "execution_count": 14,
   "metadata": {
    "Collapsed": "false"
   },
   "outputs": [
    {
     "name": "stdin",
     "output_type": "stream",
     "text": [
      "Enter a positive integer:  123\n"
     ]
    },
    {
     "name": "stdout",
     "output_type": "stream",
     "text": [
      "[1, 3, 41, 123]\n"
     ]
    }
   ],
   "source": [
    "# PROGRAMA para obtener factores de un entero\n",
    "\n",
    "def factors(integer):\n",
    "    factorsList = []\n",
    "    for number in range(1, integer+1):\n",
    "        if integer % number == 0:\n",
    "            factorsList.append(number)\n",
    "    return factorsList\n",
    "\n",
    "try:\n",
    "    inputNumber = int(input('Enter a positive integer: '))\n",
    "    if (inputNumber > 0):\n",
    "        print(factors(inputNumber))\n",
    "    else:\n",
    "        print('Please enter a Positive integer')\n",
    "except (ValueError):\n",
    "    print('You entered an invalid number')"
   ]
  },
  {
   "cell_type": "markdown",
   "metadata": {
    "Collapsed": "false"
   },
   "source": [
    "### Tabla de Multiplicar"
   ]
  },
  {
   "cell_type": "code",
   "execution_count": 15,
   "metadata": {
    "Collapsed": "false"
   },
   "outputs": [
    {
     "name": "stdin",
     "output_type": "stream",
     "text": [
      "Enter a number:  8\n",
      "Enter the number of multiples:  6\n"
     ]
    },
    {
     "name": "stdout",
     "output_type": "stream",
     "text": [
      "8.0 x 1 = 8.0\n",
      "8.0 x 2 = 16.0\n",
      "8.0 x 3 = 24.0\n",
      "8.0 x 4 = 32.0\n",
      "8.0 x 5 = 40.0\n",
      "8.0 x 6 = 48.0\n"
     ]
    }
   ],
   "source": [
    "def multiplication_table(inputNumber, iterations):\n",
    "    for number in range(1, iterations+1):\n",
    "        print('{0} x {1} = {2}'.format(inputNumber, number, inputNumber*number))\n",
    "        \n",
    "try:\n",
    "    inputFloat = float(input('Enter a number: '))\n",
    "    inputIterations = int(input('Enter the number of multiples: '))\n",
    "    if (inputIterations > 0):\n",
    "        multiplication_table(inputFloat, inputIterations)\n",
    "    else:\n",
    "        print('The number of multiples should be a positive integer')\n",
    "except ValueError:\n",
    "    print('You entered an invalid input')"
   ]
  },
  {
   "cell_type": "markdown",
   "metadata": {
    "Collapsed": "false"
   },
   "source": [
    "### Transformar Unidades"
   ]
  },
  {
   "cell_type": "markdown",
   "metadata": {
    "Collapsed": "false"
   },
   "source": [
    "\\begin{gather}\n",
    "    km \\rightarrow mi \\implies \\frac{km}{1.609}\\\\\n",
    "    mi \\rightarrow km \\implies mi*1.609\\\\\n",
    "    kg \\rightarrow lb \\implies kg*2.205\\\\\n",
    "    lb \\rightarrow kg \\implies \\frac{lb}{2.205}\\\\\n",
    "    °C \\rightarrow °F \\implies (°C)(\\frac{9}{5}) + 32\\\\\n",
    "    °F \\rightarrow °C \\implies (°F-32)(\\frac{5}{9})\\\\\n",
    "\\end{gather}"
   ]
  },
  {
   "cell_type": "code",
   "execution_count": 16,
   "metadata": {
    "Collapsed": "false"
   },
   "outputs": [
    {
     "name": "stdout",
     "output_type": "stream",
     "text": [
      "1. Kilometers to Miles\n",
      "2. Miles to Kilometers\n",
      "3. Kilograms to Pounds\n",
      "4. Pounds to Kilograms\n",
      "5. Celsius to Fahrenheit\n",
      "6. Fahrenheit to Celsius\n"
     ]
    },
    {
     "name": "stdin",
     "output_type": "stream",
     "text": [
      "Which conversion would you like to do?  2\n",
      "Enter distance in miles:  13.6\n"
     ]
    },
    {
     "name": "stdout",
     "output_type": "stream",
     "text": [
      "Distance in kilometers: 21.8824\n"
     ]
    }
   ],
   "source": [
    "def print_menu():\n",
    "    print('1. Kilometers to Miles')\n",
    "    print('2. Miles to Kilometers')\n",
    "    print('3. Kilograms to Pounds')\n",
    "    print('4. Pounds to Kilograms')\n",
    "    print('5. Celsius to Fahrenheit')\n",
    "    print('6. Fahrenheit to Celsius')\n",
    "\n",
    "def km_miles():\n",
    "    km = float(input('Enter distance in kilometers: '))\n",
    "    miles = km / 1.609\n",
    "    print('Distance in miles: {0}'.format(miles))\n",
    "\n",
    "def miles_km():\n",
    "    miles = float(input('Enter distance in miles: '))\n",
    "    km = miles * 1.609\n",
    "    print('Distance in kilometers: {0}'.format(km))\n",
    "\n",
    "def kg_pounds():\n",
    "    kg = float(input('Enter weight in kilograms: '))\n",
    "    pounds = kg * 2.205\n",
    "    print('Weight in pounds: {0}'.format(pounds))\n",
    "\n",
    "def pounds_kg():\n",
    "    pounds = float(input('Enter weight in pounds: '))\n",
    "    kg = pounds / 2.205\n",
    "    print('Weight in kilograms: {0}'.format(kg))\n",
    "\n",
    "def cel_fahren():\n",
    "    celsius = float(input('Enter temperature in Celsius: '))\n",
    "    fahrenheit = celsius*(9 / 5) + 32\n",
    "    print('Temperature in fahrenheit: {0}'.format(fahrenheit))\n",
    "\n",
    "def fahren_cel():\n",
    "    fahrenheit = float(input('Enter temperature in Fahrenheit: '))\n",
    "    celsius = (fahrenheit - 32)*(5/9)\n",
    "    print('Temperature in celsius: {0}'.format(celsius))\n",
    "\n",
    "print_menu()\n",
    "choice = input('Which conversion would you like to do? ')\n",
    "if choice == '1':\n",
    "    km_miles()\n",
    "if choice == '2':\n",
    "    miles_km()\n",
    "if choice == '3':\n",
    "    kg_pounds()\n",
    "if choice == '4':\n",
    "    pounds_kg()\n",
    "if choice == '5':\n",
    "    cel_fahren()\n",
    "if choice == '6':\n",
    "    fahren_cel()"
   ]
  },
  {
   "cell_type": "markdown",
   "metadata": {
    "Collapsed": "false"
   },
   "source": [
    "### Raices de Ecuacion Cuadratica"
   ]
  },
  {
   "cell_type": "markdown",
   "metadata": {
    "Collapsed": "false"
   },
   "source": [
    "Si se tiene un polinomio de segundo grado podemos obtener sus soluciones (intersecciones con el eje x) mediante la ecuacion cuadratica. Si la ecuacion no intersecta al eje x sus raíces son números complejos que corresponden a un discriminante negativo.\n",
    "\n",
    "\\begin{gather}\n",
    "    ax^2+bx+c=0 \\implies x=\\frac{-(b)\\pm\\sqrt{(b)^2-(4ac)}}{(2a)}\n",
    "\\end{gather}"
   ]
  },
  {
   "cell_type": "code",
   "execution_count": 19,
   "metadata": {
    "Collapsed": "false"
   },
   "outputs": [
    {
     "name": "stdin",
     "output_type": "stream",
     "text": [
      "Enter a:  1\n",
      "Enter b:  4\n",
      "Enter c:  3\n"
     ]
    },
    {
     "name": "stdout",
     "output_type": "stream",
     "text": [
      "x1: -1.0\n",
      "x2: -3.0\n"
     ]
    }
   ],
   "source": [
    "def roots(a, b, c):\n",
    "    discriminant = ((b**2) - (4*a*c))**(1/2)\n",
    "    x_1 = (-b + discriminant)/(2*a)\n",
    "    x_2 = (-b - discriminant)/(2*a)\n",
    "    rootsResults = [x_1, x_2]\n",
    "    return rootsResults\n",
    "\n",
    "a = float(input('Enter a: '))\n",
    "b = float(input('Enter b: '))\n",
    "c = float(input('Enter c: '))\n",
    "result = roots(a, b, c)\n",
    "print('x1: {0}'.format(result[0]))\n",
    "print('x2: {0}'.format(result[1]))"
   ]
  },
  {
   "cell_type": "markdown",
   "metadata": {
    "Collapsed": "false"
   },
   "source": [
    "### Numero Par o Non"
   ]
  },
  {
   "cell_type": "code",
   "execution_count": 20,
   "metadata": {
    "Collapsed": "false"
   },
   "outputs": [
    {
     "name": "stdin",
     "output_type": "stream",
     "text": [
      "Enter an integer:  14234\n",
      "Enter number of iterations:  2\n"
     ]
    },
    {
     "name": "stdout",
     "output_type": "stream",
     "text": [
      "14234  is Even\n",
      "14236\n",
      "14238\n"
     ]
    }
   ],
   "source": [
    "def evenOrOdd(number, iterations):\n",
    "    if (number % 2) == 0:\n",
    "        print(number,' is Even')\n",
    "    else:\n",
    "        print(number, 'is Odd')\n",
    "    count = 1\n",
    "    while (count <= iterations):\n",
    "        number += 2\n",
    "        print(number)\n",
    "        count += 1\n",
    "\n",
    "try:\n",
    "    inputNumber = int(input('Enter an integer: '))\n",
    "    inputIterations = int(input('Enter number of iterations: '))\n",
    "    evenOrOdd(inputNumber, inputIterations)\n",
    "except ValueError:\n",
    "    print('Please enter an integer number')"
   ]
  },
  {
   "cell_type": "markdown",
   "metadata": {
    "Collapsed": "false"
   },
   "source": [
    "### Operaciones con Fracciones"
   ]
  },
  {
   "cell_type": "code",
   "execution_count": 21,
   "metadata": {
    "Collapsed": "false"
   },
   "outputs": [
    {
     "name": "stdin",
     "output_type": "stream",
     "text": [
      "Enter first fraction:  3/4\n",
      "Enter second fraction:  3/15\n",
      "Operation to perform - Add, Subtract, Divide, Multiply:  Add\n"
     ]
    },
    {
     "name": "stdout",
     "output_type": "stream",
     "text": [
      "Result of adding 3/4 and 1/5 is 19/20 \n"
     ]
    },
    {
     "name": "stdin",
     "output_type": "stream",
     "text": [
      "Enter first fraction:  nope\n"
     ]
    },
    {
     "name": "stdout",
     "output_type": "stream",
     "text": [
      "Invalid fraction entered\n"
     ]
    },
    {
     "name": "stdin",
     "output_type": "stream",
     "text": [
      "Do you want to exit? (y) for yes  y\n"
     ]
    }
   ],
   "source": [
    "from fractions import Fraction\n",
    "\n",
    "def add(a, b):\n",
    "    print('Result of adding {0} and {1} is {2} '.format(a, b, a+b))\n",
    "def subtract(a, b):\n",
    "    print('Result of subtracting {1} from {0} is {2}'.format(a, b, a-b))\n",
    "def divide(a, b):\n",
    "    print('Result of dividing {0} by {1} is {2}'.format(a, b, a/b))\n",
    "def multiply(a, b):\n",
    "    print('Result of multiplying {0} and {1} is {2}'.format(a, b, a*b))\n",
    "\n",
    "while True:\n",
    "    try:\n",
    "        x = Fraction(input('Enter first fraction: '))\n",
    "        y = Fraction(input('Enter second fraction: '))\n",
    "        op = input('Operation to perform - Add, Subtract, Divide, Multiply: ')\n",
    "        if op == 'Add':\n",
    "            add(x, y)\n",
    "        if op == 'Subtract':\n",
    "            subtract(x, y)\n",
    "        if op == 'Divide':\n",
    "            divide(x, y)\n",
    "        if op == 'Multiply':\n",
    "            multiply(x, y)\n",
    "    except ValueError:\n",
    "        print('Invalid fraction entered')\n",
    "        answer = input('Do you want to exit? (y) for yes ')\n",
    "        if answer == 'y':\n",
    "            break"
   ]
  },
  {
   "cell_type": "markdown",
   "metadata": {
    "Collapsed": "false",
    "toc-hr-collapsed": false
   },
   "source": [
    "## Graficas"
   ]
  },
  {
   "cell_type": "markdown",
   "metadata": {
    "Collapsed": "false"
   },
   "source": [
    "### Plano Cartesiano"
   ]
  },
  {
   "cell_type": "markdown",
   "metadata": {
    "Collapsed": "false"
   },
   "source": [
    "1. Para representar el set de todos los numeros reales podemos utilizar una recta numerica. \n",
    "2. Cada punto en la linea se puede representar por un número del set. \n",
    "3. La superposicion de dos rectas representa graficamente la relacion entre dos sets numericos.\n",
    "4. Las rectas o ejes generalmente intersectan en el cero (origen) y son perpendiculares.\n",
    "5. Cada punto en el espacio se puede representar por dos numeros o coordenadas. \n",
    "6. A todas las relaciones entre dos sets de numeros reales le denominamos plano cartesiano."
   ]
  },
  {
   "cell_type": "markdown",
   "metadata": {
    "Collapsed": "false"
   },
   "source": [
    "### Listas y Tuples"
   ]
  },
  {
   "cell_type": "code",
   "execution_count": 22,
   "metadata": {
    "Collapsed": "false"
   },
   "outputs": [
    {
     "name": "stdout",
     "output_type": "stream",
     "text": [
      "2\n",
      "4\n",
      "7\n",
      "567"
     ]
    }
   ],
   "source": [
    "testList = [1,2,3]\n",
    "print(testList[1])\n",
    "\n",
    "testList.append(4)\n",
    "print(testList[3])\n",
    "\n",
    "testTuple = (5,6,7)\n",
    "print(testTuple[2])\n",
    "\n",
    "for number in testTuple:\n",
    "    print(number, end=\"\")"
   ]
  },
  {
   "cell_type": "markdown",
   "metadata": {
    "Collapsed": "false",
    "toc-hr-collapsed": true
   },
   "source": [
    "### Graficas con Matplotlib"
   ]
  },
  {
   "cell_type": "code",
   "execution_count": 23,
   "metadata": {
    "Collapsed": "false"
   },
   "outputs": [
    {
     "data": {
      "image/png": "[encoded data removed]",
      "text/plain": [
       "<Figure size 432x288 with 1 Axes>"
      ]
     },
     "metadata": {
      "needs_background": "light"
     },
     "output_type": "display_data"
    }
   ],
   "source": [
    "%matplotlib inline\n",
    "import matplotlib.pyplot as plt\n",
    "\n",
    "x_numbers = [1,2,3]\n",
    "y_numbers = [2,4,6]\n",
    "# Solo linea que une a puntos\n",
    "mainPlot = plt.plot(x_numbers, y_numbers)\n",
    "plt.show(mainPlot)"
   ]
  },
  {
   "cell_type": "code",
   "execution_count": 24,
   "metadata": {
    "Collapsed": "false"
   },
   "outputs": [
    {
     "data": {
      "image/png": "[encoded data removed]",
      "text/plain": [
       "<Figure size 432x288 with 1 Axes>"
      ]
     },
     "metadata": {
      "needs_background": "light"
     },
     "output_type": "display_data"
    }
   ],
   "source": [
    "%matplotlib inline\n",
    "import matplotlib.pyplot as plt\n",
    "\n",
    "x_numbers = [1,2,3]\n",
    "y_numbers = [2,4,6]\n",
    "# Grafica linea que une a puntos\n",
    "mainPlot = plt.plot(x_numbers, y_numbers, marker=\"o\")\n",
    "plt.show(mainPlot)"
   ]
  },
  {
   "cell_type": "code",
   "execution_count": 25,
   "metadata": {
    "Collapsed": "false"
   },
   "outputs": [
    {
     "data": {
      "image/png": "[encoded data removed]",
      "text/plain": [
       "<Figure size 432x288 with 1 Axes>"
      ]
     },
     "metadata": {
      "needs_background": "light"
     },
     "output_type": "display_data"
    }
   ],
   "source": [
    "%matplotlib inline\n",
    "import matplotlib.pyplot as plt\n",
    "\n",
    "x_numbers = [1,2,3]\n",
    "y_numbers = [2,4,6]\n",
    "# Grafica sin linea solo puntos\n",
    "mainPlot = plt.plot(x_numbers, y_numbers, \"o\")\n",
    "plt.show(mainPlot)"
   ]
  },
  {
   "cell_type": "code",
   "execution_count": 26,
   "metadata": {
    "Collapsed": "false"
   },
   "outputs": [
    {
     "data": {
      "image/png": "[encoded data removed]",
      "text/plain": [
       "<Figure size 864x216 with 1 Axes>"
      ]
     },
     "metadata": {
      "needs_background": "light"
     },
     "output_type": "display_data"
    }
   ],
   "source": [
    "%matplotlib inline\n",
    "import os\n",
    "import matplotlib.pyplot as plt\n",
    "from datetime import date\n",
    "from dateutil.relativedelta import relativedelta\n",
    "\n",
    "fig = plt.figure(figsize=(12, 3))\n",
    "ax = fig.add_subplot(111)\n",
    "\n",
    "# Temperatura promedio mensual de metepec 01-17 a 03-19\n",
    "metepecTemp = [10, 11, 13, 15, 16, 15, 13, 14, 13, 13, 12, 11, 10, 13, 15, 16, 17, 15, 14, 13, 14, 14, 13, 12, 11, 14, 16]\n",
    "times = [date(2017,1,1) + relativedelta(months=+i) for i in range(len(metepecTemp))]\n",
    "sanMiguelTemp = [12, 14, 16, 18, 21, 19, 17, 18, 17, 16, 14, 13, 11, 16, 18, 19, 21, 19, 18, 17, 17, 17, 15, 13, 14, 18, 20]\n",
    "\n",
    "mainPlot = ax.plot(times, metepecTemp, times, sanMiguelTemp, marker=\"o\")\n",
    "\n",
    "plt.legend([\"Toluca\", \"S.M. de Allende\"])\n",
    "plt.title(\"Temperatura Promedio Toluca - San Miguel de Allende\")\n",
    "plt.xlabel(\"Mes\")\n",
    "plt.ylabel(\"Temperature\")\n",
    "plt.axis(ymin=8)\n",
    "plt.axis(ymax=25)\n",
    "\n",
    "# Uncomment to save figure\n",
    "# directoryLocal = os.path.expanduser(\"~/Desktop/\")\n",
    "# plt.savefig(directoryLocal + 'image.png', dpi = 300)\n",
    "\n",
    "plt.show(mainPlot)"
   ]
  },
  {
   "cell_type": "markdown",
   "metadata": {
    "Collapsed": "false"
   },
   "source": [
    "### Fuerza Gravitacional"
   ]
  },
  {
   "cell_type": "markdown",
   "metadata": {
    "Collapsed": "false"
   },
   "source": [
    "\\begin{gather}\n",
    "    F_g = \\frac{Gm_1m_2}{r^2}\n",
    "\\end{gather}"
   ]
  },
  {
   "cell_type": "code",
   "execution_count": 27,
   "metadata": {
    "Collapsed": "false"
   },
   "outputs": [
    {
     "data": {
      "image/png": "[encoded data removed]",
      "text/plain": [
       "<Figure size 864x216 with 1 Axes>"
      ]
     },
     "metadata": {
      "needs_background": "light"
     },
     "output_type": "display_data"
    }
   ],
   "source": [
    "%matplotlib inline\n",
    "import matplotlib.pyplot as plt\n",
    "plt.figure(figsize=(12, 3))\n",
    "distanceList = range(5, 50, 1)\n",
    "forceList = []\n",
    "G = 6.674*(10**-11)\n",
    "m1 = 1.0\n",
    "m2 = 1.0\n",
    "for distance in distanceList:\n",
    "    force = G*(m1*m2)/(distance**2)\n",
    "    forceList.append(force)\n",
    "\n",
    "plt.plot(distanceList, forceList)\n",
    "plt.xlabel('Distancia (m)')\n",
    "plt.ylabel('Fuerza Gravitacional (N)')\n",
    "plt.title('Relacion entre distancia y fuerza gravitacional')\n",
    "plt.show()"
   ]
  },
  {
   "cell_type": "markdown",
   "metadata": {
    "Collapsed": "false"
   },
   "source": [
    "### Trayectoria Parabolica"
   ]
  },
  {
   "cell_type": "markdown",
   "metadata": {
    "Collapsed": "false"
   },
   "source": [
    "\\begin{gather}\n",
    "    s_x = v_0\\cos(\\theta)t\\\\\n",
    "    s_y = v_0\\sin(\\theta)t - \\frac{gt^2}{2}\\\\\n",
    "    t_{max} = (\\frac{v_0\\sin(\\theta)}{g})\\\\\n",
    "    t_{total} = 2(t_{max}) = 2(\\frac{v_0\\sin(\\theta)}{g})\n",
    "\\end{gather}"
   ]
  },
  {
   "cell_type": "code",
   "execution_count": 28,
   "metadata": {
    "Collapsed": "false"
   },
   "outputs": [
    {
     "data": {
      "image/png": "[encoded data removed]",
      "text/plain": [
       "<Figure size 864x216 with 1 Axes>"
      ]
     },
     "metadata": {
      "needs_background": "light"
     },
     "output_type": "display_data"
    }
   ],
   "source": [
    "%matplotlib inline\n",
    "import matplotlib.pyplot as plt\n",
    "import math\n",
    "\n",
    "plt.figure(figsize=(12, 3))\n",
    "initialVelocity = [20, 40, 60]\n",
    "initialAngles = [60]\n",
    "\n",
    "for theta in initialAngles:\n",
    "    \n",
    "    theta = math.radians(theta)\n",
    "    g = 9.81\n",
    "    \n",
    "    for velocity in initialVelocity:        \n",
    "        \n",
    "        flightTime = 2*((velocity*math.sin(theta))/g)\n",
    "        \n",
    "        timeIntervals = []\n",
    "        counter = 0\n",
    "        while (counter < flightTime):\n",
    "            timeIntervals.append(counter)\n",
    "            counter += 0.001\n",
    "\n",
    "        distanceX = []\n",
    "        distanceY = []\n",
    "        for time in timeIntervals:\n",
    "            distanceX.append(velocity*math.cos(theta)*time)\n",
    "            distanceY.append(velocity*math.sin(theta)*time - 0.5*g*time*time)\n",
    "\n",
    "        plt.plot(distanceX, distanceY)\n",
    "    \n",
    "plt.xlabel('Distancia en x (m)')\n",
    "plt.ylabel('Distancia en y (m)')\n",
    "plt.title('Trayectoria parabolica de una pelota')\n",
    "plt.legend(['20 m/s', '40 m/s', '60 m/s'])\n",
    "plt.show()"
   ]
  },
  {
   "cell_type": "markdown",
   "metadata": {
    "Collapsed": "false"
   },
   "source": [
    "### Ecuacion Cuadratica"
   ]
  },
  {
   "cell_type": "code",
   "execution_count": 29,
   "metadata": {
    "Collapsed": "false"
   },
   "outputs": [
    {
     "data": {
      "image/png": "[encoded data removed]",
      "text/plain": [
       "<Figure size 432x288 with 1 Axes>"
      ]
     },
     "metadata": {
      "needs_background": "light"
     },
     "output_type": "display_data"
    }
   ],
   "source": [
    "%matplotlib inline\n",
    "import matplotlib.pyplot as plt\n",
    "\n",
    "x_values = range(-80, 100, 10)\n",
    "y_values = []\n",
    "for x in x_values:\n",
    "    y_values.append(x**2 + 2*x + 1)\n",
    "    \n",
    "plt.plot(x_values, y_values)\n",
    "\n",
    "plt.xlabel('Eje x')\n",
    "plt.ylabel('Eje y')\n",
    "plt.title('Grafica de Ecuacion Cuadratica')\n",
    "plt.legend(['x^2 + 2x + 1'])\n",
    "plt.grid(True)\n",
    "plt.show()"
   ]
  },
  {
   "cell_type": "markdown",
   "metadata": {
    "Collapsed": "false",
    "toc-hr-collapsed": true
   },
   "source": [
    "### Grafica de Barras"
   ]
  },
  {
   "cell_type": "code",
   "execution_count": 31,
   "metadata": {
    "Collapsed": "false"
   },
   "outputs": [
    {
     "name": "stdin",
     "output_type": "stream",
     "text": [
      "Enter the number of categories:  5\n",
      "Enter category:  Comida\n",
      "Expenditure:  142\n",
      "Enter category:  Hospedaje\n",
      "Expenditure:  323\n",
      "Enter category:  Viaje\n",
      "Expenditure:  458\n",
      "Enter category:  Amigos\n",
      "Expenditure:  231\n",
      "Enter category:  Fiesta\n",
      "Expenditure:  43\n"
     ]
    },
    {
     "data": {
      "image/png": "[encoded data removed]",
      "text/plain": [
       "<Figure size 432x288 with 1 Axes>"
      ]
     },
     "metadata": {
      "needs_background": "light"
     },
     "output_type": "display_data"
    }
   ],
   "source": [
    "%matplotlib inline\n",
    "import matplotlib.pyplot as plt\n",
    "\n",
    "numberCategories = int(input('Enter the number of categories: '))\n",
    "\n",
    "labels = []\n",
    "expenditures = []\n",
    "for i in range(numberCategories):\n",
    "    category = input('Enter category: ')\n",
    "    expenditure = float(input('Expenditure: '))\n",
    "    labels.append(category)\n",
    "    expenditures.append(expenditure)\n",
    "\n",
    "numberOfBars = len(expenditures)\n",
    "centersOfBars = range(1, numberOfBars+1)\n",
    "\n",
    "mainPlot = plt.barh(centersOfBars, expenditures, align='center')\n",
    "mainPlot[0].set_color(\"g\")\n",
    "plt.yticks(centersOfBars, labels)\n",
    "plt.xlabel('Expenditure ($)')\n",
    "plt.ylabel('Categories')\n",
    "plt.title('Weekly expenditures')\n",
    "plt.grid()\n",
    "plt.show()"
   ]
  },
  {
   "cell_type": "markdown",
   "metadata": {
    "Collapsed": "false"
   },
   "source": [
    "### Fibonacci y Proporcion Aurea"
   ]
  },
  {
   "cell_type": "code",
   "execution_count": 32,
   "metadata": {
    "Collapsed": "false"
   },
   "outputs": [
    {
     "data": {
      "image/png": "[encoded data removed]",
      "text/plain": [
       "<Figure size 432x288 with 1 Axes>"
      ]
     },
     "metadata": {
      "needs_background": "light"
     },
     "output_type": "display_data"
    }
   ],
   "source": [
    "%matplotlib inline\n",
    "import matplotlib.pyplot as plt\n",
    "\n",
    "def fibonacci(number):\n",
    "    a = 1\n",
    "    b = 1\n",
    "    if (number == 1):\n",
    "        return [a]\n",
    "    if (number == 2):\n",
    "        return [a, b]\n",
    "    series = [a, b]        \n",
    "    for i in range(number):\n",
    "        c = a + b\n",
    "        series.append(c)\n",
    "        a = b\n",
    "        b = c\n",
    "    return series\n",
    "\n",
    "inputNumber = 30\n",
    "fibonacciSeries = fibonacci(inputNumber)\n",
    "\n",
    "ratios = []\n",
    "for i in range(len(fibonacciSeries)-1):\n",
    "    ratios.append(fibonacciSeries[i+1] / fibonacciSeries[i])\n",
    "\n",
    "plt.plot(ratios)\n",
    "plt.title('Fibonacci y Proporcion aurea')\n",
    "plt.ylabel('Ratio')\n",
    "plt.xlabel('No.')\n",
    "plt.show()"
   ]
  },
  {
   "cell_type": "markdown",
   "metadata": {
    "Collapsed": "false",
    "toc-hr-collapsed": false
   },
   "source": [
    "## Estadistica"
   ]
  },
  {
   "cell_type": "markdown",
   "metadata": {
    "Collapsed": "false"
   },
   "source": [
    "### Media, Mediana y Moda"
   ]
  },
  {
   "cell_type": "markdown",
   "metadata": {
    "Collapsed": "false"
   },
   "source": [
    "La Media, Mediana y Moda son tres valores que describen la tendencia central de un set de datos. La Media o promedio aritmetico se encuentra al sumar los datos y dividirlos entre el numero de datos. Este numero es el que tiene la menor distancia con el resto de los valores.\n",
    "\n",
    "\\begin{gather}\n",
    "    \\text{Mean} \\implies \\overline{x} = \\frac{\\sum x}{N}\n",
    "\\end{gather}\n",
    "\n",
    "La Mediana es el dato con la menor distancia entre los extremos del set de valores. Si el set es par entonces  es el dato entre los dos datos con la menor distancia. Para obtener el valor se suele ordenar el set de menor a mayor.\n",
    "\n",
    "\\begin{gather}\n",
    "    \\text{Median odd set} \\implies \\tilde{x} = (\\frac{n+1}{n}) \\text{ th term}\\\\\n",
    "    \\text{Median even set} \\implies \\tilde{x} = (\\frac{(\\frac{n}{2})+(\\frac{n+1}{2})}{2}) \\text{ th term}\n",
    "\\end{gather}\n",
    "\n",
    "La Moda es el valor que se repite con mayor frecuencia. Puede haber mas de una moda (bimodal, trimodal), una tabla de frecuencias es la frecuencia de todos los valores del set.\n",
    "\n",
    "\\begin{gather}\n",
    "    \\text{Mode} \\implies \\hat{x} = (x)(f_{max})\n",
    "\\end{gather}"
   ]
  },
  {
   "cell_type": "code",
   "execution_count": 33,
   "metadata": {
    "Collapsed": "false"
   },
   "outputs": [
    {
     "name": "stdout",
     "output_type": "stream",
     "text": [
      "477.75\n"
     ]
    }
   ],
   "source": [
    "# Encontrar la media\n",
    "\n",
    "def calculateMean(data):\n",
    "    dataSum = sum(data)\n",
    "    dataMean = dataSum/len(data)\n",
    "    return dataMean\n",
    "\n",
    "utilitiesPerDay = [100, 60, 70, 900, 100, 200, 500, 500, 503, 600, 1000, 1200]\n",
    "meanUtilitiesPerDay = calculateMean(utilitiesPerDay)\n",
    "print(meanUtilitiesPerDay)"
   ]
  },
  {
   "cell_type": "code",
   "execution_count": 34,
   "metadata": {
    "Collapsed": "false"
   },
   "outputs": [
    {
     "name": "stdout",
     "output_type": "stream",
     "text": [
      "500.0\n"
     ]
    }
   ],
   "source": [
    "# Encontrar la Mediana\n",
    "\n",
    "def calculateMedian(data):\n",
    "    orderedData = sorted(data)\n",
    "    isDataEven = (len(data) % 2 == 0 ) \n",
    "    if (isDataEven == True):\n",
    "        firstMiddleIndex = int((len(orderedData)/2)-1)\n",
    "        secondMiddleIndex = int(firstMiddleIndex + 1)\n",
    "        firstMiddleNumber = orderedData[firstMiddleIndex]\n",
    "        secondMiddleNumber = orderedData[secondMiddleIndex]\n",
    "        middleNumber = (firstMiddleNumber+secondMiddleNumber)/2\n",
    "    else:\n",
    "        middleNumberIndex = int(len(orderedData)/2)\n",
    "        middleNumber = orderedData[middleNumberIndex]\n",
    "    return middleNumber\n",
    "        \n",
    "utilitiesPerDay = [100, 60, 70, 900, 100, 200, 500, 500, 503, 600, 1000, 1200]\n",
    "medianUtilitiesOfInterval = calculateMedian(utilitiesPerDay)\n",
    "print(medianUtilitiesOfInterval)"
   ]
  },
  {
   "cell_type": "code",
   "execution_count": 35,
   "metadata": {
    "Collapsed": "false"
   },
   "outputs": [
    {
     "name": "stdout",
     "output_type": "stream",
     "text": [
      "[9]\n"
     ]
    }
   ],
   "source": [
    "# Encuentra las Modas\n",
    "\n",
    "from collections import Counter\n",
    "\n",
    "def calculateMode(data):\n",
    "    modeCounter = Counter(data)\n",
    "    dataModes = modeCounter.most_common()\n",
    "    maxFrequence = dataModes[0][1]\n",
    "    maxFrequenceModes = []\n",
    "    for mode in dataModes:\n",
    "        if mode[1] == maxFrequence:\n",
    "            maxFrequenceModes.append(mode[0])\n",
    "    return maxFrequenceModes       \n",
    "            \n",
    "gradesStudents =  [7, 8, 9, 2, 10, 9, 9, 9, 9, 4, 5, 6, 1, 5, 6, 7, 8, 6, 1, 10]\n",
    "gradesModes = calculateMode(gradesStudents)\n",
    "print(gradesModes)"
   ]
  },
  {
   "cell_type": "code",
   "execution_count": 36,
   "metadata": {
    "Collapsed": "false"
   },
   "outputs": [
    {
     "name": "stdout",
     "output_type": "stream",
     "text": [
      "-----------------------\n",
      "Score        Frequency\n",
      "-----------------------\n",
      "1            2\n",
      "2            1\n",
      "4            1\n",
      "5            2\n",
      "6            3\n",
      "7            2\n",
      "8            2\n",
      "9            5\n",
      "10           2\n",
      "-----------------------\n"
     ]
    }
   ],
   "source": [
    "# Crea unta Tabla de Frecuencias\n",
    "\n",
    "from collections import Counter\n",
    "\n",
    "def calculateFrequencyTable(data, sortedTable = False):\n",
    "    modeCounter = Counter(data)\n",
    "    dataModes = modeCounter.most_common()\n",
    "    if (sortedTable == True):\n",
    "        dataModes.sort()\n",
    "    print('-----------------------')\n",
    "    print('Score        Frequency')\n",
    "    print('-----------------------')\n",
    "    for mode in dataModes:\n",
    "        print('{0:<13}{1}'.format(mode[0], mode[1]))\n",
    "    print('-----------------------')\n",
    "        \n",
    "gradesStudents =  [7, 8, 9, 2, 10, 9, 9, 9, 9, 4, 5, 6, 1, 5, 6, 7, 8, 6, 1, 10]\n",
    "gradesModes = calculateFrequencyTable(gradesStudents, sortedTable = True)"
   ]
  },
  {
   "cell_type": "markdown",
   "metadata": {
    "Collapsed": "false"
   },
   "source": [
    "### Dispersion"
   ]
  },
  {
   "cell_type": "markdown",
   "metadata": {
    "Collapsed": "false"
   },
   "source": [
    "La Dispersion nos dice que tan separados estan los valores del set con respecto a la media y se describe mediante Rango, Varianza y Desviacion Estandar.\n",
    "\n",
    "El Rango nos permite saber el intervalo de los valores, entre mayor sea el rango menor sera la valides de la tendencia central para describir el set.\n",
    "\n",
    "La Varianza nos permite saber si los valores se agrupan cerca de la media o en los extremos del intervalo.\n",
    "\n",
    "La Desviacion Estandar es una descripcion no exponencial de la varianza, si un valor esta a menos de una desviacion estandar decimos que es un valor tipico fuertemente relacionado al set, si esta a 3 o mas desviaciones de la media decimos que son valores atipico.\n",
    "\n",
    " \n",
    "\\begin{gather}\n",
    "    \\text{Variance} \\implies \\sigma^2 = \\frac{\\sum (x - \\overline{x})^2 }{N}\\\\\n",
    "    \\text{Standard Deviation} \\implies \\sigma = \\sqrt{\\sigma^2}\n",
    "\\end{gather}\n",
    "\n",
    "\n"
   ]
  },
  {
   "cell_type": "code",
   "execution_count": 37,
   "metadata": {
    "Collapsed": "false"
   },
   "outputs": [
    {
     "name": "stdout",
     "output_type": "stream",
     "text": [
      "60 1200 1140\n"
     ]
    }
   ],
   "source": [
    "# Encontrar el Rango\n",
    "\n",
    "def calculateRange(data):\n",
    "    minNumber = min(data)\n",
    "    maxNumber = max(data)\n",
    "    dataRange = (maxNumber-minNumber)\n",
    "    rangeResults = [minNumber, maxNumber, dataRange]\n",
    "    return rangeResults\n",
    "\n",
    "utilitiesPerDay = [100, 60, 70, 900, 100, 200, 500, 500, 503, 600, 1000, 1200]\n",
    "utilitiesRangeResults = calculateRange(utilitiesPerDay)\n",
    "minUtilities = utilitiesRangeResults[0]\n",
    "maxUtilities = utilitiesRangeResults[1]\n",
    "rangeUtilities = utilitiesRangeResults[2]\n",
    "print(minUtilities, maxUtilities, rangeUtilities)"
   ]
  },
  {
   "cell_type": "code",
   "execution_count": 38,
   "metadata": {
    "Collapsed": "false"
   },
   "outputs": [
    {
     "name": "stdout",
     "output_type": "stream",
     "text": [
      "141047.35416666666 375.5627166887931\n"
     ]
    }
   ],
   "source": [
    "# Encontrar la Varianza y desviacion estandar\n",
    "\n",
    "def calculateMean(data):\n",
    "    dataSum = sum(data)\n",
    "    dataMean = dataSum/len(data)\n",
    "    return dataMean\n",
    "\n",
    "def calculateMeanDifferences(data):\n",
    "    dataMean = calculateMean(data)\n",
    "    differenceResults = []\n",
    "    for value in data:\n",
    "        differenceResults.append(value - dataMean)\n",
    "    return differenceResults\n",
    "\n",
    "def calculateVariance(data):\n",
    "    differences = calculateMeanDifferences(data)\n",
    "    squaredDifferences = []\n",
    "    for difference in differences:\n",
    "        squaredDifferences.append(difference**2)\n",
    "    squaredDifferencesSum = sum(squaredDifferences)\n",
    "    dataVariance = squaredDifferencesSum/len(data)\n",
    "    return dataVariance\n",
    "\n",
    "def calculateStandardDeviation(data):\n",
    "    dataStandardDeviation = calculateVariance(data)**(1/2)\n",
    "    return dataStandardDeviation\n",
    "\n",
    "utilitiesPerDay = [100, 60, 70, 900, 100, 200, 500, 500, 503, 600, 1000, 1200]\n",
    "utilitiesVariance = calculateVariance(utilitiesPerDay)\n",
    "utilitiesStandardDeviation = calculateStandardDeviation(utilitiesPerDay)\n",
    "print(utilitiesVariance, utilitiesStandardDeviation)\n"
   ]
  },
  {
   "cell_type": "markdown",
   "metadata": {
    "Collapsed": "false"
   },
   "source": [
    "### Dos sets de datos"
   ]
  },
  {
   "cell_type": "markdown",
   "metadata": {
    "Collapsed": "false"
   },
   "source": [
    "El Coeficiente de Correlacion Pearson, o coefficiente de correlacion describe la correlacion entre dos sets de datos si su relacion es lineal. El coeficiente es un numero que va desde -1 a 1 inclusivo.\n",
    "\n",
    "> La correlacion no implica causalidad, ya que siempre puede haber variables externas desconocidas.\n",
    "\n",
    "\\begin{gather}\n",
    "    \\text{Correlation} \\implies r = \\frac{(n)(\\sum xy)-(\\sum x)(\\sum y)}{\\sqrt{[(n)(\\sum x^2)-(\\sum x)^2][(n)(\\sum y^2)-(\\sum y)^2]}}\n",
    "\\end{gather}\n",
    "\n",
    "La formula de correlacion solo aplica para relaciones lineales y sets con el mismo numero de valores."
   ]
  },
  {
   "cell_type": "code",
   "execution_count": 39,
   "metadata": {
    "Collapsed": "false"
   },
   "outputs": [
    {
     "name": "stdout",
     "output_type": "stream",
     "text": [
      "1 4\n",
      "2 5\n",
      "3 6\n"
     ]
    }
   ],
   "source": [
    "data1 = [1, 2, 3]\n",
    "data2 = [4, 5, 6]\n",
    "for x, y in zip(data1, data2):\n",
    "    print(x,y)\n",
    "\n",
    "\n"
   ]
  },
  {
   "cell_type": "code",
   "execution_count": 40,
   "metadata": {
    "Collapsed": "false"
   },
   "outputs": [
    {
     "name": "stdout",
     "output_type": "stream",
     "text": [
      "0.54620031714002\n"
     ]
    }
   ],
   "source": [
    "# Encuentra el coeficiente de correlacion\n",
    "\n",
    "def calculateCorrelation(data1, data2):\n",
    "    numberOfValues = len(data1)\n",
    "    productsOfValues = []\n",
    "    for valueInData1, valueInData2 in zip(data1, data2):\n",
    "        productsOfValues.append(valueInData1*valueInData2)\n",
    "    sumOfProducts = sum(productsOfValues)\n",
    "    sumOfFirstData = sum(data1)\n",
    "    sumOfSecondData = sum(data2)\n",
    "    squaredSumOfFirstData = sumOfFirstData**2\n",
    "    squaredSumOfSecondData = sumOfSecondData**2\n",
    "    squaredOfFirstData = []\n",
    "    for valueInData1 in data1:\n",
    "        squaredOfFirstData.append(valueInData1**2)\n",
    "    squaredOfFirstDataSum = sum(squaredOfFirstData)\n",
    "    squaredOfSecondData = []\n",
    "    for valueInData2 in data2:\n",
    "        squaredOfSecondData.append(valueInData2**2)\n",
    "    squaredOfSecondDataSum = sum(squaredOfSecondData)\n",
    "    numerator = numberOfValues*sumOfProducts - (sumOfFirstData*sumOfSecondData)\n",
    "    denominatorFirst = numberOfValues*squaredOfFirstDataSum-squaredSumOfFirstData\n",
    "    denominatorSecond = numberOfValues*squaredOfSecondDataSum-squaredSumOfSecondData\n",
    "    denominator = (denominatorFirst*denominatorSecond)**(1/2)\n",
    "    correlation = numerator/denominator\n",
    "    return correlation\n",
    "\n",
    "utilitiesPerDay = [100, 60, 70, 900, 100, 200, 500, 500, 503, 600, 1000, 1200]\n",
    "utilitiesPerDay2 = [200, 64, 72, 400, 500, 800, 300, 700, 803, 670, 7000, 1500]\n",
    "correlationUtilities = calculateCorrelation(utilitiesPerDay, utilitiesPerDay2)\n",
    "print(correlationUtilities)"
   ]
  },
  {
   "cell_type": "markdown",
   "metadata": {
    "Collapsed": "false"
   },
   "source": [
    "### Diagrama de Dispersion"
   ]
  },
  {
   "cell_type": "code",
   "execution_count": 41,
   "metadata": {
    "Collapsed": "false"
   },
   "outputs": [
    {
     "data": {
      "image/png": "[encoded data removed]",
      "text/plain": [
       "<Figure size 432x288 with 4 Axes>"
      ]
     },
     "metadata": {
      "needs_background": "light"
     },
     "output_type": "display_data"
    },
    {
     "name": "stdout",
     "output_type": "stream",
     "text": [
      "Mean A1:\n",
      "9.0\n",
      "Mean A2:\n",
      "7.500909090909093\n",
      "Mean B1:\n",
      "9.0\n",
      "Mean B2:\n",
      "7.500909090909091\n",
      "Mean C1:\n",
      "9.0\n",
      "Mean C2:\n",
      "7.500000000000001\n",
      "Mean D1:\n",
      "9.0\n",
      "Mean D2:\n",
      "7.50090909090909\n",
      "\n",
      "Std. Dev. A1:\n",
      "3.1622776601683795\n",
      "Std. Dev. A2:\n",
      "1.937024215108669\n",
      "Std. Dev. B1:\n",
      "3.1622776601683795\n",
      "Std. Dev. B2:\n",
      "1.93710869148962\n",
      "Std. Dev. C1:\n",
      "3.1622776601683795\n",
      "Std. Dev. C2:\n",
      "1.9359329439927313\n",
      "Std. Dev. D1:\n",
      "3.1622776601683795\n",
      "Std. Dev. D2:\n",
      "1.9360806451340837\n",
      "\n",
      "Correlation A:\n",
      "0.816420516344843\n",
      "Correlation B:\n",
      "0.8162365060002422\n",
      "Correlation C:\n",
      "0.8162867394895953\n",
      "Correlation D:\n",
      "0.8165214368885068\n"
     ]
    }
   ],
   "source": [
    "# Graficar el (Anscombe's Quartet), cuatro sets dobles que estadisticamente son muy similares\n",
    "\n",
    "%matplotlib inline\n",
    "import matplotlib.pyplot as plt\n",
    "\n",
    "dataA1 = [10, 8, 13, 9, 11, 14, 6, 4, 12, 7, 5]\n",
    "dataA2 = [8.04, 6.95, 7.58, 8.81, 8.33, 9.96, 7.24, 4.26, 10.84, 4.82, 5.68]\n",
    "dataB1 = [10, 8, 13, 9, 11, 14, 6, 4, 12, 7, 5]\n",
    "dataB2 = [9.14, 8.14, 8.74, 8.77, 9.26, 8.10, 6.13, 3.10, 9.13, 7.26, 4.74]\n",
    "dataC1 = [10, 8, 13, 9, 11, 14, 6, 4, 12, 7, 5]\n",
    "dataC2 = [7.46, 6.77, 12.74, 7.11, 7.81, 8.84, 6.08, 5.39, 8.15, 6.42, 5.73]\n",
    "dataD1 = [8, 8, 8, 8, 8, 8, 8, 19, 8, 8, 8]\n",
    "dataD2 = [6.58, 5.76, 7.71, 8.84, 8.47, 7.04, 5.25, 12.5, 5.56, 7.91, 6.89]\n",
    "\n",
    "f, ((firstPlot, secondPlot), (thirdPlot, fourthPlot)) = plt.subplots(2, 2, sharex='col', sharey='row')\n",
    "\n",
    "firstPlot.scatter(dataA1, dataA2, color = 'r')\n",
    "secondPlot.scatter(dataB1, dataB2, color = 'y')\n",
    "thirdPlot.scatter(dataC1, dataC2, color = 'g')\n",
    "fourthPlot.scatter(dataD1, dataD2, color = 'b')\n",
    "\n",
    "firstPlot.set_xlim([0, 20])\n",
    "firstPlot.set_ylim([0, 16])\n",
    "secondPlot.set_xlim([0, 20])\n",
    "secondPlot.set_ylim([0, 16])\n",
    "thirdPlot.set_xlim([0, 20])\n",
    "thirdPlot.set_ylim([0, 16])\n",
    "fourthPlot.set_xlim([0, 20])\n",
    "fourthPlot.set_ylim([0, 16])\n",
    "\n",
    "plt.show()\n",
    "\n",
    "# Ejecutar celdas estadisticas anteriores\n",
    "print('Mean A1:', calculateMean(dataA1),'Mean A2:', calculateMean(dataA2),'Mean B1:', calculateMean(dataB1),\n",
    "     'Mean B2:', calculateMean(dataB2),'Mean C1:', calculateMean(dataC1),'Mean C2:', calculateMean(dataC2),\n",
    "     'Mean D1:', calculateMean(dataD1),'Mean D2:', calculateMean(dataD2), sep='\\n')\n",
    "print()\n",
    "print('Std. Dev. A1:', calculateStandardDeviation(dataA1),'Std. Dev. A2:', calculateStandardDeviation(dataA2),\n",
    "      'Std. Dev. B1:', calculateStandardDeviation(dataB1), 'Std. Dev. B2:', calculateStandardDeviation(dataB2),\n",
    "      'Std. Dev. C1:', calculateStandardDeviation(dataC1),'Std. Dev. C2:', calculateStandardDeviation(dataC2)\n",
    "     ,'Std. Dev. D1:', calculateStandardDeviation(dataD1),'Std. Dev. D2:', calculateStandardDeviation(dataD2), sep='\\n')\n",
    "print()\n",
    "print('Correlation A:', calculateCorrelation(dataA1, dataA2),'Correlation B:', calculateCorrelation(dataB1, dataB2),\n",
    "      'Correlation C:', calculateCorrelation(dataC1, dataC2), 'Correlation D:', calculateCorrelation(dataD1, dataD2), sep='\\n')\n"
   ]
  },
  {
   "cell_type": "markdown",
   "metadata": {
    "Collapsed": "false"
   },
   "source": [
    "### Leer datos de archivos"
   ]
  },
  {
   "cell_type": "code",
   "execution_count": 42,
   "metadata": {
    "Collapsed": "false"
   },
   "outputs": [],
   "source": [
    "# Lee datos de un archivo de texto imaginario.\n",
    "\n",
    "def readData(filename):\n",
    "    listNumbers = []\n",
    "    with open(filename) as f:\n",
    "        for line in f:\n",
    "            listNumbers.append(float(line))\n",
    "    return listNumbers"
   ]
  },
  {
   "cell_type": "code",
   "execution_count": 43,
   "metadata": {
    "Collapsed": "false"
   },
   "outputs": [],
   "source": [
    "# Lee datos de un archivo CSV\n",
    "\n",
    "import csv\n",
    "def readCSVData(filename):\n",
    "    numbers = []\n",
    "    with open(filename) as f:\n",
    "        reader = csv.reader(f)\n",
    "        next(reader)\n",
    "        for row in reader:\n",
    "            numbers.append(int(row[0]))\n",
    "        return numbers"
   ]
  },
  {
   "cell_type": "markdown",
   "metadata": {
    "Collapsed": "false"
   },
   "source": [
    "### Valor a partir de percentil (Excel)"
   ]
  },
  {
   "cell_type": "code",
   "execution_count": 3,
   "metadata": {
    "Collapsed": "false"
   },
   "outputs": [
    {
     "name": "stdout",
     "output_type": "stream",
     "text": [
      "500 500\n",
      "500.0\n"
     ]
    }
   ],
   "source": [
    "# Encontrar un valor de un set a partir de un percentil.\n",
    "\n",
    "def valueFromPercentil(data, percentile):\n",
    "    if (percentile < 0) or (percentile > 100):\n",
    "        return None\n",
    "    data.sort()\n",
    "    if (percentile == 0):\n",
    "        return data[0]\n",
    "    if (percentile == 100):\n",
    "        return data[-1]\n",
    "    numberOfValues = len(data)\n",
    "    rank = (percentile/100)*(numberOfValues-1)+1\n",
    "    k = int(rank)\n",
    "    d = rank-k\n",
    "    real_idx_1 = k-1\n",
    "    real_idx_2 = k\n",
    "    result = data[real_idx_1] + d*(data[real_idx_2]-data[real_idx_1])\n",
    "    print(data[real_idx_1], data[real_idx_2])\n",
    "    return result\n",
    "\n",
    "utilitiesPerDay = [100, 60, 70, 900, 100, 200, 500, 500, 503, 600, 1000, 1200]\n",
    "percentil = 46\n",
    "valueAtPercentil = valueFromPercentil(utilitiesPerDay, percentil)\n",
    "print(valueAtPercentil)\n"
   ]
  },
  {
   "cell_type": "markdown",
   "metadata": {
    "Collapsed": "false"
   },
   "source": [
    "### Tabla de Frecuencias Agrupadas"
   ]
  },
  {
   "cell_type": "code",
   "execution_count": 19,
   "metadata": {
    "Collapsed": "false"
   },
   "outputs": [
    {
     "name": "stdout",
     "output_type": "stream",
     "text": [
      "228.0 [(60, 288.0), (288.0, 516.0), (516.0, 744.0), (744.0, 972.0), (972.0, 1200.0)] 1200.0 1428.0\n",
      "Grouped Frequency Table\n",
      "---------------------------\n",
      "60.00 - 288.00  \t 5\n",
      "288.00 - 516.00  \t 3\n",
      "516.00 - 744.00  \t 1\n",
      "744.00 - 972.00  \t 1\n",
      "972.00 - 1200.00  \t 1\n"
     ]
    }
   ],
   "source": [
    "# Crea una Tabla de Frecuencias Agrupadas\n",
    "\n",
    "def createFreqTableGroups(data, numberOfGroups):\n",
    "    lowestValue = min(data)\n",
    "    highestValue = max(data)\n",
    "    width = (highestValue-lowestValue)/numberOfGroups\n",
    "    groups = []\n",
    "    a = lowestValue\n",
    "    b = a + width\n",
    "    while a < (highestValue):\n",
    "        groups.append((a, b))\n",
    "        a = b\n",
    "        b = a + width\n",
    "    return groups\n",
    "\n",
    "def classifyIntoGroups(data, groups):\n",
    "    count = [0]*len(groups)\n",
    "    for value in data:\n",
    "        for index, c in enumerate(groups):\n",
    "            if value >= c[0] and value < c[1]:\n",
    "                count[index] += 1\n",
    "                break\n",
    "    return count\n",
    "\n",
    "numberOfGroups = 5\n",
    "utilitiesPerDay = [100, 60, 70, 900, 100, 200, 500, 500, 503, 600, 1000, 1200]\n",
    "freqTableGroups = createFreqTableGroups(utilitiesPerDay, numberOfGroups)\n",
    "freqTableClassify = classifyIntoGroups(utilitiesPerDay, freqTableGroups)\n",
    "print('Grouped Frequency Table')\n",
    "print('---------------------------')\n",
    "for c, cnt in zip(freqTableGroups, freqTableClassify):\n",
    "    print('{0:.2f} - {1:.2f}  \\t {2}'.format(c[0], c[1], cnt))\n",
    "\n"
   ]
  },
  {
   "cell_type": "markdown",
   "metadata": {
    "Collapsed": "false",
    "toc-hr-collapsed": true
   },
   "source": [
    "## Algebra con Sympy"
   ]
  },
  {
   "cell_type": "markdown",
   "metadata": {
    "Collapsed": "false"
   },
   "source": [
    "La matematica simbolica utiliza entidades que representan un set de valores. La libreria Sympy permite crear objetos simbolicos. Para obtener input del usuario y convertir el string a una expresion utilizamos la funcion `sympify()`."
   ]
  },
  {
   "cell_type": "markdown",
   "metadata": {
    "Collapsed": "false"
   },
   "source": [
    "### Operaciones Aritmeticas"
   ]
  },
  {
   "cell_type": "code",
   "execution_count": 46,
   "metadata": {
    "Collapsed": "false"
   },
   "outputs": [
    {
     "name": "stdout",
     "output_type": "stream",
     "text": [
      "x+x+1 = 2*x + 1\n",
      "x*y + x*y =  2*x*y\n"
     ]
    }
   ],
   "source": [
    "# Operaciones Aritmeticas\n",
    "\n",
    "from sympy import Symbol, factor, expand, pprint\n",
    "\n",
    "x = Symbol('x')\n",
    "y = x+x+1\n",
    "print('x+x+1 =', y)\n",
    "\n",
    "y = Symbol('y')\n",
    "z = x*y + x*y\n",
    "print('x*y + x*y = ', z)"
   ]
  },
  {
   "cell_type": "markdown",
   "metadata": {
    "Collapsed": "false"
   },
   "source": [
    "### Expandir y Factorizar"
   ]
  },
  {
   "cell_type": "code",
   "execution_count": 47,
   "metadata": {
    "Collapsed": "false"
   },
   "outputs": [
    {
     "name": "stdout",
     "output_type": "stream",
     "text": [
      "(x - y)*(x + y)  =  x**2 - y**2\n",
      "       3\n",
      "(x + y) \n",
      " = \n",
      " 3      2          2    3\n",
      "x  + 3⋅x ⋅y + 3⋅x⋅y  + y \n",
      "   2          \n",
      "2⋅x  + 2⋅x + 1\n"
     ]
    }
   ],
   "source": [
    "# Expandir y Factorizar expresiones\n",
    "\n",
    "from sympy import Symbol, factor, expand, pprint\n",
    "\n",
    "expr = x**2 - y**2\n",
    "w = factor(expr)\n",
    "v = expand(w)\n",
    "print(w, ' = ', v)\n",
    "\n",
    "expr2 = x**3 + 3*x**2*y + 3*x*y**2 + y**3\n",
    "j = factor(expr2)\n",
    "k = expand(j)\n",
    "pprint(j)\n",
    "print(' = ')\n",
    "pprint(k)\n",
    "\n",
    "expr3 = 1 + 2*x + 2*x**2\n",
    "pprint(expr3)"
   ]
  },
  {
   "cell_type": "markdown",
   "metadata": {
    "Collapsed": "false"
   },
   "source": [
    "### Expresion de Serie"
   ]
  },
  {
   "cell_type": "code",
   "execution_count": 48,
   "metadata": {
    "Collapsed": "false"
   },
   "outputs": [
    {
     "name": "stdout",
     "output_type": "stream",
     "text": [
      " 5    4    3    2    \n",
      "x    x    x    x     \n",
      "── + ── + ── + ── + x\n",
      "5    4    3    2     \n"
     ]
    }
   ],
   "source": [
    "# Imprimir una serie matematica\n",
    "# x + (x**2)/2 + (x**3)/3 + ... + (x**n)/n\n",
    "\n",
    "from sympy import Symbol, pprint\n",
    "\n",
    "n = 5\n",
    "x = Symbol('x')\n",
    "series = x\n",
    "for i in range(2, n+1):\n",
    "    series = series + (x**i)/i\n",
    "pprint(series)"
   ]
  },
  {
   "cell_type": "markdown",
   "metadata": {
    "Collapsed": "false"
   },
   "source": [
    "### Evaluar y Simplificar"
   ]
  },
  {
   "cell_type": "code",
   "execution_count": 49,
   "metadata": {
    "Collapsed": "false"
   },
   "outputs": [
    {
     "name": "stdout",
     "output_type": "stream",
     "text": [
      "9\n",
      " 2                        2\n",
      "y  + 2⋅y⋅(1 - y) + (1 - y) \n",
      "1\n"
     ]
    }
   ],
   "source": [
    "# Evaluar expresiones, numerica y simbolicamente\n",
    "# Simplificar expresiones\n",
    "\n",
    "from sympy import Symbol, factor, expand, simplify, pprint\n",
    "\n",
    "x = Symbol('x')\n",
    "y = Symbol('y')\n",
    "expr = x*x + x*y + x*y + y*y\n",
    "res = expr.subs({x:1, y:2})\n",
    "print(res)\n",
    "res2 = expr.subs({x:1-y})\n",
    "pprint(res2)\n",
    "\n",
    "res3 = simplify(res2)\n",
    "print(res3)"
   ]
  },
  {
   "cell_type": "markdown",
   "metadata": {
    "Collapsed": "false"
   },
   "source": [
    "### Solucionar ecuaciones"
   ]
  },
  {
   "cell_type": "code",
   "execution_count": 50,
   "metadata": {
    "Collapsed": "false"
   },
   "outputs": [
    {
     "name": "stdout",
     "output_type": "stream",
     "text": [
      "[12]\n",
      "[{x: -4}, {x: -1}]\n",
      "[{x: -1/2 - sqrt(3)*I/2}, {x: -1/2 + sqrt(3)*I/2}]\n"
     ]
    }
   ],
   "source": [
    "# Resolver ecuaciones\n",
    "\n",
    "from sympy import Symbol, solve\n",
    "\n",
    "x = Symbol('x')\n",
    "\n",
    "expr = x-5-7\n",
    "print(solve(expr))\n",
    "expr2 = x**2 + 5*x + 4\n",
    "print(solve(expr2, dict=True))\n",
    "expr3 = x**2 + x + 1\n",
    "print(solve(expr3, dict=True))"
   ]
  },
  {
   "cell_type": "code",
   "execution_count": 51,
   "metadata": {
    "Collapsed": "false"
   },
   "outputs": [
    {
     "name": "stdout",
     "output_type": "stream",
     "text": [
      "⎡⎧           _____________⎫  ⎧    ⎛       _____________⎞ ⎫⎤\n",
      "⎢⎪          ╱           2 ⎪  ⎪    ⎜      ╱           2 ⎟ ⎪⎥\n",
      "⎢⎨   -b + ╲╱  -4⋅a⋅c + b  ⎬  ⎨   -⎝b + ╲╱  -4⋅a⋅c + b  ⎠ ⎬⎥\n",
      "⎢⎪x: ─────────────────────⎪, ⎪x: ────────────────────────⎪⎥\n",
      "⎣⎩            2⋅a         ⎭  ⎩             2⋅a           ⎭⎦\n"
     ]
    }
   ],
   "source": [
    "# Usar las constantes como variables para ecuaciones generales\n",
    "\n",
    "from sympy import Symbol, solve\n",
    "\n",
    "x = Symbol('x')\n",
    "a = Symbol('a')\n",
    "b = Symbol('b')\n",
    "c = Symbol('c')\n",
    "quadraticEcuation = a*x*x + b*x + c\n",
    "sol = solve(quadraticEcuation, x, dict=True)\n",
    "pprint(sol)"
   ]
  },
  {
   "cell_type": "markdown",
   "metadata": {
    "Collapsed": "false"
   },
   "source": [
    "### Sistemas de Ecuaciones"
   ]
  },
  {
   "cell_type": "code",
   "execution_count": 55,
   "metadata": {
    "Collapsed": "false"
   },
   "outputs": [
    {
     "name": "stdout",
     "output_type": "stream",
     "text": [
      "[{x: 24/5, y: -6/5}]\n",
      "{x: 24/5, y: -6/5} 0 0\n"
     ]
    }
   ],
   "source": [
    "# Resolviendo un sistema de ecuaciones lineales\n",
    "\n",
    "from sympy import Symbol, solve\n",
    "\n",
    "x = Symbol('x')\n",
    "y = Symbol('y')\n",
    "exprOne = 2*x + 3*y - 6\n",
    "exprTwo = 3*x + 2*y - 12\n",
    "sol = solve((exprOne, exprTwo), dict=True)\n",
    "pprint(sol)\n",
    "\n",
    "soln = sol[0]\n",
    "soln1 = exprOne.subs({x:soln[x], y:soln[y]})\n",
    "soln2 = exprTwo.subs({x:soln[x], y:soln[y]})\n",
    "print(soln, soln1, soln2)"
   ]
  },
  {
   "cell_type": "markdown",
   "metadata": {
    "Collapsed": "false"
   },
   "source": [
    "### Graficas Ecuaciones"
   ]
  },
  {
   "cell_type": "code",
   "execution_count": 56,
   "metadata": {
    "Collapsed": "false"
   },
   "outputs": [
    {
     "data": {
      "image/png": "[encoded data removed]",
      "text/plain": [
       "<Figure size 432x288 with 1 Axes>"
      ]
     },
     "metadata": {
      "needs_background": "light"
     },
     "output_type": "display_data"
    }
   ],
   "source": [
    "from sympy.plotting import plot\n",
    "from sympy import Symbol\n",
    "\n",
    "x = Symbol('x')\n",
    "p = plot(2*x+3, 3*x+1, legend=True, show=False)\n",
    "p[0].line_color = 'b'\n",
    "p[1].line_color = 'r'\n",
    "p.show()"
   ]
  },
  {
   "cell_type": "markdown",
   "metadata": {
    "Collapsed": "false"
   },
   "source": [
    "### Sumas y Series"
   ]
  },
  {
   "cell_type": "code",
   "execution_count": 57,
   "metadata": {
    "Collapsed": "false"
   },
   "outputs": [
    {
     "name": "stdout",
     "output_type": "stream",
     "text": [
      "3⋅a + 3⋅d\n"
     ]
    }
   ],
   "source": [
    "from sympy import summation, sympify, Symbol, pprint\n",
    "\n",
    "n = Symbol('n')\n",
    "a = Symbol('a')\n",
    "d = Symbol('d')\n",
    "\n",
    "n_term = a+(n-1)*d\n",
    "num_terms = 3\n",
    "\n",
    "s = summation(n_term, (n, 1, num_terms))\n",
    "\n",
    "pprint(s)"
   ]
  },
  {
   "cell_type": "markdown",
   "metadata": {
    "Collapsed": "false"
   },
   "source": [
    "### Desigualdades"
   ]
  },
  {
   "cell_type": "code",
   "execution_count": 58,
   "metadata": {
    "Collapsed": "false"
   },
   "outputs": [
    {
     "name": "stdout",
     "output_type": "stream",
     "text": [
      "[Interval.open(-oo, -2), Interval.open(2, oo)]\n"
     ]
    }
   ],
   "source": [
    "# Resolver desigualdades univariables\n",
    "# Ya sean polinomiales, racionales, o univariables generales.\n",
    "\n",
    "from sympy import Symbol, sympify, SympifyError\n",
    "from sympy import solve_poly_inequality, solve_rational_inequalities\n",
    "from sympy import solve_univariate_inequality, Poly\n",
    "from sympy.core.relational import Relational, Equality\n",
    "\n",
    "x = Symbol('x')\n",
    "ineq_obj = -x**2 + 4 < 0\n",
    "\n",
    "expr = ineq_obj.lhs\n",
    "rel = ineq_obj.rel_op\n",
    "\n",
    "if expr.is_polynomial():\n",
    "    p = Poly(expr, x)\n",
    "    solution = solve_poly_inequality(p, rel)\n",
    "elif expr.is_rational_function():\n",
    "    p1, p2 = expr.as_numer_denom()\n",
    "    num = Poly(p1)\n",
    "    denom = Poly(p2)\n",
    "    solution = solve_rational_inequalities([[((num, denom), rel)]])\n",
    "else:\n",
    "    solution = solve_univariate_inequality(ineq_obj , x, relational=False)\n",
    "    \n",
    "if isinstance(ineq_obj, Relational) and not isinstance(ineq_obj, Equality):\n",
    "    print(solution)"
   ]
  }
 ],
 "metadata": {
  "kernelspec": {
   "display_name": "Python 3",
   "language": "python",
   "name": "python3"
  },
  "language_info": {
   "codemirror_mode": {
    "name": "ipython",
    "version": 3
   },
   "file_extension": ".py",
   "mimetype": "text/x-python",
   "name": "python",
   "nbconvert_exporter": "python",
   "pygments_lexer": "ipython3",
   "version": "3.7.3"
  },
  "varInspector": {
   "cols": {
    "lenName": 16,
    "lenType": 16,
    "lenVar": 40
   },
   "kernels_config": {
    "python": {
     "delete_cmd_postfix": "",
     "delete_cmd_prefix": "del ",
     "library": "var_list.py",
     "varRefreshCmd": "print(var_dic_list())"
    },
    "r": {
     "delete_cmd_postfix": ") ",
     "delete_cmd_prefix": "rm(",
     "library": "var_list.r",
     "varRefreshCmd": "cat(var_dic_list()) "
    }
   },
   "types_to_exclude": [
    "module",
    "function",
    "builtin_function_or_method",
    "instance",
    "_Feature"
   ],
   "window_display": false
  }
 },
 "nbformat": 4,
 "nbformat_minor": 4
}
