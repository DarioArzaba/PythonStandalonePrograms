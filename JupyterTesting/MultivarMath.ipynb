{
 "cells": [
  {
   "cell_type": "markdown",
   "metadata": {},
   "source": [
    "# Matemáticas Tres"
   ]
  },
  {
   "cell_type": "markdown",
   "metadata": {
    "heading_collapsed": true
   },
   "source": [
    "## Introducción ##"
   ]
  },
  {
   "cell_type": "markdown",
   "metadata": {
    "heading_collapsed": true,
    "hidden": true
   },
   "source": [
    "### Bibliografia"
   ]
  },
  {
   "cell_type": "markdown",
   "metadata": {
    "hidden": true
   },
   "source": [
    "Libro de Texto:\n",
    "\n",
    "- Calculo de Varias Variables Cuarta Edicion Zill\n",
    "\n",
    "Consulta: \n",
    "- Larson, Hostetler, Edwards, Cálculo con Geometría Analítica\n",
    "- Purcell, Varberg, Rigdon, Cálculo, , México: Pearson Educación\n",
    "- Stewart, Calculus Early Transcendentals, , Belmont, CA: Thomson Brooks/Cole\n",
    "- Thomas, Cálculo. Varias Variables, , México: Pearson Educación"
   ]
  },
  {
   "cell_type": "markdown",
   "metadata": {
    "heading_collapsed": true,
    "hidden": true
   },
   "source": [
    "### Politicas "
   ]
  },
  {
   "cell_type": "markdown",
   "metadata": {
    "hidden": true
   },
   "source": [
    "- Se evaluan tareas, examenes rapidos, colaborativas y parciales.\n",
    "- Tareas son en linea y semanales. Examenes escritos. Dos parciales y un final.\n",
    "- Tareas individuales con dos intentos, se toma el más alto.\n",
    "- Examenes basados en tareas con duración maxima de 15 minutos.\n",
    "- No hay prorrogas. No calculadoras graficas o programables."
   ]
  },
  {
   "cell_type": "markdown",
   "metadata": {},
   "source": [
    "## Funciones de Varias Variables ##"
   ]
  },
  {
   "cell_type": "markdown",
   "metadata": {},
   "source": [
    "### Sistemas de Referencia"
   ]
  },
  {
   "cell_type": "markdown",
   "metadata": {},
   "source": [
    "El **plano** cartesiano o euclideano es el conjunto de puntos (x,y) donde ambos son numeros reales. Se representa por dos rectas ortogonales que intersectan en el origen.\n",
    "\n",
    "- La x es la Abcisa al punto. La y es la Ordenada al punto.\n",
    "\n",
    "El **espacio** euclideano es el conjunto de puntos (x, y, z) donde los tres componentes o variables son reales. Se representa por tres rectas ortogonales. Si algun componente es 0 el espacio se vuelve un plano indicado por dos ejes.\n",
    "\n",
    "- (0, b, c) = Plano YZ\n",
    "- (a, 0, c) = Plano XZ\n",
    "- (a, b, 0) = Plano XY\n",
    "\n",
    "Las **coordenadas cilindricas** se denotan mediante (r, theta, z). En donde (r) es la distancia al origen sobre XY, (z) es la altura y (theta) es el angulo desde el eje x positivo.\n",
    "\n",
    "\n",
    "<img src=\"https://mathinsight.org/media/image/image/cylindrical_coordinates.png\" alt=\"Coordenadas Cilindricas\" style=\"width: 160px;\"/>"
   ]
  },
  {
   "cell_type": "markdown",
   "metadata": {},
   "source": [
    "\\begin{gathered}\n",
    "    \\text{De cilindricas a rectangulares}\\\\\n",
    "    x = (r)(\\cos(\\theta)) \\qquad y = (r)(\\sin(\\theta)) \\qquad z = z \\\\\n",
    "    \\text{De rectangulares a cilindricas}\\\\\n",
    "    r = \\sqrt{x^2 + y^2} \\qquad \\theta = \\tan^{-1}(\\frac{y}{x}) \\qquad z = z\n",
    "\\end{gathered}"
   ]
  },
  {
   "cell_type": "markdown",
   "metadata": {},
   "source": [
    "Las **coordenadas esfericas** estan dadas por la triada ordenada (rho, phi, theta) o (rho, theta, phi). En donde (rho) es la distancia al origen, (theta) es el angulo entre la proyeccion de (rho) en XY y el eje x positivo, (phi) es el angulo entre (rho) y (z). Aquí (z) es igual a (rho) por el coseno de (phi).\n",
    "\n",
    "<img src=\"https://mathinsight.org/media/image/image/spherical_coordinates.png\" alt=\"Coordenadas Esfericas\" style=\"width: 160px;\"/>\n",
    "\n",
    "<img src=\"https://mathinsight.org/media/image/image/spherical_coordinates_cartesian.png\" alt=\"Angulos Coordenadas Esfericas\" style=\"width: 360px;\"/>"
   ]
  },
  {
   "cell_type": "markdown",
   "metadata": {},
   "source": [
    "\\begin{gathered}\n",
    "    \\text{De esfericas a rectangulares}\\\\\n",
    "    x = (\\rho)(\\sin(\\phi))(\\cos(\\theta)) \\quad y = (\\rho)(\\sin(\\phi))(\\sin(\\theta)) \\quad z = (\\rho)(\\cos(\\phi)) \\\\\n",
    "    \\text{De rectangulares a esfericas}\\\\\n",
    "    \\rho = \\sqrt{x^2 + y^2 + z^2} \\quad \\theta = \\tan^{-1}(\\frac{y}{x}) \\quad \\phi = \\cos^{-1}\\left(\\frac{z}{\\sqrt{x^2+y^2+z^2}}\\right)\\\\\n",
    "    \\text{De esfericas a cilindricas}\\\\\n",
    "    r = \\sqrt{(\\rho^2)(\\sin^2(\\phi))} \\quad \\theta = \\theta \\quad z = (\\rho)(\\cos(\\phi))\\\\\n",
    "    \\text{De cilindricas a esfericas}\\\\\n",
    "    p = \\sqrt{r^2 + z^2} \\quad \\theta = \\theta \\quad \\phi = \\cos^{-1}\\left(\\frac{z}{\\sqrt{r^2 + z^2}}\\right)\n",
    "\\end{gathered}"
   ]
  },
  {
   "cell_type": "markdown",
   "metadata": {},
   "source": [
    "El **dominio** de una funcion es el posible conjunto de numeros obtenidos que dependen de la variable o variables independientes.\n",
    "\n",
    "Una **funcion de n variables** es una correspondencia en donde la variable depeniente esta determinada por una o más variables indepenientes. \n",
    "\n",
    "\\begin{gathered}\n",
    "    \\text{Funcion de n Variables}\\\\\n",
    "    y = f(x_1, x_2)\\\\\n",
    "    \\text{Funcion de dos variables}\\\\\n",
    "    f(x,y) = x + y^2\n",
    "\\end{gathered}"
   ]
  },
  {
   "cell_type": "markdown",
   "metadata": {},
   "source": [
    "Ejemplos:\n",
    "\n",
    "\\begin{gathered}\n",
    "    f(x,y) = \\sqrt{y-x^2} \\quad D = \\{(x,y)|y-x^2 \\geq 0\\} \\quad y = x^2 \\quad R = \\{z| z \\geq 0\\}\\\\\n",
    "    f(x,y) = \\frac{1}{xy} \\quad D = \\{(x,y)| x \\neq 0 \\land y \\neq 0 \\} \\quad R = \\{z | z \\neq 0 \\}\\\\\n",
    "    f(x,y) = \\sin(xy) \\quad D = \\{(x,y) | (x,y) \\in \\mathbb{R}\\} \\quad R = \\{z | 0 \\leq z \\leq 1 \\}\\\\\n",
    "    f(x, y, z) = \\sqrt{x^2+y^2+z^2} \\quad D = \\{(x,y,z)| f \\in \\mathbb{R} \\} \\quad R = \\{f | f \\geq 0 \\}\\\\\n",
    "    f(x, y, z) = (x)(y)(\\ln(z)) \\quad D = \\{(x,y,z)| z > 0 \\}\\\\\n",
    "    f(x,y) = \\frac{\\log(x^2-2x-15)(4-y^2)}{x^3} \\quad D = \\{(x,y)| x < -3 \\cup x > 5 \\} \\}\n",
    "\\end{gathered}"
   ]
  },
  {
   "cell_type": "markdown",
   "metadata": {},
   "source": [
    "### Curvas de nivel"
   ]
  },
  {
   "cell_type": "markdown",
   "metadata": {},
   "source": [
    "La **grafica** de una funcion de dos variables tiende a ser una superficie en el espacio.\n",
    "\n",
    "Las lineas de contorno o **curvas de nivel** de la figura tridimencional se obtienen cortandola horizontalmente. Si la funcion esta dada por z = F(x,y)  z = k entonces z = k es la ecuacion para los puntos del corte. Para distintos valores de k obtenemos las curvas a distintos niveles. Si las curvas estan más cerca significa una pendiente de k más pronunciada.\n",
    "\n",
    "El mapa de nivel se construye graficando en el plano XY las curvas de nivel. En mathematica utilizamos el comando `ContourPlot[funcion, intervalos]`.\n",
    "\n",
    "Ejemplos de mapas de nivel son:\n",
    "\n",
    "- Ley de Gases Ideales\n",
    "- Ley de Van der Walls\n",
    "- Potencial Electrico\n",
    "\n",
    "Ejemplo: \n",
    "\n",
    "\\begin{gathered}\n",
    "    f(x,y) = xy \\quad k = xy \\quad y = \\frac{k}{x}\\\\\n",
    "\\end{gathered}"
   ]
  },
  {
   "cell_type": "code",
   "execution_count": 1,
   "metadata": {},
   "outputs": [
    {
     "data": {
      "image/png": "[encoded data removed]",
      "text/plain": [
       "<Figure size 432x288 with 1 Axes>"
      ]
     },
     "metadata": {
      "needs_background": "light"
     },
     "output_type": "display_data"
    }
   ],
   "source": [
    "import matplotlib.pyplot as plt\n",
    "import numpy as np\n",
    "\n",
    "# Funcion\n",
    "def f(x, y):\n",
    "    return x*y\n",
    "\n",
    "# Tabular de -10 a 10 en x y en y\n",
    "x = np.linspace(-10, 10, 50)\n",
    "y = np.linspace(-10, 10, 50)\n",
    "\n",
    "# Generar plano XY\n",
    "X, Y = np.meshgrid(x, y)\n",
    "\n",
    "# Evaluar funcion\n",
    "Z = f(X, Y)\n",
    "\n",
    "# Dibujar mapa con niveles de -10 a 10\n",
    "plt.contour(X, Y, Z, range(-10,10), colors='black', );\n",
    "\n",
    "# Establecer zoom de la grafica de -5 a 5\n",
    "plt.xlim(-5, 5)\n",
    "plt.ylim(-5, 5)\n",
    "\n",
    "# Ejecutar todo\n",
    "plt.show()"
   ]
  },
  {
   "cell_type": "markdown",
   "metadata": {},
   "source": [
    "### Graficas para dos variables"
   ]
  },
  {
   "cell_type": "markdown",
   "metadata": {},
   "source": [
    "### Modelo Lineal"
   ]
  },
  {
   "cell_type": "markdown",
   "metadata": {},
   "source": [
    "### Ecuacion del plano tangente"
   ]
  },
  {
   "cell_type": "markdown",
   "metadata": {},
   "source": [
    "### Max y Min por derivadas parciales"
   ]
  },
  {
   "cell_type": "markdown",
   "metadata": {},
   "source": [
    "### Maximos y minimos por lagrange"
   ]
  },
  {
   "cell_type": "markdown",
   "metadata": {},
   "source": [
    "### Diferencial Total "
   ]
  },
  {
   "cell_type": "markdown",
   "metadata": {},
   "source": [
    "FALTAN APUNTES DE PRIMER PARCIAL"
   ]
  },
  {
   "cell_type": "markdown",
   "metadata": {},
   "source": [
    "## Metodos Funciones de Varias Variables ##"
   ]
  },
  {
   "cell_type": "markdown",
   "metadata": {},
   "source": [
    "### Vector Gradiante"
   ]
  },
  {
   "cell_type": "markdown",
   "metadata": {},
   "source": [
    "https://app.schoology.com/course/1931832975/materials/gp/1931833097\n",
    "https://app.schoology.com/course/1931832975/materials/gp/1931833095"
   ]
  },
  {
   "cell_type": "markdown",
   "metadata": {},
   "source": [
    "### Derivada Direccional"
   ]
  },
  {
   "cell_type": "markdown",
   "metadata": {},
   "source": [
    "1. Obtener vector gradiante como la suma de los componentes mediante las primeras derivadas parciales.\n",
    "2. Evaluar variables en el punto de ser necesario\n",
    "3. Obtenemos la derivada direccional de la funcion como el gradiante por el unitario.\n",
    "4. El unitario es la resta del punto final menos el inicial y todos los componentes entre la magnitud del vector distancia.\n",
    "5. El producto punto es la multiplicar componentes del gradiante con el unitario."
   ]
  },
  {
   "cell_type": "markdown",
   "metadata": {},
   "source": [
    "### Integral Multiple"
   ]
  },
  {
   "cell_type": "markdown",
   "metadata": {},
   "source": [
    "Se integra con respecto a una variable y luego con respecto a otra.\n",
    "\n",
    "**Por Ejemplo**:\n"
   ]
  },
  {
   "cell_type": "markdown",
   "metadata": {},
   "source": [
    "### Concepto de Integral Linea"
   ]
  },
  {
   "cell_type": "markdown",
   "metadata": {},
   "source": [
    "A diferencia de la integral definida en un intervalo (Riemann), la integral de linea se calcula sobre una curva C. Entonces la integral de linea de un campo escalar continuo f sobre la curva C en una region del espacio D es:\n",
    "\n",
    "\\begin{gather}\n",
    "    \\int_{C} f(x,y,z)ds = \\int_{a}^{b} f(x(t),y(t),z(t))\\sqrt{(\\frac{dz}{dt})^2+(\\frac{dz}{dt})^2+(\\frac{dz}{dt})^2} dt\\\\\n",
    "    \\int_{C} f(x,y,z)ds = \\int_{C} |f(x,y)| |\\hat{r}'(t)| dt\\\\\n",
    "\\end{gather}\n",
    "\n",
    "**Por Ejemplo**: Calcular integral de linea para la función $f(x,y)=\\frac{x^2}{\\sqrt{1+4y}}$ con una trayectoria C $y = x^2$ en el intervalo $0<x<2$. Aconsejamos parametrizar la trayectoria.\n",
    "\n",
    "\\begin{gather}\n",
    "    \\int_{C} |f(x,y)| |\\hat{r}'(t)| dt \\land y=x^2 \\ni (x=t \\land y=t^2)\\\\\n",
    "    \\hat{r}(t) = t\\hat{i} + t^2\\hat{j} \\implies \\hat{r}'(t) = \\hat{i} + 2t\\hat{j}\\\\\n",
    "    |\\hat{r}'(t)| = \\sqrt{(1)^2+(2t)^2} \\implies \\int_{0}^{2}\\frac{t^2}{\\sqrt{1+4t^2}}(\\sqrt{(1)^2+(2t)^2})dt\\\\\n",
    "    \\therefore \\int_{0}^{2} t^2 dt = \\frac{t^3}{3}\\Big|^{3} = \\frac{8}{3}\n",
    "\\end{gather}\n",
    "\n",
    "El significado real de la integral de linea depende del significado de la funcion f, por ejemplo si representa la densidad lineal de un punto de un alambre en forma de espiral entonces la masa del alambre esta dado por la suma de los diferenciales de f sobre la curva, aproximando el tamaño de dichos diferenciales al infinito obtenemos la definicion de la integral aplicada a f sobre la longitud de la curva.\n",
    "\n",
    "\\begin{gather}\n",
    "    m = \\lim_{n\\to\\infty} \\sum_{t=1}^{n} f(x_t,y_t)\\Delta s_t = \\int_{C} f(x,y)ds\n",
    "\\end{gather}\n",
    "\n",
    "**Por Ejemplo**: Calcular masa de cable con densidad variable $d(t)=8(1+sen(3t))$ sobre una trayectoria $F(t)=8i+(5-3t)j+4tk$ en el intervalo $0<t<2\\pi$.\n",
    "\n",
    "\\begin{gather}\n",
    "    m = \\int_{C} f(x,y) ds \\land ds = |\\hat{r}'(t)| dt \\land \\hat{r}'(t) = \\frac{ds}{dt} = F'(t)\\\\\n",
    "    \\hat{r}'(t) = F'(t) = -3tj+4k \\implies |\\hat{r}'(t)| = \\sqrt{(-3)^2+(4)^2} = 5\\\\\n",
    "    m = \\int_{0}^{2\\pi} 8(1+sen(3t))(5 dt) = 40 \\int_{0}^{2\\pi} 1+sen(3t) dt \\\\\n",
    "    m = 40 ( t + \\frac{cos(3t)}{3} ) \\Big|^{2\\pi} \\implies m = 40(2\\pi)\\\\\n",
    "    \\therefore m = 80\\pi \n",
    "\\end{gather}\n",
    "\n",
    "Entonces una aplicación es para calcular la masa de muelles, espirales o alambres cuya densidad lineal es variable. Si tenemos un campo vectorial F sobre la curva C en una region del espacio D la integral de linea de F es:\n",
    "\n",
    "\\begin{gather}\n",
    "    \\int_{C} F \\cdot dr = \\int_{a}^{b} \\vec{F}(t)\\cdot \\hat{r}'(t) dt\\\\\n",
    "    \\text{En su forma cartesiana}\\\\\n",
    "    \\int_{C} F \\cdot dr = \\int_{C} F_1dx + F_2dy + F_3dz\n",
    "\\end{gather}\n",
    "\n",
    "El significado real de la integral de linea en un campo vectorial que representa las velocidades de un fluido es la cantidad de fluido que circula a lo largo de C por unidad de tiempo. "
   ]
  },
  {
   "cell_type": "markdown",
   "metadata": {},
   "source": [
    "### Teorema Fundamental Integral de Linea"
   ]
  },
  {
   "cell_type": "markdown",
   "metadata": {},
   "source": [
    "Para pasar de una funcion gradiante a su funcion original.\n",
    "\n",
    "1. Considerar los componentes del gradiante como las derivadas parciales de la funcion original.\n",
    "2. Integrar componente en x y obtener todos los terminos de la funcion origina que contienen a x.\n",
    "3. Los terminos que no contienen a x se consideran parte de una funcion constante.\n",
    "4. Integramos la funcion constante ignorando los terminos que contengan a x.\n",
    "5. Para variables adicionales simplemente vamos eliminando las variables de cada integracion de la funcion constante."
   ]
  },
  {
   "cell_type": "markdown",
   "metadata": {},
   "source": [
    "El **potencial de una funcion** es la funcion escalar cuyo gradiante nos da una funcion vectorial determinada. Partimos de que los componentes de una funcion vectorial son las derivadas parciales del potencia original.\n",
    "\\begin{gather}\n",
    "    F(x,y,z) = (2xy)i + (x^2+z^2)j + (2yz)k\\\\\n",
    "    f_x(x,y,z) = 2xy \\land f_y(x,y,z) = x^2+z^2 \\land f_z(x,y,z) = 2yz\\\\\n",
    "    f_x(x,y,z) = 2xy \\implies f(x,y,z) = \\int 2xy dx = x^2y + g(y,z)\\\\\n",
    "    f_y(x,y,z) = x^2+z^2 \\implies f(x,y,z) = \\int x^2+z^2 dy = x^2y + yz^2 + h(x,z)\\\\\n",
    "    f_z(x,y,z) = 2yz \\implies f(x,y,z) = \\int 2yz dz = yz^2 + k(x,y)\\\\\n",
    "    \\text{Ignoramos terminos comunes de las derivadas parciales}\\\\\n",
    "    f_y(x,y,z) = x^2y + yz^2 + K \\implies F(x,y,z) = (2xy)i + (x^2+z^2)j + (2yz)k\n",
    "\\end{gather}"
   ]
  },
  {
   "cell_type": "markdown",
   "metadata": {},
   "source": [
    "Para el calculo de integrales:\n",
    "\n",
    "1. Encontrar antiderivada.\n",
    "2. Evaluas la antiderivada en sus extremos restandolos\n",
    "\n",
    "\\begin{gather}\n",
    "    \\int_{a}^{b} f(x) dx= F(b) - F(a)\n",
    "\\end{gather}\n",
    "\n",
    "> Teorema Fundamental de Integral de Linea: Para hayar una **integral de linea** de un campo conservativo basta con hallar la antiderivada del campo y evaluarla en sus extremos. \n",
    "\n",
    "Por definición la integral de linea es el producto punto de la funcion vectorial con la derivada de r con respecto a t. Este producto punto no es más que el teorema fundamental del calculo aplicado a dos variables. \n",
    "\n",
    "\\begin{gather}\n",
    "    \\int_{C} F \\cdot dr =  \\int_{C} \\nabla f \\cdot dr = f(x(b),y(b)) - f(x(a),y(a))\n",
    "\\end{gather}\n",
    "\n",
    "Por ejemplo: Hayar la integral de linea entre (-1, 4) y (1, 2), de la gradiante $F(x,y) = (2xy)i + (x^2-y)j + 0k$.\n",
    "\n",
    "\\begin{gather}\n",
    "    F(x,y) = (2xy)i + (x^2-y)j + 0k \\implies f(x,y)=(x^2y) - \\frac{y^2}{2} + K\\\\\n",
    "    \\therefore \\int_{C} F \\cdot dr = [(1^2(2)) - \\frac{2^2}{2}] - [(-1^2(4)) - \\frac{4^2}{2}] = 4\n",
    "\\end{gather}\n",
    "\n",
    "Es importante notar que en un campo conservativo la integral de linea no depende de la trayectoria, solo de la diferencia entre los extremos final e inicial. Otra propiedad es que si la trayectoria inicia y finaliza en el mismo punto (curva cerrada o de Jordan) el valor de la integral de linea es cero."
   ]
  },
  {
   "cell_type": "markdown",
   "metadata": {},
   "source": [
    "### Flujo de Campo Vectorial"
   ]
  },
  {
   "cell_type": "markdown",
   "metadata": {},
   "source": [
    "Siguiente Semana"
   ]
  },
  {
   "cell_type": "markdown",
   "metadata": {},
   "source": [
    "### Teorema de Green"
   ]
  },
  {
   "cell_type": "markdown",
   "metadata": {},
   "source": [
    "## Campos Vectoriales ##"
   ]
  },
  {
   "cell_type": "markdown",
   "metadata": {},
   "source": [
    "### Integral de Superficie"
   ]
  },
  {
   "cell_type": "markdown",
   "metadata": {},
   "source": [
    "### Divergencia y Rotacional"
   ]
  },
  {
   "cell_type": "markdown",
   "metadata": {},
   "source": [
    "### Teorema de Stackes"
   ]
  },
  {
   "cell_type": "markdown",
   "metadata": {},
   "source": [
    "### Teorema de Gauss"
   ]
  },
  {
   "cell_type": "markdown",
   "metadata": {},
   "source": [
    "### Problemas de Gauss"
   ]
  },
  {
   "cell_type": "markdown",
   "metadata": {
    "heading_collapsed": true
   },
   "source": [
    "## Formulas"
   ]
  }
 ],
 "metadata": {
  "kernelspec": {
   "display_name": "Python 3",
   "language": "python",
   "name": "python3"
  },
  "language_info": {
   "codemirror_mode": {
    "name": "ipython",
    "version": 3
   },
   "file_extension": ".py",
   "mimetype": "text/x-python",
   "name": "python",
   "nbconvert_exporter": "python",
   "pygments_lexer": "ipython3",
   "version": "3.10.4"
  }
 },
 "nbformat": 4,
 "nbformat_minor": 2
}
