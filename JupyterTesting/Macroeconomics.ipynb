{
 "cells": [
  {
   "cell_type": "code",
   "execution_count": 1,
   "metadata": {
    "hide_input": false
   },
   "outputs": [],
   "source": [
    "from IPython.display import display\n",
    "from bqplot import *\n",
    "import ipywidgets as widgets\n",
    "import numpy as np\n",
    "import matplotlib as mpl\n",
    "import matplotlib.pyplot as plt\n",
    "%matplotlib inline"
   ]
  },
  {
   "cell_type": "code",
   "execution_count": 2,
   "metadata": {
    "hide_input": false
   },
   "outputs": [
    {
     "data": {
      "text/latex": [
       "\\begin{gather}\n",
       "    \\text{CO de X para P} = \\frac{\\text{Costo en Actividad Y}}{\\text{Ganancia en Actividad X}} \\\\\n",
       "    CO_{P1-A1} = \\frac{6 \\text{ A2}}{3 \\text{ A1}} = 2 \\frac{\\text{ A2}}{\\text{ A1}} \\\\\n",
       "    CO_{P1-A2} = \\frac{3 \\text{ A1}}{6 \\text{ A2}} = 0.5 \\frac{\\text{ A1}}{\\text{ A2}} \\\\\n",
       "    CO_{P2-A1} = \\frac{2 \\text{ A2}}{2 \\text{ A1}} = 1 \\frac{\\text{ A2}}{\\text{ A1}} \\\\\n",
       "    CO_{P2-A2} = \\frac{2 \\text{ A2}}{2 \\text{ A1}} = 1 \\frac{\\text{ A1}}{\\text{ A2}} \\\\\\\\\n",
       "\\end{gather}\n"
      ],
      "text/plain": [
       "<IPython.core.display.Latex object>"
      ]
     },
     "metadata": {},
     "output_type": "display_data"
    }
   ],
   "source": [
    "%%latex\n",
    "\\begin{gather}\n",
    "    \\text{CO de X para P} = \\frac{\\text{Costo en Actividad Y}}{\\text{Ganancia en Actividad X}} \\\\\n",
    "    CO_{P1-A1} = \\frac{6 \\text{ A2}}{3 \\text{ A1}} = 2 \\frac{\\text{ A2}}{\\text{ A1}} \\\\\n",
    "    CO_{P1-A2} = \\frac{3 \\text{ A1}}{6 \\text{ A2}} = 0.5 \\frac{\\text{ A1}}{\\text{ A2}} \\\\\n",
    "    CO_{P2-A1} = \\frac{2 \\text{ A2}}{2 \\text{ A1}} = 1 \\frac{\\text{ A2}}{\\text{ A1}} \\\\\n",
    "    CO_{P2-A2} = \\frac{2 \\text{ A2}}{2 \\text{ A1}} = 1 \\frac{\\text{ A1}}{\\text{ A2}} \\\\\\\\\n",
    "\\end{gather}"
   ]
  },
  {
   "cell_type": "markdown",
   "metadata": {},
   "source": [
    "## Curva de Posibilidades de Produccion"
   ]
  },
  {
   "cell_type": "markdown",
   "metadata": {},
   "source": [
    "La curva o frontera de posibilidades de producción (PPC) es una grafica que describe la maxima cantidad de un bien (y) que se pude producir dependiendo de la producción de otro bien (x)."
   ]
  },
  {
   "cell_type": "code",
   "execution_count": 3,
   "metadata": {},
   "outputs": [
    {
     "data": {
      "application/vnd.jupyter.widget-view+json": {
       "model_id": "3c27f22706f84463a4d9da8ebbdbb8a9",
       "version_major": 2,
       "version_minor": 0
      },
      "text/plain": [
       "HBox(children=(VBox(children=(FloatText(value=24.0, description='P1 Max X:'), FloatText(value=12.0, descriptio…"
      ]
     },
     "metadata": {},
     "output_type": "display_data"
    },
    {
     "data": {
      "application/vnd.jupyter.widget-view+json": {
       "model_id": "2072517ffd844bbb8d43ceb630d08b9a",
       "version_major": 2,
       "version_minor": 0
      },
      "text/plain": [
       "Output()"
      ]
     },
     "metadata": {},
     "output_type": "display_data"
    }
   ],
   "source": [
    "def plot(x1,y1,x2,y2):\n",
    "    x_data = np.linspace(0, x1, num=1000)\n",
    "    y_data = np.linspace(y1, 0, num=1000)\n",
    "    x_sc = LinearScale(min=0)\n",
    "    if x1>x2:\n",
    "        x_sc.max = x1*1.5\n",
    "    else:\n",
    "        x_sc.max = x2*1.5\n",
    "    y_sc = LinearScale()\n",
    "    if y1>y2:\n",
    "        y_sc.max = y1*1.5\n",
    "    else:\n",
    "        y_sc.max = y2*1.5\n",
    "    ax_x = Axis(label='Actividad Uno', scale=x_sc, tick_format='0.1f')\n",
    "    ax_y = Axis(label='Actividad Dos', scale=y_sc, orientation='vertical', \n",
    "                tick_format='0.1f', label_offset='3em')\n",
    "\n",
    "    line = Lines(x=x_data, y=y_data, scales={'x': x_sc, 'y': y_sc}, colors=['red'], \n",
    "                 fill='bottom', fill_opacities = [0.3])\n",
    "    \n",
    "    x_dataTwo = np.linspace(0, x2, num=1000)\n",
    "    y_dataTwo = np.linspace(y2, 0, num=1000)\n",
    "    lineTwo = Lines(x=x_dataTwo, y=y_dataTwo, scales={'x': x_sc, 'y': y_sc}, colors=['blue'], \n",
    "                    fill='bottom', fill_opacities = [0.3])\n",
    "    \n",
    "    fig = Figure(axes=[ax_x, ax_y], marks=[line, lineTwo], title='Curva de Posibilidades de Producción')\n",
    "    fig.layout.height = '350px'\n",
    "    fig.layout.width = '600px'\n",
    "    display(fig)\n",
    "    \n",
    "actividadXUno = widgets.FloatText( value=24, description='P1 Max X:', disabled=False)\n",
    "actividadYUno = widgets.FloatText( value=12, description='P1 Max Y:', disabled=False)\n",
    "actividadXDos = widgets.FloatText( value=12, description='P2 Max X:', disabled=False)\n",
    "actividadYDos = widgets.FloatText( value=24, description='P2 Max Y:', disabled=False)\n",
    "\n",
    "\n",
    "left_box = widgets.VBox([actividadXUno, actividadYUno ])\n",
    "right_box = widgets.VBox([actividadXDos, actividadYDos])\n",
    "controls = widgets.HBox([left_box, right_box, ])\n",
    "interactive_plot = widgets.interactive_output(plot, {'x1': actividadXUno, 'y1': actividadYUno, 'x2': actividadXDos, 'y2': actividadYDos})\n",
    "\n",
    "\n",
    "widgets.FloatText(description=r'\\(\\int_0^t f\\)', value = 4, disabled = True)\n",
    "\n",
    "\n",
    "display(controls, interactive_plot)"
   ]
  },
  {
   "cell_type": "markdown",
   "metadata": {},
   "source": [
    "El PPC de una economia es el agregado de millones de entidades. Presenta una curva dado que redireccionar recursos resulta menos efectivo entre más recursos se redireccionen dado que el orden en el que se utilizan va de menor a mayor costo de oportunidad. Esto se describe por el siguiente principio:\n",
    "\n",
    "- **Principio de Incremento de CO (Low Hanging Fruit)**: Para expandir la producción de un bien se emplean primero los recursos con el menor costo de oportunidad ya que son los que generan el mayor beneficio al menor costo. \n",
    "\n",
    "Sin embargo existen casos en los que hay una disminucion del CO o este permanece constante.\n",
    "\n",
    "> Al asignar recursos siempre comienza por los más faciles (menor costo de oportunidad). En la vida real la urgencia disminuye considerablemente el costo de oportunidad.\n",
    "\n",
    "- Algunos factores que desplazan la PPC:\n",
    "    - Incremento de recursos (Densidad poblacional)\n",
    "    - Conocimiento\n",
    "    - Entrenamiento\n",
    "    - Tecnologia\n",
    "\n",
    "Estos factores vuelven a los mismos recursos más productivos. Se dice que una economia crece cuando su curva se desplaza hacia afuera. La pendiente entre dos puntos eficientes representa el costo de oportunidad para lograr dicho cambio. Si la PPC se puede representar por una funcion, el CO sera igual a la derivada de dicha funcion.\n",
    "\n",
    "> Las entidades compran A cuando su precio esta por debajo de su CO y venden A cuando su precio esta por arriba de su CO.\n"
   ]
  }
 ],
 "metadata": {
  "kernelspec": {
   "display_name": "Python 3",
   "language": "python",
   "name": "python3"
  },
  "language_info": {
   "codemirror_mode": {
    "name": "ipython",
    "version": 3
   },
   "file_extension": ".py",
   "mimetype": "text/x-python",
   "name": "python",
   "nbconvert_exporter": "python",
   "pygments_lexer": "ipython3",
   "version": "3.10.4"
  },
  "varInspector": {
   "cols": {
    "lenName": 16,
    "lenType": 16,
    "lenVar": 40
   },
   "kernels_config": {
    "python": {
     "delete_cmd_postfix": "",
     "delete_cmd_prefix": "del ",
     "library": "var_list.py",
     "varRefreshCmd": "print(var_dic_list())"
    },
    "r": {
     "delete_cmd_postfix": ") ",
     "delete_cmd_prefix": "rm(",
     "library": "var_list.r",
     "varRefreshCmd": "cat(var_dic_list()) "
    }
   },
   "position": {
    "height": "457px",
    "left": "494px",
    "right": "20px",
    "top": "77px",
    "width": "742px"
   },
   "types_to_exclude": [
    "module",
    "function",
    "builtin_function_or_method",
    "instance",
    "_Feature"
   ],
   "window_display": false
  }
 },
 "nbformat": 4,
 "nbformat_minor": 2
}
