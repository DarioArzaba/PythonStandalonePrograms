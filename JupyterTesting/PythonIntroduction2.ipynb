{
 "cells": [
  {
   "cell_type": "markdown",
   "metadata": {},
   "source": [
    "# Python"
   ]
  },
  {
   "cell_type": "markdown",
   "metadata": {
    "heading_collapsed": true
   },
   "source": [
    "## Estructuras"
   ]
  },
  {
   "cell_type": "markdown",
   "metadata": {
    "hidden": true
   },
   "source": [
    "Para continuar lineas de codigo como si se encontraran en la misma linea se utiliza `+ \\`."
   ]
  },
  {
   "cell_type": "code",
   "execution_count": null,
   "metadata": {
    "hidden": true
   },
   "outputs": [],
   "source": [
    "alfabeto = \"abcdefg\" + \\\n",
    "\"hijklmnop\" + \\\n",
    "\"qrstuv\" + \\\n",
    "\"wxyz\"\n",
    "print(alfabeto)"
   ]
  },
  {
   "cell_type": "markdown",
   "metadata": {
    "hidden": true
   },
   "source": [
    "Para comparar expresiones se usan bloques de **if**, **elif**, **else** y los comparadores logicos.\n",
    "\n",
    "| Comparador | Nombre | \n",
    "| --- | --- |\n",
    "| == | Igualdad |\n",
    "| != | Diferencia |\n",
    "| < | Menor que |\n",
    "| <= | Menor o igual que |\n",
    "| > | Mayor que |\n",
    "| >= | Mayor o igual que |\n",
    "| and | Y |\n",
    "| or | O |\n",
    "| not | No |\n",
    "\n",
    "Una expresion se considera Falsa si su valor es igual a los siguientes.\n",
    "\n",
    "| Tipo de Dato | Valor | \n",
    "| --- | --- |\n",
    "| Booleana | False |\n",
    "| Null | None |\n",
    "| Zero Int | 0 |\n",
    "| Zero Float | 0.0 |\n",
    "| Empty String, List, Tuple, Dict, Set | '', [], (), {}, set() |"
   ]
  },
  {
   "cell_type": "code",
   "execution_count": null,
   "metadata": {
    "hidden": true
   },
   "outputs": [],
   "source": [
    "if 0 > 1:\n",
    "    print(\"Cero mayor a uno\")\n",
    "elif 0 == 1:\n",
    "    print(\"Cero igual a uno\")\n",
    "else:\n",
    "    print(\"Cero menor a uno\")"
   ]
  },
  {
   "cell_type": "markdown",
   "metadata": {
    "hidden": true
   },
   "source": [
    "Para repetir fragmentos de codigo utilizamos ciclos **while** y **for**."
   ]
  },
  {
   "cell_type": "code",
   "execution_count": null,
   "metadata": {
    "hidden": true
   },
   "outputs": [],
   "source": [
    "# Ciclo conociendo repeticiones\n",
    "count = 1\n",
    "while count <= 5:\n",
    "    print(count, end = ' ')\n",
    "    count += 1"
   ]
  },
  {
   "cell_type": "markdown",
   "metadata": {
    "hidden": true
   },
   "source": [
    "El uso de **continue** y **break** permite crear ciclos por eventos."
   ]
  },
  {
   "cell_type": "code",
   "execution_count": null,
   "metadata": {
    "hidden": true
   },
   "outputs": [],
   "source": [
    "# Ciclo termina por evento Break\n",
    "while True:\n",
    "    string = input(\"Introduce la letra Q : \")\n",
    "    if string == \"q\" or string == \"Q\":\n",
    "        break\n",
    "    print(\"Introdujo: \", string.upper())\n",
    "\n",
    "# Ciclo termina por evento o intentos \n",
    "count = 1\n",
    "while count <= 3:\n",
    "    string = input(\"Introduce la letra W : \")\n",
    "    if string == \"w\" or string == \"W\":\n",
    "        print(\"Correcto\")\n",
    "        break\n",
    "    print(\"Incorrecto:\", count, \"de 3\")\n",
    "    count += 1\n",
    "else:\n",
    "    print(\"Se acabaron los intentos\")\n",
    "    \n",
    "# Ciclo reinicia por evento Continue\n",
    "count = 1\n",
    "while count <= 3:\n",
    "    string = input(\"Introduce la letra E : \")\n",
    "    if string == \"r\":\n",
    "        count = 1\n",
    "        continue\n",
    "    elif string == \"e\" or string == \"E\":\n",
    "        print(\"Correcto\")\n",
    "        break\n",
    "    print(\"Incorrecto:\", count, \"de 3\")\n",
    "    count += 1\n",
    "else:\n",
    "    print(\"Se acabaron los intentos\")\n"
   ]
  },
  {
   "cell_type": "markdown",
   "metadata": {
    "hidden": true
   },
   "source": [
    "Podemos iterar listas y otras estructuras secuenciales mediante ciclos o mediante el uso de `for ... in`. Para iterar multiples listas a la vez utilizamos la funcion `zip()`."
   ]
  },
  {
   "cell_type": "code",
   "execution_count": null,
   "metadata": {
    "hidden": true
   },
   "outputs": [],
   "source": [
    "# Iterar utilizando ciclos\n",
    "lista = ['one', 'two', 'three']\n",
    "actual = 0\n",
    "while actual < len(lista):\n",
    "    print(lista[actual], end = ' ')\n",
    "    actual += 1\n",
    "print()\n",
    "\n",
    "# Iterar utilizando for...in\n",
    "for numero in lista:\n",
    "    print(numero, end =' ')\n",
    "\n",
    "# Iterar diccionario\n",
    "diccionario = {\n",
    "    \"Uno\": 1,\n",
    "    \"Dos\": 2,\n",
    "    \"Tres\": 3\n",
    "}\n",
    "for key in diccionario.keys():\n",
    "    print(key, end=\" \")\n",
    "print()\n",
    "for value in diccionario.values():\n",
    "    print(value, end=\" \")\n",
    "print()\n",
    "for item in diccionario.items():\n",
    "    print(item, end=\" \")\n",
    "print()\n",
    "for key, value in diccionario.items():\n",
    "    print(key, value, end=\" \")\n",
    "print(\"\\n\")\n",
    "    \n",
    "# Iterar multiples secuencias utilizando zip\n",
    "listaUno = [\"One\", \"Two\", \"Three\", \"Four\"]\n",
    "listaDos = [1, 2, 3]\n",
    "listaTres = ['Uno', 'Dos', 'Tres']\n",
    "for Uno, Dos, Tres in zip(listaUno, listaDos, listaTres):\n",
    "    print(Uno, Dos, Tres)"
   ]
  },
  {
   "cell_type": "markdown",
   "metadata": {
    "hidden": true
   },
   "source": [
    "Para generar una secuencia numerica utilizamos la funcion `range()`. Al igual que `zip()` para acceder a sus elementos necesitamos iterarlos con un `for...in` o transformar a una lista con `list()`."
   ]
  },
  {
   "cell_type": "code",
   "execution_count": null,
   "metadata": {
    "hidden": true
   },
   "outputs": [],
   "source": [
    "for number in range(0, 9, 2):\n",
    "    print(number, end=\" \")"
   ]
  },
  {
   "cell_type": "markdown",
   "metadata": {
    "hidden": true
   },
   "source": [
    "Una **comprensión** es una forma compacta de crear una estructura de datos mediante iteraciones."
   ]
  },
  {
   "cell_type": "code",
   "execution_count": null,
   "metadata": {
    "hidden": true
   },
   "outputs": [],
   "source": [
    "# lista = [expresion for elemento in estructura if codicional]\n",
    "\n",
    "# Sin comprension\n",
    "lista = []\n",
    "lista.append(1)\n",
    "lista.append(2)\n",
    "lista.append(3)\n",
    "listaDos = []\n",
    "for number in range(1, 4):\n",
    "    listaDos.append(number)\n",
    "listaTres = list(range(1,4))\n",
    "print(lista, listaDos, listaTres, sep=\"\\n\")\n",
    "\n",
    "# Con compresion\n",
    "comprension = [(numero+1) for numero in range(1,4)]\n",
    "print(comprension)\n",
    "listaImpares = [numero for numero in range(1,6) if numero%2==1]\n",
    "print(listaImpares)\n",
    "print()\n",
    "\n",
    "# Matriz sin compresion\n",
    "filas = range(1, 4)\n",
    "columnas = range(1, 4)\n",
    "for fila in filas:\n",
    "    for columna in columnas:\n",
    "        celda = (fila, columna)\n",
    "        print(celda, end=\" \")\n",
    "    print()\n",
    "print()\n",
    "\n",
    "# Matriz con compresion\n",
    "celdas = [(fila, columna) for fila in filas for columna in columnas]\n",
    "for celda in celdas:\n",
    "    print(celda, end=\" \")\n",
    "    if celda[1] == 3:\n",
    "        print()\n",
    "print()\n",
    "\n",
    "# Tuple unpacking\n",
    "for fila, columna in celdas:\n",
    "    print(\"(\", fila, \", \", columna,\")\", sep=\"\", end=\" \")\n",
    "    if columna == 3:\n",
    "        print()"
   ]
  },
  {
   "cell_type": "markdown",
   "metadata": {
    "hidden": true
   },
   "source": [
    "Tambien podemos definir diccionarios y sets rapidamente utilizando comprensiones."
   ]
  },
  {
   "cell_type": "code",
   "execution_count": null,
   "metadata": {
    "hidden": true
   },
   "outputs": [],
   "source": [
    "# diccionario = { elemento: expresion for elemento in estructura if codicional }\n",
    "# set = { expresion for elemento in estructura if condicional }\n",
    "\n",
    "# Utilizamos un set para no evaluar de nuevo la expresion ...\n",
    "# ... cuando se repitan las letras.\n",
    "\n",
    "saludo = \"Hello World!\"\n",
    "contarLetras = { letra: saludo.count(letra) for letra in set(saludo) }\n",
    "print(contarLetrasUnicas)\n",
    "\n",
    "setDeNumeros = {numero for numero in range(1,6) if (numero%3==1)}\n",
    "print(setDeNumeros)"
   ]
  },
  {
   "cell_type": "markdown",
   "metadata": {
    "hidden": true
   },
   "source": [
    "Para organizar y reutilizar codigo definimos **funciones**. Las funciones aceptan cualquier tipo de parametros y generan cualquier tipo de resultados. Para definir una funcion utilizamos `def`."
   ]
  },
  {
   "cell_type": "code",
   "execution_count": null,
   "metadata": {
    "hidden": true
   },
   "outputs": [],
   "source": [
    "# Funcion vacia\n",
    "def noHacerNada():\n",
    "    pass\n",
    "\n",
    "# Funcion sin argumentos ni resultados\n",
    "def saludar():\n",
    "    print(\"Hello World!\")\n",
    "saludar()\n",
    "\n",
    "# Funcion sin argumentos con resultado\n",
    "def verdadero():\n",
    "    return True\n",
    "booleanoVerdadero = verdadero()\n",
    "print(booleanoVerdadero)\n",
    "\n",
    "#Funcion con argumentos sin resultados\n",
    "def echo(mensaje):\n",
    "    print(mensaje)\n",
    "echo(\"Bye!\")\n",
    "\n",
    "# Funcion con argumentos y resultados\n",
    "def mensajeColor(color):\n",
    "    if color == \"Rojo\":\n",
    "        return color + \" como los tomates\"\n",
    "    elif color == \"Azul\":\n",
    "        return color + \" como el cielo\"\n",
    "    else:\n",
    "        return \"Color no conocido\"\n",
    "comentario = mensajeColor(\"Azul\")\n",
    "print(comentario)"
   ]
  },
  {
   "cell_type": "markdown",
   "metadata": {
    "hidden": true
   },
   "source": [
    "El primer set de argumentos que puede utilizar una funcion son sus **argumentos posicionales**. Sin embargo su problema radica en que al llamar a una funcion es facil introducir los parametros en el orden equivocado. Por ello se pueden definir **argumentos keyword**. Si los argumentos keyword se agregan a la definicion son utilizados como los valores por defecto."
   ]
  },
  {
   "cell_type": "code",
   "execution_count": null,
   "metadata": {
    "hidden": true
   },
   "outputs": [],
   "source": [
    "# Funcion con argumentos posicionales\n",
    "def funcionNumeros(uno, dos, tres, cuatro, cinco):\n",
    "    print(uno, dos, tres, cuatro, cinco)\n",
    "funcionNumeros(1, 2, 3, 5, 4)\n",
    "\n",
    "# Llamada con argumentos keyword\n",
    "funcionNumeros(uno=1, tres=3, dos=2, cinco=5, cuatro=4)\n",
    "\n",
    "# Funcion con valores por defecto\n",
    "def funcionNumerosDefecto(uno, dos, tres=3, cuatro=4, cinco=5):\n",
    "    print(uno, dos, tres, cuatro, cinco)\n",
    "funcionNumerosDefecto(1, dos=2)"
   ]
  },
  {
   "cell_type": "markdown",
   "metadata": {
    "hidden": true
   },
   "source": [
    "Para agrupar una cantidad indeterminada de argumentos posicionales en un tuple agregamos un asterisco. Para agrupar una cantidad indeterminada de argumentos keyword en un diccionario utilizamos dos asteriscos."
   ]
  },
  {
   "cell_type": "code",
   "execution_count": null,
   "metadata": {
    "hidden": true
   },
   "outputs": [],
   "source": [
    "def imprimirVarios(obligatorio, *args):\n",
    "    print(\"Obligatorio : \", obligatorio)\n",
    "    print(\"Tuple de argumentos posicionales : \", args)\n",
    "imprimirVarios(1, \"Dos\", 3.0, 'Cuatro')\n",
    "\n",
    "def imprimirVariosDict(**kwargs):\n",
    "    print(\"Keyword arguments: \", kwargs)\n",
    "imprimirVariosDict(uno = 1, dos = 2, tres = 3)\n",
    "print()\n",
    "\n",
    "def imprimirVariosAmbos(obligatorio, *args, **kwargs):\n",
    "    print(\"Obligatorio : \", obligatorio)\n",
    "    print(\"Tuple de argumentos posicionales : \", args)\n",
    "    print(\"Keyword arguments: \", kwargs)\n",
    "imprimirVariosAmbos(1, \"Dos\", 3.0, 'Cuatro', uno=1, dos=2, tres=3)"
   ]
  },
  {
   "cell_type": "markdown",
   "metadata": {
    "hidden": true
   },
   "source": [
    "Las funciones pueden interactuar entre si como argumentos de otras funciones o como funciones dentro de otras funciones."
   ]
  },
  {
   "cell_type": "code",
   "execution_count": null,
   "metadata": {
    "hidden": true
   },
   "outputs": [],
   "source": [
    "# Funcion como argumento\n",
    "\n",
    "def suma(a, b):\n",
    "    print(a+b)\n",
    "def runSuma(func, a, b):\n",
    "    func(a, b)\n",
    "runSuma(suma, 6, 4)\n",
    "\n",
    "# Funcion con argumentos posicionales\n",
    "def sumaArgs(*args):\n",
    "    s = sum(args)\n",
    "    print(s)\n",
    "def runSumaArgs(func, *args):\n",
    "    return func(*args)\n",
    "runSumaArgs(sumaArgs, 1, 2, 3, 4)\n",
    "\n",
    "# Funcion dentro de otra funcion\n",
    "\n",
    "def outer(a, b):\n",
    "    def inner(c,d):\n",
    "        print(c+d)\n",
    "    return inner(a, b)\n",
    "outer(3, 7)"
   ]
  },
  {
   "cell_type": "markdown",
   "metadata": {
    "hidden": true
   },
   "source": [
    "Las funciones internas pueden usar los parametros de su funcion externa. Esto es muy util para crear nuevas funciones ligeramente distintas (Closures)."
   ]
  },
  {
   "cell_type": "code",
   "execution_count": null,
   "metadata": {
    "hidden": true
   },
   "outputs": [],
   "source": [
    "# Generacion de nuevas funciones\n",
    "\n",
    "def saludo(texto):\n",
    "    def frase():\n",
    "        return print(\"Hello '%s'\" % texto)\n",
    "    return frase\n",
    "saludarMartha = saludo(\"Martha\")\n",
    "saludarDario = saludo(\"Dario\")\n",
    "saludarMartha()\n",
    "saludarDario()"
   ]
  },
  {
   "cell_type": "markdown",
   "metadata": {
    "hidden": true
   },
   "source": [
    "Para crear **funciones anonimas** utilizamos la funcion `lambda()`. Su utilidad radica en el caso de que definamos varias funciones cortas que se utilizan una sola vez."
   ]
  },
  {
   "cell_type": "code",
   "execution_count": null,
   "metadata": {
    "hidden": true
   },
   "outputs": [],
   "source": [
    "# Funcion upper es muy corta y puede usar lambdas\n",
    "palabras = [\"One\", \"Two\", \"Three\"]\n",
    "def editar(palabras, func):\n",
    "    for palabra in palabras:\n",
    "        print(func(palabra))\n",
    "def upper(palabra):\n",
    "    return palabra.upper()\n",
    "editar(palabras, upper)\n",
    "print()\n",
    "\n",
    "# Usando lambda()\n",
    "editar(palabras, lambda palabra: palabra.upper())"
   ]
  },
  {
   "cell_type": "markdown",
   "metadata": {
    "hidden": true
   },
   "source": [
    "Si utilizamos una comprension entre parentesis no crearemos un tuple sino un **generador**. Un generador nos permite generar rapidamente datos que requiera una estructura de datos. Una vez que otorga sus valores los elimina de su memoria hasta quedar vacio."
   ]
  },
  {
   "cell_type": "code",
   "execution_count": null,
   "metadata": {
    "hidden": true
   },
   "outputs": [],
   "source": [
    "generador = (numero for numero in range(1, 6))\n",
    "print(type(generador))\n",
    "for elemento in generador:\n",
    "    print(elemento, end=\" \")\n",
    "print()\n",
    "listaGenerada = list(generador)\n",
    "print(listaGenerada)"
   ]
  },
  {
   "cell_type": "markdown",
   "metadata": {
    "hidden": true
   },
   "source": [
    "Un **generador** es un objeto que crea secuencias de datos sin tener que guardar toda la secuencia en la memoria. Generalmente son la fuente de datos al iterar estructuras de datos."
   ]
  },
  {
   "cell_type": "code",
   "execution_count": null,
   "metadata": {
    "hidden": true
   },
   "outputs": [],
   "source": [
    "# range() es un generador\n",
    "\n",
    "def myRange(first = 0, last = 10, step = 1):\n",
    "    numero = first\n",
    "    while numero < last:\n",
    "        yield numero\n",
    "        numero += step\n",
    "\n",
    "generador = myRange(1, 5)\n",
    "for numero in generador:\n",
    "    print(numero)"
   ]
  },
  {
   "cell_type": "markdown",
   "metadata": {
    "hidden": true
   },
   "source": [
    "Para realizar una variante de una funcion sin tener que modificar su codigo directamente podemos utilizar **Decoradores**. Un decorador es una funcion que toma otra funcion como argumento y regresa la funcion modificada."
   ]
  },
  {
   "cell_type": "code",
   "execution_count": null,
   "metadata": {
    "hidden": true
   },
   "outputs": [],
   "source": [
    "# Definir decorador\n",
    "def agregarImpresiones(func):\n",
    "    def funcionModificada(*args, **kwargs):\n",
    "        print(\"Nombre:\", func.__name__)\n",
    "        print(\"Positional Argumentos:\", args)\n",
    "        print(\"Keyword Argumentos:\", kwargs)\n",
    "        result = func(*args, **kwargs)\n",
    "        print(\"Resultado:\", result)\n",
    "        return result\n",
    "    return funcionModificada\n",
    "\n",
    "# Definir funcion\n",
    "def sumaEnteros(a,b):\n",
    "    return a+b\n",
    "\n",
    "# Crear funcion decorada en base a otra\n",
    "infoFuncion = agregarImpresiones(sumaEnteros)\n",
    "infoFuncion(2, 3)\n",
    "print()\n",
    "\n",
    "# Utilizar decorador automatico\n",
    "@agregarImpresiones\n",
    "def restaEnteros(a, b):\n",
    "    return a-b\n",
    "restaEnteros(15, 8)\n",
    "print()\n",
    "\n",
    "# Multiples decoradores\n",
    "def resultadoAlCuadrado(func):\n",
    "    def funcionModificada(*args, **kwargs):\n",
    "        result = func(*args, **kwargs)\n",
    "        return result*result\n",
    "    return funcionModificada\n",
    "\n",
    "@resultadoAlCuadrado\n",
    "@agregarImpresiones\n",
    "def multiplicarEnteros(a, b):\n",
    "    return a*b\n",
    "multiplicarEnteros(2,3)"
   ]
  },
  {
   "cell_type": "markdown",
   "metadata": {
    "hidden": true
   },
   "source": [
    "Distintas partes del codigo tienen distintos espacios para identificadores (Namespaces). Cada funcion tiene su propio namespace. "
   ]
  },
  {
   "cell_type": "code",
   "execution_count": null,
   "metadata": {
    "hidden": true
   },
   "outputs": [],
   "source": [
    "# Funciones pueden accesar variables globales\n",
    "\n",
    "animal = \"perro\"\n",
    "def print_globalUno():\n",
    "    print(\"Adentro\", animal)\n",
    "print_globalUno()\n",
    "print(\"Afuera\", animal)\n",
    "print()\n",
    "\n",
    "# Si asignan una variable con el mismo nombre\n",
    "# Utilizaran la variable local\n",
    "# Con sus ID podemos comprobar que son distintas\n",
    "\n",
    "animal = \"perro\"\n",
    "def print_globalDos():\n",
    "    animal = \"gato\"\n",
    "    print(\"Adentro\", animal)\n",
    "    print(\"ID: \", id(animal))\n",
    "print_globalDos()\n",
    "print(\"Afuera\", animal)\n",
    "print(\"ID: \", id(animal))\n",
    "print()\n",
    "\n",
    "# Para acceder a la varable global usamos el keyword global\n",
    "\n",
    "animal = \"perro\"\n",
    "def print_globalTres():\n",
    "    global animal\n",
    "    animal = \"gato\"\n",
    "    print(\"Adentro\", animal)\n",
    "print_globalTres()\n",
    "print(\"Afuera\", animal)\n",
    "\n",
    "# Para imprimir el namespace local y global\n",
    "\n",
    "animal = \"conejo\"\n",
    "def print_globalCuatro():\n",
    "    animal = \"elefante\"\n",
    "    print(\"Local:\", locals())\n",
    "print_globalCuatro()\n",
    "print(\"Global:\", globals()['animal'])"
   ]
  },
  {
   "cell_type": "markdown",
   "metadata": {
    "hidden": true
   },
   "source": [
    "Los nombres con dos guiones bajos son **identificadores reservados** o variables del sistema. El nombre del programa principal es `__main__`. El nombre de una funcion se obtiene como `func.__name__` y su documentacion como `func.__doc__`.\n",
    "\n",
    "Los errores en Python son generados mediante **Excepciones**, un valor especial de retorno. Cuando el codigo recibe condiciones para las que no esta preparado necesitamos crear Exception Handlers que intercepten el error."
   ]
  },
  {
   "cell_type": "code",
   "execution_count": null,
   "metadata": {
    "hidden": true
   },
   "outputs": [],
   "source": [
    "short_list = [1,2,3]\n",
    "position = 5\n",
    "try:\n",
    "    short_list[position]\n",
    "except:\n",
    "    print(\"Las posiciones validas son entre 0 y\", \n",
    "          len(short_list)-1, \"y se introdujo\", position)    "
   ]
  },
  {
   "cell_type": "markdown",
   "metadata": {
    "hidden": true
   },
   "source": [
    "Podemos especificar el error que buscamos y asignarlo a una variable para manipularlo correctamente."
   ]
  },
  {
   "cell_type": "code",
   "execution_count": null,
   "metadata": {
    "hidden": true
   },
   "outputs": [],
   "source": [
    "lista = [1, 2, 3]\n",
    "while True:\n",
    "    pStr = input(\"Posicion [q to quit]? \")\n",
    "    if p == 'q'\n",
    "        break\n",
    "    try:\n",
    "        pInt = int(pStr)\n",
    "        print(lista[pInt])\n",
    "    except IndexError as err:\n",
    "        print(\"Indice fuera de rango: \", pInt)\n",
    "    except Exception as other:\n",
    "        print(\"Otro error: \", other)"
   ]
  },
  {
   "cell_type": "markdown",
   "metadata": {
    "hidden": true
   },
   "source": [
    "Para utilizar las excepciones por defecto de Python o crear nuestras propias excepciones tenemos que crear una nueva instancia de la clase Exeception."
   ]
  },
  {
   "cell_type": "code",
   "execution_count": null,
   "metadata": {
    "hidden": true
   },
   "outputs": [],
   "source": [
    "class UppercaseException(Exception):\n",
    "    pass\n",
    "palabras = [\"One\", \"Two\", \"THREE\"]\n",
    "for palabra in palabras:\n",
    "    if palabra.isupper():\n",
    "        raise UppercaseException(palabra)"
   ]
  },
  {
   "cell_type": "markdown",
   "metadata": {
    "heading_collapsed": true
   },
   "source": [
    "## Modulos"
   ]
  },
  {
   "cell_type": "markdown",
   "metadata": {
    "hidden": true
   },
   "source": [
    "Para var los argumentos con los que se ejecuto un script podemos importar el modulo `sys`."
   ]
  },
  {
   "cell_type": "code",
   "execution_count": null,
   "metadata": {
    "hidden": true
   },
   "outputs": [],
   "source": [
    "import sys\n",
    "print(\"Program arguments:\", sys.argv)"
   ]
  },
  {
   "cell_type": "markdown",
   "metadata": {
    "hidden": true
   },
   "source": [
    "Python se organiza como un libro, las palabras son los tipos de datos, las sentencias son oraciones, las funciones son parrafos y los modulos son como capitulos. Para usar codigo de otros modulos utilizamos la palabra `import`. El ambiente actual busca modulos en los siguientes directorios:"
   ]
  },
  {
   "cell_type": "code",
   "execution_count": null,
   "metadata": {
    "hidden": true
   },
   "outputs": [],
   "source": [
    "pprint(sys.path)"
   ]
  },
  {
   "cell_type": "markdown",
   "metadata": {
    "hidden": true
   },
   "source": [
    "Si el nombre de un modulo se repite o queremos utilizar un nombre más corto podemos asignar un **Alias** al modulo para utilizarlo en el archivo actual. `import sys as os`.\n",
    "\n",
    "Si queremos importar unicamente una funcion utilizamos el formato `from sys import path as p`.\n",
    "\n",
    "Los modulos, archivos dentro de un mismo directorio, se pueden organizar a su vez en paquetes. Un paquete tiene un archivo maestro `main.py` seguido de un directorio `src` o `sources` con todos los modulos (`moduleOne.py` y `moduleTwo.py`) contenidos en el paquete. Finalmente se añade un archivo `__init__.py` a `sources` para indicar que se trata de un paquete.\n",
    "\n",
    "De esta forma `main.py` puede importar modulos del paquete `sources` mediante `from sources import moduleOne, moduleTwo`.\n",
    "\n",
    "Algunas funciones utiles de la libreria estandar de Python son las siguientes."
   ]
  },
  {
   "cell_type": "code",
   "execution_count": null,
   "metadata": {
    "hidden": true
   },
   "outputs": [],
   "source": [
    "# Busca el valor de una llave, si no encuentra la llave la agrega\n",
    "\n",
    "tabla = {\"Hidrogeno\" : 1, \"Helio\": 2}\n",
    "carbon = tabla.setdefault(\"Carbon\", 12)\n",
    "print(carbon)\n",
    "print(tabla)\n",
    "print()\n",
    "\n",
    "# Definir el valor por defecto de toda llave no encontrada \n",
    "# Utiliza una funcion para generar dicho valor. int() = 0\n",
    "# Sin una funcion como argumento genera None\n",
    "\n",
    "from collections import defaultdict\n",
    "tabla = defaultdict(int)\n",
    "print(tabla[\"Oro\"])\n",
    "print()\n",
    "\n",
    "# Contadores\n",
    "from collections import Counter\n",
    "numeros = [\"Uno\", \"Dos\", \"Uno\", \"Uno\"]\n",
    "contadorNumeros = Counter(numeros)\n",
    "print(contadorNumeros)\n",
    "print(contadorNumeros.most_common())\n",
    "print(contadorNumeros.most_common(1))\n",
    "numerosDos = [\"Dos\", \"Tres\", \"Cuatro\"]\n",
    "contadorNumerosDos = Counter(numerosDos)\n",
    "print(contadorNumerosDos)\n",
    "print(contadorNumeros + contadorNumerosDos)\n",
    "print()\n",
    "\n",
    "# Diccionario Ordenado (Desde 3.6 ya son ordenados por defecto)\n",
    "from collections import OrderedDict\n",
    "diccionarioSinOrdenar = {\"Moe\": 1, \"Larry\": 2, \"Curly\":3}\n",
    "for key in diccionarioSinOrdenar:\n",
    "    print(key, end =\", \")\n",
    "print()\n",
    "\n",
    "diccionarioOrdenado = OrderedDict([(\"Moe\", 1),(\"Larry\", 2),(\"Curly\", 3)])\n",
    "for key in diccionarioOrdenado:\n",
    "    print(key, end =\", \")\n",
    "print()\n",
    "    \n",
    "# Crear Deques (Stack + Queue).\n",
    "# Agregar y eliminar datos de ambos lados de un queue\n",
    "\n",
    "def palindromo(palabra):\n",
    "    from collections import deque\n",
    "    newDeque = deque(palabra)\n",
    "    while len(newDeque) > 1:\n",
    "        if newDeque.popleft() != newDeque.pop():\n",
    "            return False\n",
    "    return True\n",
    "print(palindromo(\"RACECAR\"))\n",
    "print()\n",
    "\n",
    "# Iteradores Especiales (for...in)\n",
    "# Chain despliega todos los iterables uno tras otro\n",
    "import itertools\n",
    "for item in itertools.chain([1,2], [\"a\", \"b\"]):\n",
    "    print(item, end=\" \")\n",
    "print()\n",
    "\n",
    "# Cycle crea un bucle infinito iterando los elementos\n",
    "# CICLO INFINITO:\n",
    "# for item in itertools.cycle([1,2]):\n",
    "  #   print(item)\n",
    "    \n",
    "# Accumulate calcula valores acomulados, por defecto suma\n",
    "for item in itertools.accumulate([1,2,3,4,5]):\n",
    "    print(item, end =\" \")\n",
    "print()\n",
    "\n",
    "# Podemos cambiar la funcion de accumulate\n",
    "for item in itertools.accumulate([1,2,3,4,5], lambda a,b: a*b):\n",
    "    print(item, end= \" \")\n",
    "print()"
   ]
  },
  {
   "cell_type": "markdown",
   "metadata": {},
   "source": [
    "## Objetos y Clases"
   ]
  },
  {
   "cell_type": "markdown",
   "metadata": {},
   "source": [
    "Un **Objeto** contiene datos denominados atributos y funciones denominados metodos. Representa una instancia de un objeto concreto que tiene propiedades y comportamientos. La informacion que contiene y como interactua con otros objetos se define en una **Clase**."
   ]
  },
  {
   "cell_type": "code",
   "execution_count": null,
   "metadata": {},
   "outputs": [],
   "source": [
    "# Clase que guarda informacion de una persona\n",
    "class Persona():\n",
    "    def __init__(self, name):\n",
    "        self.name = name\n",
    "    \n",
    "dario = Persona(\"Dario\")\n",
    "print(\"Mi nombre es:\", dario.name)"
   ]
  },
  {
   "cell_type": "markdown",
   "metadata": {},
   "source": [
    "Para modificar una clase podemos vincularla a otra utilizando **herencias**. Una herencia transfiere automaticamente el codigo de una clase y solo sobreescribe el codigo nuevo. La clase original es la padre, base o superclase. La clase que importa la informacion se denomina hija, derivada o subclase.\n",
    "\n",
    "Para que un metodo se refiera a la instancia actual utilizamos el argumento `self`. "
   ]
  },
  {
   "cell_type": "code",
   "execution_count": null,
   "metadata": {},
   "outputs": [],
   "source": [
    "class superclase():\n",
    "    def __init__(self, n):\n",
    "        self.nombre = n\n",
    "        \n",
    "    def saludar(self):\n",
    "        print(\"I'm a Car!\", self.nombre)\n",
    "        \n",
    "    def correr(self, a, b):\n",
    "        return a + b\n",
    "\n",
    "class subclase(superclase):\n",
    "    def __init__(self, n, num):\n",
    "        super().__init__(n)\n",
    "        self.numero = num\n",
    "        \n",
    "    def saludar(self):\n",
    "        print(\"I'm a Red Car!\", self.nombre, self.numero)\n",
    "\n",
    "superClase = superclase(\"SUP\")\n",
    "subClase = subclase(\"SUB\", 99)\n",
    "\n",
    "superClase.saludar()\n",
    "subClase.saludar()\n",
    "subclase.saludar(subClase)\n",
    "\n",
    "resultadoSup = superClase.correr(1,2)\n",
    "resultadoSub = subClase.correr(2,3)\n",
    "print(resultadoSup, resultadoSub)"
   ]
  },
  {
   "cell_type": "markdown",
   "metadata": {},
   "source": [
    "En Python todos los metodos y atributos son publicos. Para hacer un metodo semi privado necesitamos aplicarle la funcion `property()`, asignando un Getter y Setter. De esta forma solo se podra acceder a un atributo ejecutando las funciones correspondientes."
   ]
  },
  {
   "cell_type": "code",
   "execution_count": null,
   "metadata": {},
   "outputs": [],
   "source": [
    "# Establecer propiedades manualmente\n",
    "class escondido():\n",
    "    def __init__(self, n):\n",
    "        self.nombreSecreto = n\n",
    "    def get_nombre(self):\n",
    "        print(\"Getter Called\")\n",
    "        return self.nombreSecreto\n",
    "    def set_nombre(self, n):\n",
    "        print(\"Setter Called\")\n",
    "        self.nombreSecreto = n\n",
    "    nombre = property(get_nombre, set_nombre)\n",
    "    \n",
    "# Establecer propiedades mediante decoradores\n",
    "# Property for getter and getter.Setter for setter\n",
    "class escondidoDos():\n",
    "    def __init__(self, n):\n",
    "        self.nombreSecreto = n\n",
    "    @property\n",
    "    def nombre(self):\n",
    "        print(\"Getter Called\")\n",
    "        return self.nombreSecreto\n",
    "    @nombre.setter\n",
    "    def nombre(self, n):\n",
    "        print(\"Setter Called\")\n",
    "        self.nombreSecreto = n\n",
    "        \n",
    "objEscondido = escondido(\"UNO\")\n",
    "nombreObjEscondido = objEscondido.nombre\n",
    "objEscondido.nombre = \"DOS\"\n",
    "nombreObjEscondido = objEscondido.nombre\n",
    "print(nombreObjEscondido)\n",
    "\n",
    "objEscondidoDos = escondidoDos(\"DOS\")\n",
    "nombreObjEscondidoDos = objEscondidoDos.nombre\n",
    "objEscondidoDos.nombre = \"TRES\"\n",
    "nombreObjEscondidoDos = objEscondidoDos.nombre\n",
    "print(nombreObjEscondidoDos)"
   ]
  },
  {
   "cell_type": "markdown",
   "metadata": {},
   "source": [
    "Una ventaja de establecer propiedades es computar el resto de los atributos automaticamente. En Python las propiedades privadas suelen tener como prefijo de su identificador dos guiones bajos."
   ]
  },
  {
   "cell_type": "code",
   "execution_count": null,
   "metadata": {},
   "outputs": [],
   "source": [
    "# Identificadores para propiedades escondidas\n",
    "class escondidoTres():\n",
    "    def __init__(self, n):\n",
    "        self.__nombreSecreto = n\n",
    "    @property\n",
    "    def nombre(self):\n",
    "        print(\"Getter Called\")\n",
    "        return self.__nombreSecreto\n",
    "    @nombre.setter\n",
    "    def nombre(self, n):\n",
    "        print(\"Setter Called\")\n",
    "        self.__nombreSecreto = n\n",
    "\n",
    "objEscondidoTres = escondidoTres(\"TRES\")\n",
    "nombreObjEscondidoTres = objEscondidoTres.nombre\n",
    "print(nombreObjEscondidoTres)\n",
    "print()\n",
    "\n",
    "# En realidad añadir los guiones bajos solo oscurece el identificador\n",
    "# Name mangling solo añade el nombre de la clase\n",
    "print(objEscondidoTres._escondidoTres__nombreSecreto)\n",
    "print()\n",
    "\n",
    "# Computar valores automaticamente\n",
    "class Cuadrado():\n",
    "    def __init__(self, l):\n",
    "        self.lado = l\n",
    "    @property\n",
    "    def perimetro(self):\n",
    "        return self.lado * 4\n",
    "    @property\n",
    "    def area(self):\n",
    "        return self.lado*self.lado\n",
    "objCuadrado = Cuadrado(10)\n",
    "print(objCuadrado.lado)\n",
    "print(objCuadrado.perimetro)\n",
    "print(objCuadrado.area)"
   ]
  },
  {
   "cell_type": "markdown",
   "metadata": {},
   "source": [
    "Para establecer que un metodo y atributo es de la clase y no de la instancia utilizamos el decorador `classmethod`. El primer argumento de este metodo no es la instancia sino la misma clase `cls`. Para establecer un metodo que no pertenece a la clase ni a la instancia pero se agrega a la clase para poder ser utilizado por si solo se utiliza el decorador `staticmethod`."
   ]
  },
  {
   "cell_type": "code",
   "execution_count": null,
   "metadata": {},
   "outputs": [],
   "source": [
    "class metodosDeClase():\n",
    "    instanceCount= 0\n",
    "    def __init__(self):\n",
    "        metodosDeClase.instanceCount +=1\n",
    "    def saludar(self):\n",
    "        print(\"Soy una A\")\n",
    "    @classmethod\n",
    "    def instancias(cls):\n",
    "        print(\"Numero de Instancias\", cls.instanceCount)\n",
    "    @staticmethod\n",
    "    def suma(a, b):\n",
    "        return a + b\n",
    "        \n",
    "uno = metodosDeClase()\n",
    "dos = metodosDeClase()\n",
    "tres = metodosDeClase()\n",
    "metodosDeClase.instancias()\n",
    "sumaResultado = metodosDeClase.suma(1, 2)\n",
    "print(sumaResultado)"
   ]
  },
  {
   "cell_type": "markdown",
   "metadata": {},
   "source": [
    "Python implementa un poco de **polimorfismo**. Es decir que podemos aplicar el mismo metodo a distintos tipos de objetos sin importar su clase."
   ]
  },
  {
   "cell_type": "code",
   "execution_count": null,
   "metadata": {},
   "outputs": [],
   "source": [
    "class frase():\n",
    "    def __init__(self, persona, palabra):\n",
    "        self.persona = persona\n",
    "        self.palabra = palabra\n",
    "    def quien(self):\n",
    "        return self.persona\n",
    "    def dicho(self):\n",
    "        return self.palabra + \".\"\n",
    "class preguntarFrase(frase):\n",
    "    def dicho(self):\n",
    "        return self.palabra + \"?\"\n",
    "class exclamarFrase(frase):\n",
    "    def dicho(self):\n",
    "        return self.palabra + \"!\"\n",
    "    \n",
    "objFrase = frase(\"Dario\", \"Corro rapido\")\n",
    "print(objFrase.quien(), \" dice \", objFrase.dicho())\n",
    "objPregunta = preguntarFrase(\"Carlos\", \"Puedo salir\")\n",
    "print(objPregunta.quien(), \" dice \", objPregunta.dicho())\n",
    "objExclamar = exclamarFrase(\"Martha\", \"Voy a bailar\")\n",
    "print(objExclamar.quien(), \" dice \", objExclamar.dicho())\n",
    "\n",
    "class fraseDeMario():\n",
    "    def quien(self):\n",
    "        return \"Mario\"\n",
    "    def dicho(self):\n",
    "        return \"Hola Mundo\"\n",
    "\n",
    "mario = fraseDeMario()\n",
    "def llamarFrase(obj):\n",
    "    print(obj.quien(), \"dice\", obj.dicho())\n",
    "print()\n",
    "\n",
    "llamarFrase(objFrase)\n",
    "llamarFrase(objPregunta)\n",
    "llamarFrase(objExclamar)\n",
    "llamarFrase(mario)"
   ]
  },
  {
   "cell_type": "markdown",
   "metadata": {},
   "source": [
    "Algunos objetos de Python como `int` utilizan operadores aritmeticos mediante el uso de **Metodos Especiales** o **Metodos Magicos**. Los metodos magicos se nombran utilizando dos guiones al inicio y al final del identificador, el más utilizado es el metodo inicializador `__init__`. Algunos son:\n",
    "\n",
    "| Metodos Magicos | Uso | Metodo | Uso\n",
    "| --- | --- | --- | --- |\n",
    "| \\_\\_eq\\_\\_(self,other) | self == other | \\_\\_mul\\_\\_(self,other) | self * other |\n",
    "| \\_\\_ne\\_\\_(self,other) | self != other | \\_\\_floordiv\\_\\_(self,other) | self // other |\n",
    "| \\_\\_lt\\_\\_(self,other) | self < other | \\_\\_truediv\\_\\_(self,other) | self / other |\n",
    "| \\_\\_gt\\_\\_(self,other) | self > other | \\_\\_mod\\_\\_(self,other) | self % other |\n",
    "| \\_\\_le\\_\\_(self,other) | self <= other | \\_\\_pow\\_\\_(self,other) | self ** other |\n",
    "| \\_\\_ge\\_\\_(self,other) | self >= other | \\_\\_str\\_\\_(self,other) | str(self) |\n",
    "| \\_\\_add\\_\\_(self,other) | self + other | \\_\\_repr\\_\\_(self) | repr(self) |\n",
    "| \\_\\_sub\\_\\_(self,other) | self - other | \\_\\_len\\_\\_(self) | len(self) |"
   ]
  },
  {
   "cell_type": "code",
   "execution_count": null,
   "metadata": {},
   "outputs": [],
   "source": [
    "class Word():\n",
    "    def __init__(self, text):\n",
    "        self.text = text\n",
    "    def equals(self, word2):\n",
    "        return self.text.lower() == word2.text.lower()\n",
    "first = Word(\"Ha\")\n",
    "second = Word(\"HA\")\n",
    "third = Word(\"eh\")\n",
    "print(first.equals(second))\n",
    "print(first.equals(third))\n",
    "print()\n",
    "\n",
    "class WordMagic():\n",
    "    def __init__(self, text):\n",
    "        self.text = text\n",
    "    def __eq__(self, word2):\n",
    "        return self.text.lower() == word2.text.lower()\n",
    "    def __str__(self):\n",
    "        return 'Word Print ( \"' + self.text + '\" ) '\n",
    "    def __repr__(self):\n",
    "        return 'Word Interactive ( \"' + self.text + '\" ) '\n",
    "first = WordMagic(\"Ha\")\n",
    "second = WordMagic(\"HA\")\n",
    "third = WordMagic(\"eh\")\n",
    "print(first == second)\n",
    "print(first == third)\n",
    "print()\n",
    "\n",
    "# Using the Magic Method str and repr\n",
    "print(first)\n",
    "first "
   ]
  },
  {
   "cell_type": "markdown",
   "metadata": {},
   "source": [
    "Las herencias son estructuras escenciales en la programacion de objetos pero muchas veces no queremos heredar todas las propiedades de la superclase solo algunas partes. En este caso utilizamos **Composiciones** o **Agregaciones** en donde simplemente asignamos otros objetos como atributos (partes)."
   ]
  },
  {
   "cell_type": "code",
   "execution_count": null,
   "metadata": {},
   "outputs": [],
   "source": [
    "class Motor():\n",
    "    def __init__(self, description):\n",
    "        self.description = description\n",
    "class Auto():\n",
    "    def __init__(self, motor):\n",
    "        self.motor = motor\n",
    "    def info(self):\n",
    "        print('Este coche tiene un motor ', self.motor.description, '.')\n",
    "motorTipo = Motor('ocho cilindros')\n",
    "cocheDeportivo = Auto(motorTipo)\n",
    "cocheDeportivo.info()"
   ]
  },
  {
   "cell_type": "markdown",
   "metadata": {},
   "source": [
    "Muchos objetos solo necesitan algunos cuantos atributos, en este caso es mejor representarlos mediante un **Namedtuple**."
   ]
  },
  {
   "cell_type": "code",
   "execution_count": null,
   "metadata": {},
   "outputs": [],
   "source": [
    "from collections import namedtuple\n",
    "# En la funcion se define el nombre del named tuple\n",
    "# seguido de todos los atributos separados por espacios.\n",
    "Pato = namedtuple(\"Pato\", \"pico cola\")\n",
    "\n",
    "# Definimos un named tuple con los atributos requeridos\n",
    "objPato = Pato(\"afilado y amarillo\", \"larga\")\n",
    "print(objPato)\n",
    "print(\"Su pico es\", objPato.pico, \"y su cola es\", objPato.cola)\n",
    "\n",
    "# Tambien se puede definir a partir de un diccionario\n",
    "atributosPato = {\"pico\":\"afilado y amarillo\", \"cola\": \"larga\"}\n",
    "objPatoDos = Pato(**atributosPato)\n",
    "print(objPatoDos)\n",
    "\n",
    "# O mediante argumentos keyword\n",
    "objPatoTres = Pato(pico=\"afilado y amarillo\", cola=\"larga\")\n",
    "print(objPatoTres)"
   ]
  }
 ],
 "metadata": {
  "kernelspec": {
   "display_name": "Python 3",
   "language": "python",
   "name": "python3"
  },
  "language_info": {
   "codemirror_mode": {
    "name": "ipython",
    "version": 3
   },
   "file_extension": ".py",
   "mimetype": "text/x-python",
   "name": "python",
   "nbconvert_exporter": "python",
   "pygments_lexer": "ipython3",
   "version": "3.7.1"
  },
  "varInspector": {
   "cols": {
    "lenName": 16,
    "lenType": 16,
    "lenVar": 40
   },
   "kernels_config": {
    "python": {
     "delete_cmd_postfix": "",
     "delete_cmd_prefix": "del ",
     "library": "var_list.py",
     "varRefreshCmd": "print(var_dic_list())"
    },
    "r": {
     "delete_cmd_postfix": ") ",
     "delete_cmd_prefix": "rm(",
     "library": "var_list.r",
     "varRefreshCmd": "cat(var_dic_list()) "
    }
   },
   "types_to_exclude": [
    "module",
    "function",
    "builtin_function_or_method",
    "instance",
    "_Feature"
   ],
   "window_display": false
  }
 },
 "nbformat": 4,
 "nbformat_minor": 2
}
