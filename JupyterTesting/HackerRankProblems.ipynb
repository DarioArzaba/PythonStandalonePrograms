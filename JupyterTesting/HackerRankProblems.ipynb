{
 "cells": [
  {
   "cell_type": "markdown",
   "metadata": {
    "Collapsed": "false"
   },
   "source": [
    "## Matematicas"
   ]
  },
  {
   "cell_type": "code",
   "execution_count": 3,
   "metadata": {
    "Collapsed": "false"
   },
   "outputs": [],
   "source": [
    "import math"
   ]
  },
  {
   "cell_type": "markdown",
   "metadata": {
    "Collapsed": "false"
   },
   "source": [
    "### 1 Find the Point\n",
    "\n",
    "Considera dos puntos **P** y **Q**. El punto inversion o refleccion **R** es el punto **P** si se rota 180 grados alredor de **Q**. Dados una serie de puntos P (Px, Py) y Q (Qx, Qy) generar una serie de puntos R (Rx, Ry). El input del programa es el numero de puntos **N** seguido de las coordenadas de P y de Q. El output son las coordenadas de R para cada par de puntos P y Q. Limitarse de 1 a 15 pares y con valores de -100 a 100 por pares."
   ]
  },
  {
   "cell_type": "code",
   "execution_count": 155,
   "metadata": {
    "Collapsed": "false",
    "jupyter": {
     "source_hidden": true
    }
   },
   "outputs": [
    {
     "name": "stdin",
     "output_type": "stream",
     "text": [
      "Nn.\n",
      " 2\n",
      "px py qx qy\n",
      " 0 0 1 1\n"
     ]
    },
    {
     "name": "stdout",
     "output_type": "stream",
     "text": [
      "[2, 2]\n"
     ]
    },
    {
     "name": "stdin",
     "output_type": "stream",
     "text": [
      "px py qx qy\n",
      " 1 1 2 2\n"
     ]
    },
    {
     "name": "stdout",
     "output_type": "stream",
     "text": [
      "[3, 3]\n"
     ]
    }
   ],
   "source": [
    "def findPoint(px, py, qx, qy):\n",
    "    # La inversion alrededor del origen simplemente es el negativo del numero\n",
    "    # Para todos los demas casos es 2 veces el eje mas el negativo del numero.\n",
    "    if qx != 0 and qy != 0:\n",
    "        rx = (2*qx)-px\n",
    "        ry = (2*qy)-py\n",
    "    else:\n",
    "        rx = -px\n",
    "        ry = -py\n",
    "    return [rx, ry]\n",
    "\n",
    "n = int(input(\"Nn.\\n\"))\n",
    "for n_itr in range(n):\n",
    "    pxPyQxQy = input(\"px py qx qy\\n\").split()\n",
    "    px = int(pxPyQxQy[0])\n",
    "    py = int(pxPyQxQy[1])\n",
    "    qx = int(pxPyQxQy[2])\n",
    "    qy = int(pxPyQxQy[3])\n",
    "    result = findPoint(px, py, qx, qy)\n",
    "    print(result)"
   ]
  },
  {
   "cell_type": "markdown",
   "metadata": {
    "Collapsed": "false"
   },
   "source": [
    "### 2 Handshake\n",
    "\n",
    "En cada sala de conferencias hay un numero de personas **N** y todos saludan una sola vez a todos los demas. El input del programa es el numero de salas de conferencias **T** seguido del numero de personas **T** en cada cuarto. Calcular el numero de saludos **R** que se realizaron en cada sala. Limitarse de 1 a 1000 cuartos y con valores de 0 a 1E6 por sala."
   ]
  },
  {
   "cell_type": "code",
   "execution_count": 154,
   "metadata": {
    "Collapsed": "false",
    "jupyter": {
     "source_hidden": true
    }
   },
   "outputs": [
    {
     "name": "stdin",
     "output_type": "stream",
     "text": [
      "Nt.\n",
      " 2\n",
      "N \n",
      " 1\n"
     ]
    },
    {
     "name": "stdout",
     "output_type": "stream",
     "text": [
      "0\n"
     ]
    },
    {
     "name": "stdin",
     "output_type": "stream",
     "text": [
      "N \n",
      " 2\n"
     ]
    },
    {
     "name": "stdout",
     "output_type": "stream",
     "text": [
      "1\n"
     ]
    }
   ],
   "source": [
    "def handshake(n):\n",
    "    # La primer persona realiza n-1 saludos\n",
    "    # Cada nueva persona realiza un saludo menos que la anterior.\n",
    "    # El resultado es la suma de los saludos de todos los asistentes.\n",
    "    p = range(n-1, 0, -1)\n",
    "    return sum(p)\n",
    "\n",
    "t = int(input(\"Nt.\\n\"))\n",
    "for t_itr in range(t):\n",
    "    n = int(input(\"N \\n\"))\n",
    "    result = handshake(n)\n",
    "    print(result)"
   ]
  },
  {
   "cell_type": "markdown",
   "metadata": {
    "Collapsed": "false"
   },
   "source": [
    "### 3 Minimum Heigh Triangle\n",
    "\n",
    "Dada la base **b** y la area **a** de un triangulo, calcular la altura **h** minima posible (en realidad es la unica posible). Limitarse de 1 a 1E6 para la base y la area."
   ]
  },
  {
   "cell_type": "code",
   "execution_count": 153,
   "metadata": {
    "Collapsed": "false",
    "jupyter": {
     "source_hidden": true
    }
   },
   "outputs": [
    {
     "name": "stdin",
     "output_type": "stream",
     "text": [
      "b a\n",
      " 12 100\n"
     ]
    },
    {
     "name": "stdout",
     "output_type": "stream",
     "text": [
      "17\n"
     ]
    }
   ],
   "source": [
    "def lowestTriangle(base, area):\n",
    "    # Dada la formula para el area de un triangulo solo existe un unico valor de h.\n",
    "    return math.ceil((2*area)/base)\n",
    "    \n",
    "base, area = input(\"b a\\n\").strip().split(' ')\n",
    "base, area = [int(base), int(area)]\n",
    "height = lowestTriangle(base, area)\n",
    "print(height)"
   ]
  },
  {
   "cell_type": "markdown",
   "metadata": {
    "Collapsed": "false"
   },
   "source": [
    "### 4 Army Game\n",
    "\n",
    "Dada una reja de **n** filas y **m** columnas, sabemos que un paquete completa 4 celdas cuando se pone en su esquina comun, 2 cuando se pone en su esquina comun y 1 cuando se pone en cualquier otro lugar de la reja. Calcular el minimo numero de paquetes que completan toda la reja. Limitarse de 0 a 1000 para n y m."
   ]
  },
  {
   "cell_type": "code",
   "execution_count": 152,
   "metadata": {
    "Collapsed": "false",
    "jupyter": {
     "source_hidden": true
    }
   },
   "outputs": [
    {
     "name": "stdin",
     "output_type": "stream",
     "text": [
      "n m \n",
      " 2 2\n"
     ]
    },
    {
     "name": "stdout",
     "output_type": "stream",
     "text": [
      "1\n"
     ]
    }
   ],
   "source": [
    "def gameWithCells(n, m):\n",
    "    # Si el numero de filas o columnas es impar es  igual a si es par\n",
    "    # Cada paquete completa 4 celdas como maximo por lo que el resultado es (n*m/4).\n",
    "    if n % 2 != 0:\n",
    "        n += 1\n",
    "    if m % 2 != 0:\n",
    "        m += 1\n",
    "    return int((n/2)*(m/2))\n",
    "        \n",
    "nm = input(\"n m \\n\").split()\n",
    "n = int(nm[0])\n",
    "m = int(nm[1])\n",
    "result = gameWithCells(n, m)\n",
    "print(result)"
   ]
  },
  {
   "cell_type": "markdown",
   "metadata": {
    "Collapsed": "false"
   },
   "source": [
    "### 5 Leonardo's Prime Factors\n",
    "\n"
   ]
  },
  {
   "cell_type": "markdown",
   "metadata": {
    "Collapsed": "false"
   },
   "source": [
    "Dado un numero **n**, calcular el numero maximo de primos cuyo factor da cualquier numero dentro del intervalo entre 1 y n. En otras palabras si multiplicamos los numeros primos cual es el numero maximo de factores antes de que el producto final sea mayor que **n**."
   ]
  },
  {
   "cell_type": "code",
   "execution_count": 151,
   "metadata": {
    "Collapsed": "false",
    "jupyter": {
     "source_hidden": true
    }
   },
   "outputs": [
    {
     "name": "stdin",
     "output_type": "stream",
     "text": [
      "Nq.\n",
      " 6\n",
      "n\n",
      " 1\n"
     ]
    },
    {
     "name": "stdout",
     "output_type": "stream",
     "text": [
      "0\n"
     ]
    },
    {
     "name": "stdin",
     "output_type": "stream",
     "text": [
      "n\n",
      " 2\n"
     ]
    },
    {
     "name": "stdout",
     "output_type": "stream",
     "text": [
      "1\n"
     ]
    },
    {
     "name": "stdin",
     "output_type": "stream",
     "text": [
      "n\n",
      " 3\n"
     ]
    },
    {
     "name": "stdout",
     "output_type": "stream",
     "text": [
      "1\n"
     ]
    },
    {
     "name": "stdin",
     "output_type": "stream",
     "text": [
      "n\n",
      " 500\n"
     ]
    },
    {
     "name": "stdout",
     "output_type": "stream",
     "text": [
      "4\n"
     ]
    },
    {
     "name": "stdin",
     "output_type": "stream",
     "text": [
      "n\n",
      " 5000\n"
     ]
    },
    {
     "name": "stdout",
     "output_type": "stream",
     "text": [
      "5\n"
     ]
    },
    {
     "name": "stdin",
     "output_type": "stream",
     "text": [
      "n\n",
      " 100000000\n"
     ]
    },
    {
     "name": "stdout",
     "output_type": "stream",
     "text": [
      "8\n"
     ]
    }
   ],
   "source": [
    "def primeCount(n):\n",
    "    # Obtenemos una lista de primos y los vamos multiplicando.\n",
    "    # Detenemos el contador cuando el resultado es mayor a n.\n",
    "    primeList = [2,3,5,7,11,13,17,19,23,29,31,37,41,43,47,53,59]\n",
    "    count = -1\n",
    "    flag = True\n",
    "    while flag:\n",
    "        count += 1\n",
    "        product = 1\n",
    "        for i in range(0, count+1):\n",
    "            product *= primeList[i]\n",
    "        if n < product:\n",
    "            flag = False\n",
    "    return  count\n",
    "    \n",
    "q = int(input(\"Nq.\\n\"))\n",
    "for q_itr in range(q):\n",
    "    n = int(input(\"n\\n\"))\n",
    "    result = primeCount(n)\n",
    "    print(result)"
   ]
  },
  {
   "cell_type": "markdown",
   "metadata": {
    "Collapsed": "false"
   },
   "source": [
    "### 6 Connecting Towns\n",
    "\n",
    "Queremos ir del punto **T1** al punto **Tn**, sin embargo tenemos que pasar por un numero arbitrario de puntos (T2,T3, T4... Tn-1) para llegar a Tn. Entre cada par de puntos (T1 a T2) existe un numero arbitrario de caminos **N**. Si suponemos que tenemos que pasar por todos los puntos T y entre cada par de puntos hay N caminos calcular la cantidad de caminos distintos que se pueden tomar para pasar de T1 a Tn."
   ]
  },
  {
   "cell_type": "code",
   "execution_count": 149,
   "metadata": {
    "Collapsed": "false",
    "jupyter": {
     "source_hidden": true
    }
   },
   "outputs": [
    {
     "name": "stdin",
     "output_type": "stream",
     "text": [
      "Nt. \n",
      " 1\n",
      "t. N1...Nn.\n",
      " 4\n",
      " 2 2 2\n"
     ]
    },
    {
     "name": "stdout",
     "output_type": "stream",
     "text": [
      "8\n"
     ]
    }
   ],
   "source": [
    "def connectingTowns(n, routes):\n",
    "    # Simplemente vamos multiplicando el numero de caminos entre cada punto. \n",
    "    # El problema nos pide que obtengamos el modulo (1234567) al pasar a un nuevo punto.\n",
    "    totalRoutes = 1\n",
    "    towns = range(n-1)\n",
    "    for town in towns:\n",
    "        totalRoutes *= routes[town]\n",
    "        totalRoutes %= 1234567 \n",
    "    return totalRoutes\n",
    "\n",
    "t = int(input(\"Nt. \\n\"))\n",
    "for t_itr in range(t):\n",
    "    n = int(input(\"t. N1...Nn.\\n\"))\n",
    "    routes = list(map(int, input().rstrip().split()))\n",
    "    result = connectingTowns(n, routes)\n",
    "    print(result)"
   ]
  },
  {
   "cell_type": "markdown",
   "metadata": {
    "Collapsed": "false"
   },
   "source": [
    "### 7 Cutting Paper Squares\n",
    "\n",
    "Tenemos un papel con una reja de **n** filas por **m** columnas, queremos cortarlo para obtener cada celda individual de la reja realizando la menor cantidad de cortes posible. Calcular la menor cantidad de cortes **r** posibles."
   ]
  },
  {
   "cell_type": "code",
   "execution_count": 148,
   "metadata": {
    "Collapsed": "false",
    "jupyter": {
     "source_hidden": true
    }
   },
   "outputs": [
    {
     "name": "stdin",
     "output_type": "stream",
     "text": [
      "n m \n",
      " 3 1\n"
     ]
    },
    {
     "name": "stdout",
     "output_type": "stream",
     "text": [
      "2\n"
     ]
    }
   ],
   "source": [
    "def solve(n, m):\n",
    "    # Queremos obtener n*m cantidad de papeles.\n",
    "    # Cada corte aumenta nuestra cantidad de papeles en 1\n",
    "    # Si iniciamos con 1 papel y cada corte incrementa 1 papel \n",
    "    #     entonces para llegar a n*m papeles necesitamos realizar n*m-1 cortes.\n",
    "    return (n*m)-1\n",
    "\n",
    "nm = input(\"n m \\n\").split()\n",
    "n = int(nm[0])\n",
    "m = int(nm[1])\n",
    "result = solve(n, m)\n",
    "print(result)"
   ]
  },
  {
   "cell_type": "markdown",
   "metadata": {
    "Collapsed": "false"
   },
   "source": [
    "### 8 Sherlock and Moving Tiles\n",
    "\n",
    "Tenemos dos cuadrados de lado **L** puestos uno encima del otro. Existe un tercer cuadrado de area **Q** y lado **q** que representa el area en donde los cuadrados L1 y L2 se sobreponen, por tanto en tiempo **t=0** sabemos que el cuadrado de lado **q** es igual a los otros cuadrados ya que L2 esta completamente sobrepuesto a L1. Ambos comienzan a moverse sobre su diagonal a velocidades **S1** y **S2**. Si las velocidades son distintas despues de cierto tiempo **t** el area de **Q** disminuye hasta que L1 y L2 ya no se sobreponen. Dada una lista de areas del tercer cuadrado **Q1...Qn** calcular una lista de tiempos que necesitan pasar para llegar a dichas areas."
   ]
  },
  {
   "cell_type": "code",
   "execution_count": 146,
   "metadata": {
    "Collapsed": "false",
    "jupyter": {
     "source_hidden": true
    }
   },
   "outputs": [
    {
     "name": "stdin",
     "output_type": "stream",
     "text": [
      "L S1 S2. Number of Q. Q1...Qn. \n",
      " 10 1 2\n",
      " 2\n",
      " 50\n",
      " 100\n"
     ]
    },
    {
     "name": "stdout",
     "output_type": "stream",
     "text": [
      "[4.142135623730949, 0.0]\n"
     ]
    }
   ],
   "source": [
    "def movingTiles(l, s1, s2, queries):\n",
    "    # Si consideramos que un cuadrado se queda estatico el otro viaja a |s1-s2| de velocidad\n",
    "    # Si se mueven en diagonal por el teorema de pitagoras: d^2 = L^2+L^2 entonces d = sqrt(2 * L^2) entonces d = sqrt(2) * L\n",
    "    # Despejando el tiempo de d = (v)(t) entonces t = d/v\n",
    "    # El tiempo que tarda en recorrer toda la diagonal del cuadrado con lado L es t = (sqrt(2) * L)/|s1-s2|\n",
    "    # Las areas Q para distintos cuadrados y dada formula de area Q = q * q = q^2 entonces su lado q es igual a sqrt(Q)\n",
    "    # El tiempo que tarda en recorrer un segmento de la diagonal del cuadrado con area Q es t = (sqrt(2) * sqrt(Q))/|s1-s2|\n",
    "    # Finalmente el tiempo que tarda en llegar al segmento de la diagonal del cuadrado con area Q es t = (sqrt(2))*(L-sqrt(Q))/|s1-s2|\n",
    "    output = []\n",
    "    for Q in queries:\n",
    "        velocity = abs(s1-s2)\n",
    "        diagonalL = (2**0.5)*(l)\n",
    "        q = Q**0.5\n",
    "        diagonalQ = (2**0.5)*(q)\n",
    "        timeL = diagonalL/velocity\n",
    "        timeQ = diagonalQ/velocity\n",
    "        timeToQ = timeL - timeQ\n",
    "        output.append(float(format(timeToQ, '.20f')))\n",
    "    return output\n",
    "\n",
    "lS1S2 = input(\"L S1 S2. Number of Q. Q1...Qn. \\n\").split()\n",
    "l = int(lS1S2[0])\n",
    "s1 = int(lS1S2[1])\n",
    "s2 = int(lS1S2[2])\n",
    "queries_count = int(input())\n",
    "queries = []\n",
    "for _ in range(queries_count):\n",
    "    queries_item = int(input())\n",
    "    queries.append(queries_item)\n",
    "result = movingTiles(l, s1, s2, queries)\n",
    "print(result)"
   ]
  },
  {
   "cell_type": "markdown",
   "metadata": {
    "Collapsed": "false"
   },
   "source": [
    "### 9 Best Divisor\n",
    "\n",
    "Dado un numero **n** obtener su lista de divisores. Obtener la suma de digitos de cada divisor, el divisor cuya suma de digitos sea mayor es el mejor numero. En el caso de que dos o mas divisores den una suma de digitos igual y sea la mayor de todas entonces el **mejor numero** sera el menor de los divisores. "
   ]
  },
  {
   "cell_type": "code",
   "execution_count": 2,
   "metadata": {
    "Collapsed": "false",
    "jupyter": {
     "source_hidden": true
    }
   },
   "outputs": [
    {
     "name": "stdin",
     "output_type": "stream",
     "text": [
      "n \n",
      " 12\n"
     ]
    },
    {
     "name": "stdout",
     "output_type": "stream",
     "text": [
      "6\n"
     ]
    }
   ],
   "source": [
    "n = int(input(\"n \\n\"))\n",
    "# Find all divisors\n",
    "divisors=[]\n",
    "for x in range(1, n+1):\n",
    "    if n % x == 0:\n",
    "        divisors.append(x)\n",
    "# Find best divisor\n",
    "biggestDigitSum = 0\n",
    "for divisor in divisors:\n",
    "    digitSum = 0\n",
    "    divisorTemp = divisor\n",
    "    while divisorTemp > 0:\n",
    "        # Extract last digit\n",
    "        lastDigit = divisorTemp % 10\n",
    "        # Delete last digit until 0\n",
    "        divisorTemp = divisorTemp // 10\n",
    "        # Sum last digit\n",
    "        digitSum += lastDigit\n",
    "    # If digitSum is equal this does not trigger\n",
    "    # Meaning that we keep the smallest divisor number when digit sums are equal\n",
    "    if digitSum > biggestDigitSum:\n",
    "        biggestDigitSum = digitSum\n",
    "        bestDivisor = divisor\n",
    "print(bestDivisor)"
   ]
  },
  {
   "cell_type": "markdown",
   "metadata": {
    "Collapsed": "false"
   },
   "source": [
    "### 10 Restaurant\n",
    "\n",
    "Dada una reja de **l** filas por **b** columnas. Si cortamos la reja en cuadrados perfectos calcular la minima cantidad de cuadrados en la que podemos cortar la reja sin que sobren celdas. Si la reja ya es un cuadrado (l=b) no se necesitan realizar cortes y la respuesta es 1."
   ]
  },
  {
   "cell_type": "code",
   "execution_count": 24,
   "metadata": {
    "Collapsed": "false",
    "jupyter": {
     "source_hidden": true
    }
   },
   "outputs": [
    {
     "name": "stdin",
     "output_type": "stream",
     "text": [
      "Nt\n",
      " 1\n",
      "l b\n",
      " 3 4\n"
     ]
    },
    {
     "name": "stdout",
     "output_type": "stream",
     "text": [
      "12\n"
     ]
    }
   ],
   "source": [
    "def restaurant(l, b):\n",
    "    # Visto de otra manera es igual a (l*b)/(qcd(l,b))**2\n",
    "    numberSquares = 0\n",
    "    if l == b:\n",
    "        numberSquares = 1\n",
    "    else:\n",
    "        totalArea = l*b\n",
    "        maxSide = 0\n",
    "        minSide = min(l,b)\n",
    "        for i in range(1, minSide+1):\n",
    "            # If Greatest Common Divisor (gcd)\n",
    "            # Then i is the maxSide without leftovers\n",
    "            if l%i == 0 and b%i == 0:\n",
    "                # Es importante obtener el numero de cuadrados individualmente\n",
    "                # De lo contrario se podrian realizar cortes imposibles fisicamente\n",
    "                maxSideL = l//i\n",
    "                maxSideB = b//i\n",
    "        numberSquares = maxSideL*maxSideB\n",
    "    return int(numberSquares)\n",
    "\n",
    "t = int(input(\"Nt\\n\"))\n",
    "for t_itr in range(t):\n",
    "    lb = input(\"l b\\n\").split()\n",
    "    l = int(lb[0])\n",
    "    b = int(lb[1])\n",
    "    result = restaurant(l, b)\n",
    "    print(result)"
   ]
  },
  {
   "cell_type": "markdown",
   "metadata": {
    "Collapsed": "false"
   },
   "source": [
    "### 11 Reverse Game\n",
    "\n",
    "Dadas **N** pelotas numeradas de N0 a N-1 se invierte el orden de las pelotas, despues se vuelven a invertir todas las pelotas pero iniciando desde N1 y se repite aumentando la pelota desde la que se inicia hasta llegar a la ultima. Despues se pide el numero de la pelota en **K** lugar de la lista final. Calcular el numero de la pelota en K."
   ]
  },
  {
   "cell_type": "code",
   "execution_count": 1,
   "metadata": {
    "Collapsed": "false",
    "jupyter": {
     "source_hidden": true
    }
   },
   "outputs": [
    {
     "name": "stdin",
     "output_type": "stream",
     "text": [
      "Nt. \n",
      " 2\n",
      "n k \n",
      " 3 1\n"
     ]
    },
    {
     "name": "stdout",
     "output_type": "stream",
     "text": [
      "2\n"
     ]
    },
    {
     "name": "stdin",
     "output_type": "stream",
     "text": [
      "n k \n",
      " 5 2\n"
     ]
    },
    {
     "name": "stdout",
     "output_type": "stream",
     "text": [
      "4\n"
     ]
    }
   ],
   "source": [
    "def reverseGame(n, k):\n",
    "    # En vez de dar reversa a la lista con:\n",
    "    # a[2:3] = reversed(a[2:3])\n",
    "    # Simplemente imitamos el patron final de alternar el ultimo y el primero\n",
    "    # e irlos agregarlos a una nueva lista.\n",
    "    balls = list(range(0, n))\n",
    "    new = []\n",
    "    count = 0\n",
    "    for ball in range(0,n):\n",
    "        if ball%2 == 0: \n",
    "            count += 1\n",
    "            new.append(balls[len(balls)-count])\n",
    "        else:\n",
    "            new.append(balls[count-1])\n",
    "    return new.index(k)\n",
    "\n",
    "t = int(input(\"Nt. \\n\"))\n",
    "for t_itr in range(t):\n",
    "    nk = input(\"n k \\n\").split()\n",
    "    n = int(nk[0])\n",
    "    k = int(nk[1])\n",
    "    result = reverseGame(n, k)\n",
    "    print(result)"
   ]
  },
  {
   "cell_type": "markdown",
   "metadata": {
    "Collapsed": "false"
   },
   "source": [
    "### 12 Strange Grid\n",
    "\n",
    "Dada la siguiente serie expresar la formula dada la columna **c** y la fila **r** mediante *((0,2,4,6,8),(1,3,5,7,9),(10,12,14,16,18),(11,13,15,17,19),(20,22,24,26,28)).*"
   ]
  },
  {
   "cell_type": "code",
   "execution_count": 1,
   "metadata": {
    "Collapsed": "false",
    "jupyter": {
     "source_hidden": true
    }
   },
   "outputs": [
    {
     "name": "stdin",
     "output_type": "stream",
     "text": [
      "r c \n",
      " 6 3\n"
     ]
    },
    {
     "name": "stdout",
     "output_type": "stream",
     "text": [
      "25\n"
     ]
    }
   ],
   "source": [
    "def strangeGrid(r, c):\n",
    "    tempC = 0\n",
    "    for i in range(1,c):\n",
    "        tempC += 2\n",
    "    tempR = (r*10)-(((r//2)+1)*10) \n",
    "    # Otra forma es (r-1)*5 y se obtiene simplificando la formula\n",
    "    if r%2 == 0:\n",
    "        tempR += 1\n",
    "    return tempC+tempR\n",
    "\n",
    "rc = input(\"r c \\n\").split()\n",
    "r = int(rc[0])\n",
    "c = int(rc[1])\n",
    "result = strangeGrid(r, c)\n",
    "print(result)"
   ]
  },
  {
   "cell_type": "markdown",
   "metadata": {
    "Collapsed": "false"
   },
   "source": [
    "### 13 Sherlock and Divisors\n",
    "\n",
    "Dado un numero **n** calcular el numero de divisores de n que a su vez son divisibles entre 2.\n"
   ]
  },
  {
   "cell_type": "code",
   "execution_count": 39,
   "metadata": {
    "Collapsed": "false",
    "jupyter": {
     "source_hidden": true
    }
   },
   "outputs": [
    {
     "name": "stdin",
     "output_type": "stream",
     "text": [
      "Nt. \n",
      " 1\n",
      "n \n",
      " 100\n"
     ]
    },
    {
     "name": "stdout",
     "output_type": "stream",
     "text": [
      "6\n"
     ]
    }
   ],
   "source": [
    "def divisors(n):\n",
    "    count = 0\n",
    "    maxDiv = int(math.sqrt(n))+1\n",
    "    if n % 2 != 0:\n",
    "        return 0\n",
    "    for x in range(1, maxDiv):\n",
    "        if (n%x==0 and x%2==0):\n",
    "            count+=1\n",
    "        if (n%(n//x)==0 and (n//x)%2==0):\n",
    "            count+=1\n",
    "        if (x==n//x and x%2==0 and n%x==0):\n",
    "            count-=1\n",
    "    return count\n",
    "\n",
    "t = int(input(\"Nt. \\n\"))\n",
    "for t_itr in range(t):\n",
    "    n = int(input(\"n \\n\"))\n",
    "    result = divisors(n)\n",
    "    print(result)"
   ]
  },
  {
   "cell_type": "markdown",
   "metadata": {
    "Collapsed": "false"
   },
   "source": [
    "### 14 Halloween Party\n",
    "\n",
    "Dado un pedazo de chocolate infinito que se puede cortar **K** veces con cortes rectos infinitos y paralelos a dos ejes, cual es el maximo de unidades de chocolate que se pueden obtener mediante **K** cortes."
   ]
  },
  {
   "cell_type": "code",
   "execution_count": 50,
   "metadata": {
    "Collapsed": "false",
    "jupyter": {
     "source_hidden": true
    }
   },
   "outputs": [
    {
     "name": "stdin",
     "output_type": "stream",
     "text": [
      "Nt. \n",
      " 4\n",
      "k \n",
      " 5\n"
     ]
    },
    {
     "name": "stdout",
     "output_type": "stream",
     "text": [
      "6\n"
     ]
    },
    {
     "name": "stdin",
     "output_type": "stream",
     "text": [
      "k \n",
      " 6\n"
     ]
    },
    {
     "name": "stdout",
     "output_type": "stream",
     "text": [
      "9\n"
     ]
    },
    {
     "name": "stdin",
     "output_type": "stream",
     "text": [
      "k \n",
      " 7\n"
     ]
    },
    {
     "name": "stdout",
     "output_type": "stream",
     "text": [
      "12\n"
     ]
    },
    {
     "name": "stdin",
     "output_type": "stream",
     "text": [
      "k \n",
      " 8\n"
     ]
    },
    {
     "name": "stdout",
     "output_type": "stream",
     "text": [
      "16\n"
     ]
    }
   ],
   "source": [
    "def halloweenParty(k):\n",
    "    # Another formula is math.floor((k**2)/4)\n",
    "    # Just rounding the small error for odd k numbers\n",
    "    if k%2==0:\n",
    "        return int((k//2)**2)\n",
    "    else:\n",
    "        return int((k//2)*((k//2)+1))\n",
    "\n",
    "t = int(input(\"Nt. \\n\"))\n",
    "for t_itr in range(t):\n",
    "    k = int(input(\"k \\n\"))\n",
    "    result = halloweenParty(k)\n",
    "    print(result)"
   ]
  },
  {
   "cell_type": "markdown",
   "metadata": {
    "Collapsed": "false"
   },
   "source": [
    "### 15 Filling Jars\n",
    "\n",
    "Dados **N** frascos vacios de numerados de 1 a N se suman dulces. Para sumar dulces se toman los frascos inclusivos entre los indices **a** y **b**  y se agregan **k** dulces. Esta operacion de suma se puede realizar **M** veces. Obtener el promedio de dulces de los N frascos despues de M operaciones de suma."
   ]
  },
  {
   "cell_type": "code",
   "execution_count": 54,
   "metadata": {
    "Collapsed": "false",
    "jupyter": {
     "source_hidden": true
    }
   },
   "outputs": [
    {
     "name": "stdin",
     "output_type": "stream",
     "text": [
      "n m \n",
      " 5 3\n",
      "a b k \n",
      " 1 2 100\n",
      "a b k \n",
      " 2 5 100\n",
      "a b k \n",
      " 3 4 100\n"
     ]
    },
    {
     "name": "stdout",
     "output_type": "stream",
     "text": [
      "160\n"
     ]
    }
   ],
   "source": [
    "def solve(n, operations):\n",
    "    # No necesitamos tomar en cuenta el numero de frascos mas que para el promedio\n",
    "    # Podemos trabajar simplemente con el total de dulces que se agregan.\n",
    "    total_candies = 0\n",
    "    for operation in operations:\n",
    "        a = operation[0]\n",
    "        b = operation[1]\n",
    "        k = operation[2]\n",
    "        jars = (b-a)+1\n",
    "        total_candies += jars*k\n",
    "    return (total_candies//n)\n",
    "\n",
    "nm = input(\"n m \\n\").split()\n",
    "n = int(nm[0])\n",
    "m = int(nm[1])\n",
    "operations = []\n",
    "for _ in range(m):\n",
    "    operations.append(list(map(int, input(\"a b k \\n\").rstrip().split())))\n",
    "result = solve(n, operations)\n",
    "print(result)"
   ]
  },
  {
   "cell_type": "markdown",
   "metadata": {
    "Collapsed": "false"
   },
   "source": [
    "### 16 Sumar and the Floating Rocks\n",
    "\n",
    "Dado el punto P1 (x1,y1) y P2 (x2,y2) existe una linea recta entre ellos. Calcular los puntos que existen entre P1 y P2 que correspondan a valores enteneros tanto en x como en y."
   ]
  },
  {
   "cell_type": "code",
   "execution_count": 58,
   "metadata": {
    "Collapsed": "false",
    "jupyter": {
     "source_hidden": true
    }
   },
   "outputs": [
    {
     "name": "stdin",
     "output_type": "stream",
     "text": [
      "Nt \n",
      " 3 \n",
      "x1 y1 x2 y2 \n",
      " 0 2 4 0\n"
     ]
    },
    {
     "name": "stdout",
     "output_type": "stream",
     "text": [
      "1\n"
     ]
    },
    {
     "name": "stdin",
     "output_type": "stream",
     "text": [
      "x1 y1 x2 y2 \n",
      " 2 2 5 5 \n"
     ]
    },
    {
     "name": "stdout",
     "output_type": "stream",
     "text": [
      "2\n"
     ]
    },
    {
     "name": "stdin",
     "output_type": "stream",
     "text": [
      "x1 y1 x2 y2 \n",
      " 1 9 8 16\n"
     ]
    },
    {
     "name": "stdout",
     "output_type": "stream",
     "text": [
      "6\n"
     ]
    }
   ],
   "source": [
    "def solve(x1, y1, x2, y2):\n",
    "    # Hacemos la observacion de que la cantidad de puntos enteros es las unidades de distancia\n",
    "    # entre las diferencias de x y de y. Se resta 1 porque no incluimos P1 y P2.\n",
    "    if x1==x2:\n",
    "        return abs(y2-y1)-1\n",
    "    elif y1==y2:\n",
    "        return abs(x2-x1)-1    \n",
    "    return (abs(y2-y1)) // ((abs(y2-y1)) // (math.gcd(abs(y2-y1), abs(x2-x1)))) -1\n",
    "    \n",
    "t = int(input(\"Nt \\n\"))\n",
    "for t_itr in range(t):\n",
    "    x1Y1X2Y2 = input(\"x1 y1 x2 y2 \\n\").split()\n",
    "    x1 = int(x1Y1X2Y2[0])\n",
    "    y1 = int(x1Y1X2Y2[1])\n",
    "    x2 = int(x1Y1X2Y2[2])\n",
    "    y2 = int(x1Y1X2Y2[3])\n",
    "    result = solve(x1, y1, x2, y2)\n",
    "    print(result)"
   ]
  },
  {
   "cell_type": "markdown",
   "metadata": {
    "Collapsed": "false"
   },
   "source": [
    "### 17 Russian Peasant Exponential\n",
    "\n",
    "Dados **a**, **b**, **k** y **m** calcular $ (a+b\\cdot i)^k = c+d\\cdot i$ donde i es imaginario, dar como resultado dos numeros, **c % m** y **d % m**."
   ]
  },
  {
   "cell_type": "code",
   "execution_count": 64,
   "metadata": {
    "Collapsed": "false",
    "jupyter": {
     "source_hidden": true
    }
   },
   "outputs": [
    {
     "name": "stdin",
     "output_type": "stream",
     "text": [
      "Nq \n",
      " 1\n",
      "a b k m \n",
      " 8 2 10 1000000000\n"
     ]
    },
    {
     "name": "stdout",
     "output_type": "stream",
     "text": [
      "(880332800, 927506432)\n"
     ]
    }
   ],
   "source": [
    "def solve(a, b, k, m):\n",
    "    if k == 1:\n",
    "        return a%m, b%m\n",
    "    else:\n",
    "        c = ((a**2)%m - (b**2)%m) %m\n",
    "        d = (2*a*b) %m\n",
    "        x,y = solve(c, d, k//2, m)\n",
    "        if k%2 != 0:\n",
    "            e = (a*x - b*y) %m\n",
    "            f = (a*y + b*x) %m\n",
    "            x,y=e,f\n",
    "        return x,y\n",
    "\n",
    "q = int(input(\"Nq \\n\"))\n",
    "for q_itr in range(q):\n",
    "    abkm = input(\"a b k m \\n\").split()\n",
    "    a = int(abkm[0])\n",
    "    b = int(abkm[1])\n",
    "    k = int(abkm[2])\n",
    "    m = int(abkm[3])\n",
    "    result = solve(a, b, k, m)\n",
    "    print(result)"
   ]
  },
  {
   "cell_type": "markdown",
   "metadata": {
    "Collapsed": "false"
   },
   "source": [
    "### 18 Most Distant\n",
    "\n",
    "Dados **N** puntos en un espacio 2D calcular distancia entre dos puntos mas distantes. Todos los puntos tienen que estar sobre los ejes X o Y."
   ]
  },
  {
   "cell_type": "code",
   "execution_count": 73,
   "metadata": {
    "Collapsed": "false",
    "jupyter": {
     "source_hidden": true
    }
   },
   "outputs": [
    {
     "name": "stdin",
     "output_type": "stream",
     "text": [
      "Np \n",
      " 4\n",
      "x y \n",
      " -1 0\n",
      "x y \n",
      " 1 0\n",
      "x y \n",
      " 0 1\n",
      "x y \n",
      " 0 -1\n"
     ]
    },
    {
     "name": "stdout",
     "output_type": "stream",
     "text": [
      "2\n"
     ]
    }
   ],
   "source": [
    "def solve(coordinates):\n",
    "    maxX, maxY, minX, minY = 0, 0, 0, 0\n",
    "    for point in coordinates:\n",
    "        if maxX < point[0]:\n",
    "            maxX = point[0]\n",
    "        if maxY < point[1]:\n",
    "            maxY = point[1]\n",
    "        if minX > point[0]:\n",
    "            minX = point[0]\n",
    "        if minY > point[1]:\n",
    "            minY = point[1]\n",
    "    dist_minX_maxX = maxX - minX\n",
    "    dist_minY_maxY = maxY - minY\n",
    "    dist_maxX_maxY = math.hypot(maxX, maxY)\n",
    "    dist_minX_minY = math.hypot(minX, minY)\n",
    "    dist_minX_maxY = math.hypot(minX, maxY)\n",
    "    dist_maxX_minY = math.hypot(maxX, minY)\n",
    "    all_dist = [dist_minX_maxX, dist_minY_maxY, dist_maxX_maxY, dist_minX_minY, dist_minX_maxY, dist_maxX_minY]\n",
    "    return max(all_dist)\n",
    "        \n",
    "n = int(input(\"Np \\n\"))\n",
    "coordinates = []\n",
    "for _ in range(n):\n",
    "    coordinates.append(list(map(int, input(\"x y \\n\").rstrip().split())))\n",
    "result = solve(coordinates)\n",
    "print(result)"
   ]
  },
  {
   "cell_type": "markdown",
   "metadata": {
    "Collapsed": "false"
   },
   "source": [
    "### 19 Possible Path\n",
    "\n",
    "Dado el punto **P** (a, b) y unicamente con las 4 operacion (a+b, b), (a, a+b), (a-b, b), (a, b-a) determinar si es posible llegar a otro punto X dado por (x,y)."
   ]
  },
  {
   "cell_type": "code",
   "execution_count": 75,
   "metadata": {
    "Collapsed": "false",
    "jupyter": {
     "source_hidden": true
    }
   },
   "outputs": [
    {
     "name": "stdin",
     "output_type": "stream",
     "text": [
      "Nt \n",
      " 3\n",
      "a b x y \n",
      " 1 1 2 3\n"
     ]
    },
    {
     "name": "stdout",
     "output_type": "stream",
     "text": [
      "YES\n"
     ]
    },
    {
     "name": "stdin",
     "output_type": "stream",
     "text": [
      "a b x y \n",
      " 2 1 2 3\n"
     ]
    },
    {
     "name": "stdout",
     "output_type": "stream",
     "text": [
      "YES\n"
     ]
    },
    {
     "name": "stdin",
     "output_type": "stream",
     "text": [
      "a b x y \n",
      " 3 3 1 1\n"
     ]
    },
    {
     "name": "stdout",
     "output_type": "stream",
     "text": [
      "NO\n"
     ]
    }
   ],
   "source": [
    "def solve(a, b, x, y):\n",
    "    # Es fundamental observar que las 4 operaciones son equivalentes al GCD.\n",
    "    # gcd(a,b) = gcd(a + m * b, b) en donde m solo puede ser 1 o -1 \n",
    "    # Por lo tanto para que sea posible el traslado de P a X tienen que tener el mismo gcd \n",
    "    if math.gcd(a,b) == math.gcd(x,y):\n",
    "        return \"YES\"\n",
    "    else:\n",
    "        return \"NO\"\n",
    "\n",
    "t = int(input(\"Nt \\n\"))\n",
    "for t_itr in range(t):\n",
    "    abxy = input(\"a b x y \\n\").split()\n",
    "    a = int(abxy[0])\n",
    "    b = int(abxy[1])\n",
    "    x = int(abxy[2])\n",
    "    y = int(abxy[3])\n",
    "    result = solve(a, b, x, y)\n",
    "    print(result)"
   ]
  },
  {
   "cell_type": "markdown",
   "metadata": {
    "Collapsed": "false"
   },
   "source": [
    "## Algorithms"
   ]
  },
  {
   "cell_type": "markdown",
   "metadata": {
    "Collapsed": "false"
   },
   "source": [
    "### 1 Plus Minus\n",
    "\n",
    "Calcular el radio de elementos positivos, negativos y cero comparado con el total de los elementos en una lista de numeros."
   ]
  },
  {
   "cell_type": "code",
   "execution_count": 76,
   "metadata": {
    "Collapsed": "false",
    "jupyter": {
     "source_hidden": true
    }
   },
   "outputs": [
    {
     "name": "stdin",
     "output_type": "stream",
     "text": [
      "Nn \n",
      " 6\n",
      "i1...in -4 3 -9 0 4 1\n"
     ]
    },
    {
     "name": "stdout",
     "output_type": "stream",
     "text": [
      "0.5\n",
      "0.3333333333333333\n",
      "0.16666666666666666\n"
     ]
    }
   ],
   "source": [
    "def plusMinus(arr):\n",
    "    positive = sum(x > 0 for x in arr) / len(arr)\n",
    "    negative = sum(x < 0 for x in arr) / len(arr)\n",
    "    zero = sum(x == 0 for x in arr) / len(arr)\n",
    "    print(positive, negative, zero, sep=\"\\n\")\n",
    "\n",
    "n = int(input(\"Nn \\n\"))\n",
    "arr = list(map(int, input(\"i1...in\").rstrip().split()))\n",
    "plusMinus(arr)"
   ]
  }
 ],
 "metadata": {
  "kernelspec": {
   "display_name": "Python 3",
   "language": "python",
   "name": "python3"
  },
  "language_info": {
   "codemirror_mode": {
    "name": "ipython",
    "version": 3
   },
   "file_extension": ".py",
   "mimetype": "text/x-python",
   "name": "python",
   "nbconvert_exporter": "python",
   "pygments_lexer": "ipython3",
   "version": "3.7.3"
  }
 },
 "nbformat": 4,
 "nbformat_minor": 4
}
