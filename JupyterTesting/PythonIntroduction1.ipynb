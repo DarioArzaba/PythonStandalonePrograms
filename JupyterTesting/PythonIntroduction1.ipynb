{
 "cells": [
  {
   "cell_type": "markdown",
   "metadata": {},
   "source": [
    "# Python"
   ]
  },
  {
   "cell_type": "markdown",
   "metadata": {},
   "source": [
    "## Introducción"
   ]
  },
  {
   "cell_type": "markdown",
   "metadata": {},
   "source": [
    "Python es un lenguaje dinamico, interpretado, facil de aprender y utilizar.\n",
    "\n",
    "Puedes usar el interprete interactivo o ejecutar scripts. Para iniciar el interprete se ejecuta el programa `python` desde una terminal. Para ejecutar un script se añade el nombre del archivo en el directorio activo `python script.py`.\n",
    "\n",
    "Nota: En el modo interactivo el resultado anterior de un calculo se guarda automaticamente en la variable `_`."
   ]
  },
  {
   "cell_type": "code",
   "execution_count": null,
   "metadata": {},
   "outputs": [],
   "source": [
    "# Filosofia de Python\n",
    "import this"
   ]
  },
  {
   "cell_type": "code",
   "execution_count": null,
   "metadata": {},
   "outputs": [],
   "source": [
    "# Suma\n",
    "2+2"
   ]
  },
  {
   "cell_type": "code",
   "execution_count": null,
   "metadata": {},
   "outputs": [],
   "source": [
    "# Usar el resultado anterior\n",
    "_+2"
   ]
  },
  {
   "cell_type": "markdown",
   "metadata": {},
   "source": [
    "## Variables "
   ]
  },
  {
   "cell_type": "markdown",
   "metadata": {},
   "source": [
    "En python todo **tipo de dato** es un objeto con valores asociados. Los tipos de datos por defecto son Boolean, Integer, Float y String. \n",
    "\n",
    "- **Bool**: Valores True o Flase, int 1 o 0.\n",
    "- **Int**: Número entero, en Python 2 existia int de 32 bits y long de 64 bits, en Python 3 desaparece long e int es dinamico.\n",
    "- **Float**: Número decimal.\n",
    "- **Str**: Secuencia de caracteres.\n",
    "\n",
    "El **valor** de todo tipo de dato pueden ser mutables o inmutables, sin embargo el tipo de dato asignado es inmutable, esto significa que Python es Strongly Typed.\n",
    "\n",
    "Las **variables** son solo identificadores que se refieren a un objeto en la memoria.\n",
    "\n",
    "Los **identificadores** pueden contener letras minusculas, mayusculas, numeros y guines bajo. No pueden comenzar con un número.\n",
    "\n",
    "Las **clases** son las instrucciones que definen un tipo de dato."
   ]
  },
  {
   "cell_type": "code",
   "execution_count": null,
   "metadata": {},
   "outputs": [],
   "source": [
    "# Imprimir tipos de dato\n",
    "def printDataType(value):\n",
    "    data = value\n",
    "    dataType = type(data)\n",
    "    print(dataType, \"value is\", data)\n",
    "\n",
    "printDataType(True)\n",
    "printDataType(1)\n",
    "printDataType(1.0)\n",
    "printDataType(\"Hello World!\")"
   ]
  },
  {
   "cell_type": "markdown",
   "metadata": {},
   "source": [
    "Existe una lista de palabras reservadas (keywords) por Python que no se pueden utilizar como identificadores.\n",
    "\n",
    "| Palabras Reservadas | - | - | - | - | - | - | - | - |\n",
    "| --- | --- | --- | --- | --- | --- | --- | --- | --- |\n",
    "| False | True | None | and | class | continue | def | del | finally |\n",
    "| for | from | global | is | lambda | nonlocal | not | return | try |\n",
    "| while | with | as | assert | break | elif | else | except | if |\n",
    "| import | in | or | pass | raise | yield |\n",
    "\n",
    "Python cuenta con los siguientes operadores aritmeticos:"
   ]
  },
  {
   "cell_type": "code",
   "execution_count": null,
   "metadata": {},
   "outputs": [],
   "source": [
    "# Operadores Aritmeticos\n",
    "\n",
    "a = -2\n",
    "b = +3\n",
    "c = (((a + b - a) * a ) / (( a**b ) // a)) % b\n",
    "print(c)\n",
    "\n",
    "# Combinar // y % para entero y sobrante\n",
    "\n",
    "c = divmod(9,5)\n",
    "print(c)"
   ]
  },
  {
   "cell_type": "markdown",
   "metadata": {},
   "source": [
    "Podemos utilizar *Shorthand Notation* para actualizar rapidamente el valor de una variable:"
   ]
  },
  {
   "cell_type": "code",
   "execution_count": null,
   "metadata": {},
   "outputs": [],
   "source": [
    "# Shorthand Notation\n",
    "\n",
    "a = 2\n",
    "a += 2 # a = 4\n",
    "a *= 2 # a = 8\n",
    "a -= 2 # a = 6\n",
    "a /= 2 # a = 3.0\n",
    "a **= 2 # a = 9.0\n",
    "a //= 2 # a = 4.0\n",
    "a %= 2 # a = 0.0\n",
    "print(a)"
   ]
  },
  {
   "cell_type": "markdown",
   "metadata": {},
   "source": [
    "Cuando realizamos operaciones siguen un **orden de precedencia**. Cuando dos operadores tienen la misma importancia se evaluan de izquerda a derecha. Por lo general se utilizan parentesis para indicar el orden de las operaciones.\n",
    "\n",
    "| Orden de Precedencia | - |\n",
    "| --- | --- |\n",
    "| () | Parentesis |\n",
    "| x**n | Exponente |\n",
    "| +x, -x, ~x| Unitario mas, menos, bitwise NOT |\n",
    "| *, /, //, % | Multiplicacion, Division, Floor Division, Modulo |\n",
    "| + , - | Suma y resta |\n",
    "| <<, >> | Bitwise shift |\n",
    "| & | Bitwise AND |\n",
    "| ^ | Bitwise XOR |\n",
    "| | | Bitwise OR |\n",
    "| ==, !=, >, >=, <, <=, is, is not, in, not in | Comparisions, Identity, Membership operators\n",
    "| not | Logical NOT |\n",
    "| and | Logical AND |\n",
    "| or | Logical OR |\n",
    "\n",
    "Podemos cambiar la **base numerica** de un entero y **convertir** algunos tipos de datos utilizando la funcion `int(obj)`. Para convertir numeros con decimal utilizamos `float(obj)`."
   ]
  },
  {
   "cell_type": "code",
   "execution_count": null,
   "metadata": {},
   "outputs": [],
   "source": [
    "# Cambiar base de numero entero.\n",
    "\n",
    "decimal = 10\n",
    "binary = 0b10\n",
    "octal = 0o10\n",
    "hexadecimal = 0x10\n",
    "print(decimal, binary, octal, hexadecimal)\n",
    "pental = int('10', 5)\n",
    "print(pental)\n",
    "floatNumber = float('10.5')\n",
    "print(floatNumber)"
   ]
  },
  {
   "cell_type": "markdown",
   "metadata": {},
   "source": [
    "Los **strings** son un tipo de dato secuencial de caracteres. Son inmutables, una vez creados no se pueden modificar, sin embargo se pueden copiar a nuevo string. En Python 3 se busco incorporar Unicode. Para crearlos se utilizan comillas simples dobles o triples."
   ]
  },
  {
   "cell_type": "code",
   "execution_count": null,
   "metadata": {},
   "outputs": [],
   "source": [
    "# Ejemplos de string literals\n",
    "\n",
    "print(\"1\", '2', '', \n",
    "'''\n",
    "4\n",
    "-5\n",
    "--6''', \n",
    "\"\"\"\n",
    "---7\n",
    "----8\n",
    "-----9\n",
    "\"\"\")\n",
    "\n",
    "a = 1\n",
    "b = 2\n",
    "cuatroComas = (\",\" * 4)\n",
    "\n",
    "# print() aplica str() a todo lo que no sea un string. Luego ejecuta string interpolation\n",
    "\n",
    "print( str(a) + \" \" + cuatroComas + \" \" + str(b) )\n",
    "\n",
    "# Caracteres especiales\n",
    "\n",
    "escaparCaracteres = \" \\n \\\\ \\'Hello \\n \\tWorld!\\\" \"\n",
    "print(escaparCaracteres)\n",
    "\n",
    "# Indexar, copiar y slice valores de un string\n",
    "\n",
    "abecedario = 'abcdefghijklmnopqrstuvwxyz'\n",
    "primerLetra = abecedario[0]\n",
    "ultimaLetra = abecedario[-1]\n",
    "remplazarInicio = abecedario.replace('abcde', 'Inicio ')\n",
    "slicingAll = abecedario[:]\n",
    "print(primerLetra, ultimaLetra, remplazarInicio, slicingAll, sep='\\n', end='\\n\\n')\n",
    "\n",
    "FromStart = abecedario[10:]\n",
    "ToEnd = abecedario[:10]\n",
    "StartToEnd = abecedario[5:23]\n",
    "StartToEndByStep = abecedario[5:23:2]\n",
    "Reversed = abecedario[::-1]\n",
    "print(FromStart, ToEnd, StartToEnd, StartToEndByStep, Reversed, sep='\\n', end='\\n')\n",
    "\n",
    "# Longitud "
   ]
  },
  {
   "cell_type": "markdown",
   "metadata": {},
   "source": [
    "Para obtener la **longitud** de cualquier tipo de dato secuencial se utiliza la función `len(obj)`"
   ]
  },
  {
   "cell_type": "code",
   "execution_count": null,
   "metadata": {},
   "outputs": [],
   "source": [
    "a = \"12345\"\n",
    "print(len(a))"
   ]
  },
  {
   "cell_type": "markdown",
   "metadata": {},
   "source": [
    "Otras funciones del tipo de dato **String**:"
   ]
  },
  {
   "cell_type": "code",
   "execution_count": null,
   "metadata": {},
   "outputs": [],
   "source": [
    "string = 'One Two Three Four'\n",
    "Split = string.split() \n",
    "print(\"Split:\",Split)\n",
    "Join = ' '.join(Split) \n",
    "print(\"Join: \",Join)\n",
    "\n",
    "StartsWith = \"Starts with 'O': \" + str(string.startswith('O'))\n",
    "EndsWith = \"Ends with 'R': \" + str(string.endswith('R'))\n",
    "FirstOcurrance = \"First 'o' is at: \" + str(string.find('o'))\n",
    "LastOcurrance = \"Last 'o' is at: \" + str(string.rfind('o'))\n",
    "CountOcurrance = \"How many 'e': \" + str(string.count('e'))\n",
    "Alphanumeric = \"Alphanumeric?: \" + str(string.isalnum())\n",
    "DeleteOcurrances = \"Delete starting and ending 'Onruo': \" + string.strip('Onruo')\n",
    "Uppercase = \"To Upper: \" + string.upper()\n",
    "Lowercase = \"To Lower: \" + string.lower()\n",
    "SwapCase = \"Swap Case: \" + string.swapcase()\n",
    "CapitalizeFirst = \"Capitalize First Word: \" + string.lower().capitalize()\n",
    "CapitalizeAll = \"Capitalize All Words: \" + string.lower().title()\n",
    "Center = \"|\" + string.center(50) + \"|\"\n",
    "LeftJustify = \"|\" + string.ljust(50) + \"|\"\n",
    "RightJustify = \"|\" + string.rjust(50) + \"|\"\n",
    "ReplaceAll = \"Replace Two with Five: \" + string.replace('Two', 'Five')\n",
    "ReplaceEvery = \"Replace Two e with X: \" + string.replace('e', 'X', 2)\n",
    "\n",
    "print(StartsWith, EndsWith, FirstOcurrance, LastOcurrance, CountOcurrance,\n",
    "      Alphanumeric, DeleteOcurrances, Uppercase, Lowercase, SwapCase, \n",
    "      CapitalizeFirst, CapitalizeAll, Center, LeftJustify, RightJustify, ReplaceAll, ReplaceEvery, sep='\\n')"
   ]
  },
  {
   "cell_type": "markdown",
   "metadata": {},
   "source": [
    "## Arreglos"
   ]
  },
  {
   "cell_type": "markdown",
   "metadata": {},
   "source": [
    "Existen distintas formas de organizar los distintos tipos de datos basicos.\n",
    "\n",
    "Las **listas** son un arreglo mutable y variable de objectos. Se pueden reasignar, insertar y eliminar elementos facilmente. Todos los elementos tienen un orden determinado por un entero. Podemos regresar el valor de un elemento utilizando su indice pero si indexamos un indice mayor a la cantidad de elementos se genera una excepción."
   ]
  },
  {
   "cell_type": "code",
   "execution_count": null,
   "metadata": {},
   "outputs": [],
   "source": [
    "# Iniciar listas\n",
    "lista = [True, \"2\", 3.0, 4]\n",
    "listaVacia = list()\n",
    "listaCaracteres = list(\"Hello World!\")\n",
    "\n",
    "# Indexar y reasingar\n",
    "print(lista[-2], listaCaracteres[0])\n",
    "lista[2] = 5.0\n",
    "print(lista[2])\n",
    "\n",
    "# Listas de listas\n",
    "matriz = [[1,2],[3,4]]\n",
    "print(matriz[1][1])\n",
    "\n",
    "# Sublistas con slice's\n",
    "sublista = lista[2:]\n",
    "print(sublista)\n",
    "\n",
    "# Añadir, eliminar y combinar elementos\n",
    "lista.append(\"hello\")\n",
    "print(lista)\n",
    "lista.remove(\"hello\")\n",
    "print(lista)\n",
    "lista.extend([4, \"hey\", False])\n",
    "print(lista)\n",
    "lista.insert(2, 99)\n",
    "print(lista)\n",
    "del lista[2]\n",
    "print(lista)\n",
    "lista.pop()\n",
    "print(lista)\n",
    "valorEliminado = lista.pop(5)\n",
    "print(valorEliminado)\n",
    "indexValor = lista.index(5.0)\n",
    "del lista[indexValor]\n",
    "print(lista)\n",
    "\n",
    "# Preguntar si existe valor\n",
    "existeCuatro = 4 in lista\n",
    "print(existeCuatro)\n",
    "\n",
    "# Contar ocurrencias\n",
    "cuantosCuatros = lista.count(4)\n",
    "print(cuantosCuatros)\n",
    "\n",
    "# Ordenar\n",
    "listaNumerica = [2, 6, 3, 7, 8, 1, 0]\n",
    "listaString = listaCaracteres.copy()\n",
    "print(listaNumerica, listaString)\n",
    "listaNumerica.sort()\n",
    "listaString.sort()\n",
    "print(listaNumerica, listaString)\n",
    "copiaSorted = sorted( listaNumerica, reverse = True)\n",
    "print(copiaSorted)"
   ]
  },
  {
   "cell_type": "markdown",
   "metadata": {},
   "source": [
    "Los **tuples** son arreglos inmutables y generalmente del mismo tipo de objetos. Se pueden asignar multiples objetos a un tuple en una sola sentencia (tuple unpacking). Sus ventajas son que usan menos espacio, se pueden usar como llaves y como argumentos de funciones."
   ]
  },
  {
   "cell_type": "code",
   "execution_count": null,
   "metadata": {},
   "outputs": [],
   "source": [
    "tupleNuevo = ('One', 2, 'Three')\n",
    "tupleVacio = tuple()\n",
    "tupleDeLista = tuple([\"One\", \"One\", \"Two\"])\n",
    "print(tupleNuevo, tupleVacio, tupleDeLista)\n",
    "\n",
    "# Tuple packing y unpacking\n",
    "tupleNumerico = (1, 2, 3, 4)\n",
    "Uno, Dos, Tres, Cuatro = tupleNumerico\n",
    "print(Dos, Cuatro)"
   ]
  },
  {
   "cell_type": "markdown",
   "metadata": {},
   "source": [
    "Los **diccionarios** son similares a las listas pero su orden no importa y cada valor va asociado a una llave que permite acceder a su contenido. En otros lenguajes se denominan *hashes*, *hashmaps* o *associative arrays*. Se pueden generar mediante cualquier secuencia alternante de valores."
   ]
  },
  {
   "cell_type": "code",
   "execution_count": null,
   "metadata": {},
   "outputs": [],
   "source": [
    "diccionario = {\n",
    "    \"Perro\" : \"Guau\",\n",
    "    \"Gato\" : \"Miau\",\n",
    "    \"Cerdo\" : \"Oink\",\n",
    "    \"Ave\" : \"Pio\"\n",
    "}\n",
    "\n",
    "dictFromString = dict(Perro=\"Guau\", Gato=\"Miau\")\n",
    "dictFromMatrix = dict([[\"Cerdo\", \"Oink\"], [\"Ave\", \"Pio\"]])\n",
    "print(diccionario)\n",
    "print(dictFromString, dictFromMatrix)\n",
    "\n",
    "# Indexar, reasignar, combinar valores.\n",
    "diccionario[\"Ave\"] = \"Pio Pio Pio\"\n",
    "diccionario[\"Abeja\"] = \"Bzzz\"\n",
    "print(diccionario)\n",
    "dictFromString.update(dictFromMatrix)\n",
    "print(dictFromString)\n",
    "diccionarioCopia = dictFromMatrix.copy()\n",
    "print(diccionarioCopia)\n",
    "del diccionarioCopia[\"Cerdo\"]\n",
    "print(diccionarioCopia)\n",
    "diccionarioVacio = diccionarioCopia.clear()\n",
    "print(diccionarioCopia)\n",
    "existePerro = \"Perro\" in dictFromString\n",
    "print(existePerro)\n",
    "llaves = dictFromString.keys()\n",
    "print(llaves, type(llaves))\n",
    "llaves = list(dictFromString.keys())\n",
    "print(llaves, type(llaves))\n",
    "valores = dictFromString.values()\n",
    "print(valores, type(valores))\n",
    "valores = list(dictFromString.values())\n",
    "print(valores, type(valores))\n",
    "pares = list(dictFromString.items())\n",
    "print(pares)\n",
    "\n",
    "gato = dictFromString.get(\"Gato\")\n",
    "print(gato)\n",
    "ballena = dictFromString.get(\"Ballena\")\n",
    "print(ballena)\n",
    "caballo = dictFromString.get(\"Caballo\", \"No existe\")\n",
    "print(caballo)\n",
    "\n",
    "# Para invertir las llaves por sus valores.\n",
    "# Asumiendo que los valores sean unicos.\n",
    "\n",
    "invertirDict = { value: key for key, value in dictFromString.items() }\n",
    "print(invertirDict)"
   ]
  },
  {
   "cell_type": "markdown",
   "metadata": {},
   "source": [
    "Un **Set** se utiliza cuando no importa el orden de una lista, los elementos son inmutables y se quieren evitar duplicados. Se puede considerar como un diccionario en donde las llaves no tienen un valor asociado. Las operaciones con Sets son validas en Python."
   ]
  },
  {
   "cell_type": "code",
   "execution_count": null,
   "metadata": {},
   "outputs": [],
   "source": [
    "setNumeros = {0,1,2,3}\n",
    "print(setNumeros, type(setNumeros))\n",
    "\n",
    "numerosFavoritos = {\n",
    "    'Dario': {0,1,2,3,4,5},\n",
    "    'Martha': {1,3,5},\n",
    "    'Carlos': {2,4},\n",
    "    'Majo': {2,3,5,6,7,8},\n",
    "}\n",
    "\n",
    "# Iterar cada llave (nombre) y set (favoritos) del diccionario (numerosFavoritos)\n",
    "# Si existe un 1 en el set (favoritos), imprimir la llave (nombre)\n",
    "\n",
    "for nombre, favoritos in numerosFavoritos.items():\n",
    "    if 1 in favoritos:\n",
    "        print(nombre)\n",
    "        \n",
    "# Si existe un 2 en el set pero no 0 o 8 en el set\n",
    "\n",
    "for nombre, favoritos in numerosFavoritos.items():\n",
    "    if 2 in favoritos and not (0 in favoritos or 8 in favoritos):\n",
    "        print(nombre)\n",
    "        \n",
    "# Operacion de intersección\n",
    "        \n",
    "for nombre, favoritos in numerosFavoritos.items():\n",
    "    if 2 in favoritos and not (favoritos & {0,8}):\n",
    "        print(nombre)"
   ]
  },
  {
   "cell_type": "markdown",
   "metadata": {},
   "source": [
    "Las operaciones basicas con Sets son validas en Python."
   ]
  },
  {
   "cell_type": "code",
   "execution_count": null,
   "metadata": {},
   "outputs": [],
   "source": [
    "numerosUno = {1, 2, 3, 4, 5}\n",
    "numerosDos = {4, 5, 6, 7, 8}\n",
    "numerosTres = {9, 10, 11}\n",
    "numerosCuatro = {1, 2, 3}\n",
    "\n",
    "# Todos los repetidos\n",
    "interseccion = numerosUno & numerosDos\n",
    "interseccionNinguno = numerosUno.intersection(numerosTres)\n",
    "print(interseccion, interseccionNinguno)\n",
    "\n",
    "# Todos los elementos de ambos con los repetidos\n",
    "union = numerosUno | numerosDos\n",
    "unionNinguno = numerosDos.union(numerosTres)\n",
    "print(union, unionNinguno)\n",
    "\n",
    "# Todos los del primero menos los repetidos\n",
    "diferencia = numerosUno - numerosDos\n",
    "diferenciaNinguno = numerosUno.difference(numerosCuatro)\n",
    "print(diferencia, diferenciaNinguno)\n",
    "\n",
    "# Todos los elementos de ambos sin los repetidos\n",
    "diferenciaSimetrica = numerosUno ^ numerosDos\n",
    "diferenciaSimetricaNinguno = numerosUno.symmetric_difference(numerosCuatro)\n",
    "print(diferenciaSimetrica, diferenciaSimetricaNinguno)\n",
    "\n",
    "# Verificar si es un Subset o un Superset\n",
    "verificarUno = numerosCuatro.issubset(numerosUno)\n",
    "verificarDos = numerosUno.issuperset(numerosCuatro)\n",
    "print(verificarUno, verificarDos)"
   ]
  }
 ],
 "metadata": {
  "kernelspec": {
   "display_name": "Python 3",
   "language": "python",
   "name": "python3"
  },
  "language_info": {
   "codemirror_mode": {
    "name": "ipython",
    "version": 3
   },
   "file_extension": ".py",
   "mimetype": "text/x-python",
   "name": "python",
   "nbconvert_exporter": "python",
   "pygments_lexer": "ipython3",
   "version": "3.7.1"
  },
  "varInspector": {
   "cols": {
    "lenName": 16,
    "lenType": 16,
    "lenVar": 40
   },
   "kernels_config": {
    "python": {
     "delete_cmd_postfix": "",
     "delete_cmd_prefix": "del ",
     "library": "var_list.py",
     "varRefreshCmd": "print(var_dic_list())"
    },
    "r": {
     "delete_cmd_postfix": ") ",
     "delete_cmd_prefix": "rm(",
     "library": "var_list.r",
     "varRefreshCmd": "cat(var_dic_list()) "
    }
   },
   "types_to_exclude": [
    "module",
    "function",
    "builtin_function_or_method",
    "instance",
    "_Feature"
   ],
   "window_display": false
  }
 },
 "nbformat": 4,
 "nbformat_minor": 2
}
